{
 "cells": [
  {
   "cell_type": "code",
   "execution_count": 1,
   "metadata": {},
   "outputs": [],
   "source": [
    "import pandas as pd\n",
    "import numpy as np\n",
    "import matplotlib.pyplot as plt\n",
    "\n",
    "from sklearn.model_selection import train_test_split, cross_val_score, LeaveOneOut\n",
    "\n",
    "from sklearn.cluster import KMeans"
   ]
  },
  {
   "cell_type": "markdown",
   "metadata": {},
   "source": [
    "## Template Data Science -- Hands On Machine Learning"
   ]
  },
  {
   "cell_type": "markdown",
   "metadata": {},
   "source": [
    "### Dados"
   ]
  },
  {
   "cell_type": "markdown",
   "metadata": {},
   "source": [
    "leitura de dados e escolha das colunas pra X e y"
   ]
  },
  {
   "cell_type": "code",
   "execution_count": 2,
   "metadata": {},
   "outputs": [],
   "source": [
    "dataset = pd.read_csv('data\\Social_Network_Ads.csv')"
   ]
  },
  {
   "cell_type": "code",
   "execution_count": 3,
   "metadata": {},
   "outputs": [
    {
     "data": {
      "text/html": [
       "<div>\n",
       "<style scoped>\n",
       "    .dataframe tbody tr th:only-of-type {\n",
       "        vertical-align: middle;\n",
       "    }\n",
       "\n",
       "    .dataframe tbody tr th {\n",
       "        vertical-align: top;\n",
       "    }\n",
       "\n",
       "    .dataframe thead th {\n",
       "        text-align: right;\n",
       "    }\n",
       "</style>\n",
       "<table border=\"1\" class=\"dataframe\">\n",
       "  <thead>\n",
       "    <tr style=\"text-align: right;\">\n",
       "      <th></th>\n",
       "      <th>User ID</th>\n",
       "      <th>Gender</th>\n",
       "      <th>Age</th>\n",
       "      <th>EstimatedSalary</th>\n",
       "      <th>Purchased</th>\n",
       "    </tr>\n",
       "  </thead>\n",
       "  <tbody>\n",
       "    <tr>\n",
       "      <th>0</th>\n",
       "      <td>15624510</td>\n",
       "      <td>Male</td>\n",
       "      <td>19</td>\n",
       "      <td>19000</td>\n",
       "      <td>0</td>\n",
       "    </tr>\n",
       "    <tr>\n",
       "      <th>1</th>\n",
       "      <td>15810944</td>\n",
       "      <td>Male</td>\n",
       "      <td>35</td>\n",
       "      <td>20000</td>\n",
       "      <td>0</td>\n",
       "    </tr>\n",
       "    <tr>\n",
       "      <th>2</th>\n",
       "      <td>15668575</td>\n",
       "      <td>Female</td>\n",
       "      <td>26</td>\n",
       "      <td>43000</td>\n",
       "      <td>0</td>\n",
       "    </tr>\n",
       "    <tr>\n",
       "      <th>3</th>\n",
       "      <td>15603246</td>\n",
       "      <td>Female</td>\n",
       "      <td>27</td>\n",
       "      <td>57000</td>\n",
       "      <td>0</td>\n",
       "    </tr>\n",
       "    <tr>\n",
       "      <th>4</th>\n",
       "      <td>15804002</td>\n",
       "      <td>Male</td>\n",
       "      <td>19</td>\n",
       "      <td>76000</td>\n",
       "      <td>0</td>\n",
       "    </tr>\n",
       "  </tbody>\n",
       "</table>\n",
       "</div>"
      ],
      "text/plain": [
       "    User ID  Gender  Age  EstimatedSalary  Purchased\n",
       "0  15624510    Male   19            19000          0\n",
       "1  15810944    Male   35            20000          0\n",
       "2  15668575  Female   26            43000          0\n",
       "3  15603246  Female   27            57000          0\n",
       "4  15804002    Male   19            76000          0"
      ]
     },
     "execution_count": 3,
     "metadata": {},
     "output_type": "execute_result"
    }
   ],
   "source": [
    "dataset.head()"
   ]
  },
  {
   "cell_type": "code",
   "execution_count": 4,
   "metadata": {},
   "outputs": [],
   "source": [
    "def data_info(data):        \n",
    "    info = pd.DataFrame()\n",
    "    info['var'] = data.columns\n",
    "    info['# missing'] = list(data.isnull().sum())\n",
    "    info['% missing'] = info['# missing'] / data.shape[0]\n",
    "    info['types'] = list(data.dtypes)\n",
    "    info['unique values'] = list(len(data[var].unique()) for var in data.columns)\n",
    "    \n",
    "    return info"
   ]
  },
  {
   "cell_type": "code",
   "execution_count": 5,
   "metadata": {},
   "outputs": [
    {
     "data": {
      "text/html": [
       "<div>\n",
       "<style scoped>\n",
       "    .dataframe tbody tr th:only-of-type {\n",
       "        vertical-align: middle;\n",
       "    }\n",
       "\n",
       "    .dataframe tbody tr th {\n",
       "        vertical-align: top;\n",
       "    }\n",
       "\n",
       "    .dataframe thead th {\n",
       "        text-align: right;\n",
       "    }\n",
       "</style>\n",
       "<table border=\"1\" class=\"dataframe\">\n",
       "  <thead>\n",
       "    <tr style=\"text-align: right;\">\n",
       "      <th></th>\n",
       "      <th>var</th>\n",
       "      <th># missing</th>\n",
       "      <th>% missing</th>\n",
       "      <th>types</th>\n",
       "      <th>unique values</th>\n",
       "    </tr>\n",
       "  </thead>\n",
       "  <tbody>\n",
       "    <tr>\n",
       "      <th>0</th>\n",
       "      <td>User ID</td>\n",
       "      <td>0</td>\n",
       "      <td>0.0</td>\n",
       "      <td>int64</td>\n",
       "      <td>400</td>\n",
       "    </tr>\n",
       "    <tr>\n",
       "      <th>1</th>\n",
       "      <td>Gender</td>\n",
       "      <td>0</td>\n",
       "      <td>0.0</td>\n",
       "      <td>object</td>\n",
       "      <td>2</td>\n",
       "    </tr>\n",
       "    <tr>\n",
       "      <th>2</th>\n",
       "      <td>Age</td>\n",
       "      <td>0</td>\n",
       "      <td>0.0</td>\n",
       "      <td>int64</td>\n",
       "      <td>43</td>\n",
       "    </tr>\n",
       "    <tr>\n",
       "      <th>3</th>\n",
       "      <td>EstimatedSalary</td>\n",
       "      <td>0</td>\n",
       "      <td>0.0</td>\n",
       "      <td>int64</td>\n",
       "      <td>117</td>\n",
       "    </tr>\n",
       "    <tr>\n",
       "      <th>4</th>\n",
       "      <td>Purchased</td>\n",
       "      <td>0</td>\n",
       "      <td>0.0</td>\n",
       "      <td>int64</td>\n",
       "      <td>2</td>\n",
       "    </tr>\n",
       "  </tbody>\n",
       "</table>\n",
       "</div>"
      ],
      "text/plain": [
       "               var  # missing  % missing   types  unique values\n",
       "0          User ID          0        0.0   int64            400\n",
       "1           Gender          0        0.0  object              2\n",
       "2              Age          0        0.0   int64             43\n",
       "3  EstimatedSalary          0        0.0   int64            117\n",
       "4        Purchased          0        0.0   int64              2"
      ]
     },
     "execution_count": 5,
     "metadata": {},
     "output_type": "execute_result"
    }
   ],
   "source": [
    "data_info(dataset)"
   ]
  },
  {
   "cell_type": "markdown",
   "metadata": {},
   "source": [
    "### Preprocessing"
   ]
  },
  {
   "cell_type": "code",
   "execution_count": 6,
   "metadata": {},
   "outputs": [],
   "source": [
    "X = pd.DataFrame(dataset.iloc[:, 1:4])\n",
    "y = pd.DataFrame(dataset.iloc[:, 4])"
   ]
  },
  {
   "cell_type": "markdown",
   "metadata": {},
   "source": [
    "#### Lidando com variáveis categóricas"
   ]
  },
  {
   "cell_type": "markdown",
   "metadata": {},
   "source": [
    "Label Encoder: dá a cada elemento da variável categórica um número\n",
    "\n",
    "    Uso: categóricas ordinais"
   ]
  },
  {
   "cell_type": "code",
   "execution_count": 7,
   "metadata": {},
   "outputs": [],
   "source": [
    "from sklearn.preprocessing import LabelEncoder\n",
    "\n",
    "le = LabelEncoder()\n",
    "X_le = X.copy()\n",
    "for var in X.columns:\n",
    "    if (X[var].dtype == object):\n",
    "        X_le[var] = le.fit_transform(X[var])"
   ]
  },
  {
   "cell_type": "code",
   "execution_count": 8,
   "metadata": {
    "scrolled": true
   },
   "outputs": [
    {
     "data": {
      "text/html": [
       "<div>\n",
       "<style scoped>\n",
       "    .dataframe tbody tr th:only-of-type {\n",
       "        vertical-align: middle;\n",
       "    }\n",
       "\n",
       "    .dataframe tbody tr th {\n",
       "        vertical-align: top;\n",
       "    }\n",
       "\n",
       "    .dataframe thead th {\n",
       "        text-align: right;\n",
       "    }\n",
       "</style>\n",
       "<table border=\"1\" class=\"dataframe\">\n",
       "  <thead>\n",
       "    <tr style=\"text-align: right;\">\n",
       "      <th></th>\n",
       "      <th>Gender</th>\n",
       "      <th>Age</th>\n",
       "      <th>EstimatedSalary</th>\n",
       "    </tr>\n",
       "  </thead>\n",
       "  <tbody>\n",
       "    <tr>\n",
       "      <th>0</th>\n",
       "      <td>1</td>\n",
       "      <td>19</td>\n",
       "      <td>19000</td>\n",
       "    </tr>\n",
       "    <tr>\n",
       "      <th>1</th>\n",
       "      <td>1</td>\n",
       "      <td>35</td>\n",
       "      <td>20000</td>\n",
       "    </tr>\n",
       "    <tr>\n",
       "      <th>2</th>\n",
       "      <td>0</td>\n",
       "      <td>26</td>\n",
       "      <td>43000</td>\n",
       "    </tr>\n",
       "    <tr>\n",
       "      <th>3</th>\n",
       "      <td>0</td>\n",
       "      <td>27</td>\n",
       "      <td>57000</td>\n",
       "    </tr>\n",
       "    <tr>\n",
       "      <th>4</th>\n",
       "      <td>1</td>\n",
       "      <td>19</td>\n",
       "      <td>76000</td>\n",
       "    </tr>\n",
       "  </tbody>\n",
       "</table>\n",
       "</div>"
      ],
      "text/plain": [
       "   Gender  Age  EstimatedSalary\n",
       "0       1   19            19000\n",
       "1       1   35            20000\n",
       "2       0   26            43000\n",
       "3       0   27            57000\n",
       "4       1   19            76000"
      ]
     },
     "execution_count": 8,
     "metadata": {},
     "output_type": "execute_result"
    }
   ],
   "source": [
    "X_le.head()"
   ]
  },
  {
   "cell_type": "markdown",
   "metadata": {},
   "source": [
    "One Hot Encoder"
   ]
  },
  {
   "cell_type": "code",
   "execution_count": 9,
   "metadata": {},
   "outputs": [],
   "source": [
    "from sklearn.preprocessing import OneHotEncoder, LabelEncoder\n",
    "\n",
    "le = LabelEncoder()\n",
    "X_le = X.copy()\n",
    "X_ohe = X.copy()\n",
    "for var in X.columns:\n",
    "    if (X[var].dtype == object):\n",
    "        ohe = OneHotEncoder(categorical_features = [0])\n",
    "        X_le[var] = le.fit_transform(X[var])\n",
    "        X_ohe = ohe.fit_transform(X_le)"
   ]
  },
  {
   "cell_type": "code",
   "execution_count": 10,
   "metadata": {
    "scrolled": true
   },
   "outputs": [
    {
     "data": {
      "text/plain": [
       "<400x4 sparse matrix of type '<class 'numpy.float64'>'\n",
       "\twith 1200 stored elements in COOrdinate format>"
      ]
     },
     "execution_count": 10,
     "metadata": {},
     "output_type": "execute_result"
    }
   ],
   "source": [
    "X_ohe"
   ]
  },
  {
   "cell_type": "markdown",
   "metadata": {},
   "source": [
    "#### Padronização e Normalização "
   ]
  },
  {
   "cell_type": "code",
   "execution_count": 11,
   "metadata": {},
   "outputs": [],
   "source": [
    "X_encoded = X_le"
   ]
  },
  {
   "cell_type": "code",
   "execution_count": 12,
   "metadata": {},
   "outputs": [
    {
     "data": {
      "text/html": [
       "<div>\n",
       "<style scoped>\n",
       "    .dataframe tbody tr th:only-of-type {\n",
       "        vertical-align: middle;\n",
       "    }\n",
       "\n",
       "    .dataframe tbody tr th {\n",
       "        vertical-align: top;\n",
       "    }\n",
       "\n",
       "    .dataframe thead th {\n",
       "        text-align: right;\n",
       "    }\n",
       "</style>\n",
       "<table border=\"1\" class=\"dataframe\">\n",
       "  <thead>\n",
       "    <tr style=\"text-align: right;\">\n",
       "      <th></th>\n",
       "      <th>Gender</th>\n",
       "      <th>Age</th>\n",
       "      <th>EstimatedSalary</th>\n",
       "    </tr>\n",
       "  </thead>\n",
       "  <tbody>\n",
       "    <tr>\n",
       "      <th>0</th>\n",
       "      <td>1</td>\n",
       "      <td>19</td>\n",
       "      <td>19000</td>\n",
       "    </tr>\n",
       "    <tr>\n",
       "      <th>1</th>\n",
       "      <td>1</td>\n",
       "      <td>35</td>\n",
       "      <td>20000</td>\n",
       "    </tr>\n",
       "    <tr>\n",
       "      <th>2</th>\n",
       "      <td>0</td>\n",
       "      <td>26</td>\n",
       "      <td>43000</td>\n",
       "    </tr>\n",
       "    <tr>\n",
       "      <th>3</th>\n",
       "      <td>0</td>\n",
       "      <td>27</td>\n",
       "      <td>57000</td>\n",
       "    </tr>\n",
       "    <tr>\n",
       "      <th>4</th>\n",
       "      <td>1</td>\n",
       "      <td>19</td>\n",
       "      <td>76000</td>\n",
       "    </tr>\n",
       "  </tbody>\n",
       "</table>\n",
       "</div>"
      ],
      "text/plain": [
       "   Gender  Age  EstimatedSalary\n",
       "0       1   19            19000\n",
       "1       1   35            20000\n",
       "2       0   26            43000\n",
       "3       0   27            57000\n",
       "4       1   19            76000"
      ]
     },
     "execution_count": 12,
     "metadata": {},
     "output_type": "execute_result"
    }
   ],
   "source": [
    "X_encoded.head()"
   ]
  },
  {
   "cell_type": "markdown",
   "metadata": {},
   "source": [
    "Normalização StandardScaler: remove a média de cada atributo e divide os atributos não-constantes pelo desvio padrão. Ex de uso: se um atributo cuja variância é MUITO maior do que do que dos outros atributos, este atributo pode dominar a função objetivo e impossibilitar o estimador de aprender com as outras features"
   ]
  },
  {
   "cell_type": "code",
   "execution_count": 13,
   "metadata": {
    "scrolled": true
   },
   "outputs": [
    {
     "data": {
      "text/plain": [
       "StandardScaler(copy=True, with_mean=True, with_std=True)"
      ]
     },
     "execution_count": 13,
     "metadata": {},
     "output_type": "execute_result"
    }
   ],
   "source": [
    "from sklearn.preprocessing import StandardScaler\n",
    "\n",
    "std_scaler = StandardScaler()\n",
    "std_scaler.fit(X_encoded)"
   ]
  },
  {
   "cell_type": "code",
   "execution_count": 14,
   "metadata": {},
   "outputs": [],
   "source": [
    "X_stds = pd.DataFrame(std_scaler.transform(X_encoded), columns = X_encoded.columns)"
   ]
  },
  {
   "cell_type": "code",
   "execution_count": 15,
   "metadata": {},
   "outputs": [
    {
     "data": {
      "text/html": [
       "<div>\n",
       "<style scoped>\n",
       "    .dataframe tbody tr th:only-of-type {\n",
       "        vertical-align: middle;\n",
       "    }\n",
       "\n",
       "    .dataframe tbody tr th {\n",
       "        vertical-align: top;\n",
       "    }\n",
       "\n",
       "    .dataframe thead th {\n",
       "        text-align: right;\n",
       "    }\n",
       "</style>\n",
       "<table border=\"1\" class=\"dataframe\">\n",
       "  <thead>\n",
       "    <tr style=\"text-align: right;\">\n",
       "      <th></th>\n",
       "      <th>Gender</th>\n",
       "      <th>Age</th>\n",
       "      <th>EstimatedSalary</th>\n",
       "    </tr>\n",
       "  </thead>\n",
       "  <tbody>\n",
       "    <tr>\n",
       "      <th>0</th>\n",
       "      <td>1.020204</td>\n",
       "      <td>-1.781797</td>\n",
       "      <td>-1.490046</td>\n",
       "    </tr>\n",
       "    <tr>\n",
       "      <th>1</th>\n",
       "      <td>1.020204</td>\n",
       "      <td>-0.253587</td>\n",
       "      <td>-1.460681</td>\n",
       "    </tr>\n",
       "    <tr>\n",
       "      <th>2</th>\n",
       "      <td>-0.980196</td>\n",
       "      <td>-1.113206</td>\n",
       "      <td>-0.785290</td>\n",
       "    </tr>\n",
       "    <tr>\n",
       "      <th>3</th>\n",
       "      <td>-0.980196</td>\n",
       "      <td>-1.017692</td>\n",
       "      <td>-0.374182</td>\n",
       "    </tr>\n",
       "    <tr>\n",
       "      <th>4</th>\n",
       "      <td>1.020204</td>\n",
       "      <td>-1.781797</td>\n",
       "      <td>0.183751</td>\n",
       "    </tr>\n",
       "  </tbody>\n",
       "</table>\n",
       "</div>"
      ],
      "text/plain": [
       "     Gender       Age  EstimatedSalary\n",
       "0  1.020204 -1.781797        -1.490046\n",
       "1  1.020204 -0.253587        -1.460681\n",
       "2 -0.980196 -1.113206        -0.785290\n",
       "3 -0.980196 -1.017692        -0.374182\n",
       "4  1.020204 -1.781797         0.183751"
      ]
     },
     "execution_count": 15,
     "metadata": {},
     "output_type": "execute_result"
    }
   ],
   "source": [
    "X_stds.head()"
   ]
  },
  {
   "cell_type": "markdown",
   "metadata": {},
   "source": [
    "Normalização para intervalo: escalar os atributos para que seus valores fiquem dentro de um intervalo, dado o valor mínimo e o máximo"
   ]
  },
  {
   "cell_type": "code",
   "execution_count": 16,
   "metadata": {},
   "outputs": [
    {
     "data": {
      "text/plain": [
       "MinMaxScaler(copy=True, feature_range=(0, 1))"
      ]
     },
     "execution_count": 16,
     "metadata": {},
     "output_type": "execute_result"
    }
   ],
   "source": [
    "from sklearn.preprocessing import MinMaxScaler\n",
    "\n",
    "minmaxscaler = MinMaxScaler()\n",
    "minmaxscaler.fit(X_encoded)"
   ]
  },
  {
   "cell_type": "code",
   "execution_count": 17,
   "metadata": {},
   "outputs": [],
   "source": [
    "X_minmaxs = pd.DataFrame(minmaxscaler.transform(X_encoded), columns = X_encoded.columns)"
   ]
  },
  {
   "cell_type": "code",
   "execution_count": 18,
   "metadata": {},
   "outputs": [
    {
     "data": {
      "text/html": [
       "<div>\n",
       "<style scoped>\n",
       "    .dataframe tbody tr th:only-of-type {\n",
       "        vertical-align: middle;\n",
       "    }\n",
       "\n",
       "    .dataframe tbody tr th {\n",
       "        vertical-align: top;\n",
       "    }\n",
       "\n",
       "    .dataframe thead th {\n",
       "        text-align: right;\n",
       "    }\n",
       "</style>\n",
       "<table border=\"1\" class=\"dataframe\">\n",
       "  <thead>\n",
       "    <tr style=\"text-align: right;\">\n",
       "      <th></th>\n",
       "      <th>Gender</th>\n",
       "      <th>Age</th>\n",
       "      <th>EstimatedSalary</th>\n",
       "    </tr>\n",
       "  </thead>\n",
       "  <tbody>\n",
       "    <tr>\n",
       "      <th>0</th>\n",
       "      <td>1.0</td>\n",
       "      <td>0.023810</td>\n",
       "      <td>0.029630</td>\n",
       "    </tr>\n",
       "    <tr>\n",
       "      <th>1</th>\n",
       "      <td>1.0</td>\n",
       "      <td>0.404762</td>\n",
       "      <td>0.037037</td>\n",
       "    </tr>\n",
       "    <tr>\n",
       "      <th>2</th>\n",
       "      <td>0.0</td>\n",
       "      <td>0.190476</td>\n",
       "      <td>0.207407</td>\n",
       "    </tr>\n",
       "    <tr>\n",
       "      <th>3</th>\n",
       "      <td>0.0</td>\n",
       "      <td>0.214286</td>\n",
       "      <td>0.311111</td>\n",
       "    </tr>\n",
       "    <tr>\n",
       "      <th>4</th>\n",
       "      <td>1.0</td>\n",
       "      <td>0.023810</td>\n",
       "      <td>0.451852</td>\n",
       "    </tr>\n",
       "  </tbody>\n",
       "</table>\n",
       "</div>"
      ],
      "text/plain": [
       "   Gender       Age  EstimatedSalary\n",
       "0     1.0  0.023810         0.029630\n",
       "1     1.0  0.404762         0.037037\n",
       "2     0.0  0.190476         0.207407\n",
       "3     0.0  0.214286         0.311111\n",
       "4     1.0  0.023810         0.451852"
      ]
     },
     "execution_count": 18,
     "metadata": {},
     "output_type": "execute_result"
    }
   ],
   "source": [
    "X_minmaxs.head()"
   ]
  },
  {
   "cell_type": "markdown",
   "metadata": {},
   "source": [
    "Normalização Robust Scaler: Quando o dataset contém muitos outliers, usar média e variância não trará resultados bons. Usa uma estimativa mais robusta para encontrar o centro dos dados. Remove a mediana e escala os dados de acordo com os intervalos de quartis(intervalo interquartil (IQR): intervalo entre o primeiro quartil (25%) e o terceiro quartil (75%))"
   ]
  },
  {
   "cell_type": "code",
   "execution_count": 19,
   "metadata": {},
   "outputs": [
    {
     "data": {
      "text/plain": [
       "RobustScaler(copy=True, quantile_range=(25.0, 75.0), with_centering=True,\n",
       "       with_scaling=True)"
      ]
     },
     "execution_count": 19,
     "metadata": {},
     "output_type": "execute_result"
    }
   ],
   "source": [
    "from sklearn.preprocessing import RobustScaler\n",
    "\n",
    "robscaler = RobustScaler()\n",
    "robscaler.fit(X_encoded)"
   ]
  },
  {
   "cell_type": "code",
   "execution_count": 20,
   "metadata": {},
   "outputs": [],
   "source": [
    "X_robusts = pd.DataFrame(robscaler.transform(X_encoded), columns = X_encoded.columns)"
   ]
  },
  {
   "cell_type": "code",
   "execution_count": 21,
   "metadata": {
    "scrolled": true
   },
   "outputs": [
    {
     "data": {
      "text/html": [
       "<div>\n",
       "<style scoped>\n",
       "    .dataframe tbody tr th:only-of-type {\n",
       "        vertical-align: middle;\n",
       "    }\n",
       "\n",
       "    .dataframe tbody tr th {\n",
       "        vertical-align: top;\n",
       "    }\n",
       "\n",
       "    .dataframe thead th {\n",
       "        text-align: right;\n",
       "    }\n",
       "</style>\n",
       "<table border=\"1\" class=\"dataframe\">\n",
       "  <thead>\n",
       "    <tr style=\"text-align: right;\">\n",
       "      <th></th>\n",
       "      <th>Gender</th>\n",
       "      <th>Age</th>\n",
       "      <th>EstimatedSalary</th>\n",
       "    </tr>\n",
       "  </thead>\n",
       "  <tbody>\n",
       "    <tr>\n",
       "      <th>0</th>\n",
       "      <td>1.0</td>\n",
       "      <td>-1.107692</td>\n",
       "      <td>-1.133333</td>\n",
       "    </tr>\n",
       "    <tr>\n",
       "      <th>1</th>\n",
       "      <td>1.0</td>\n",
       "      <td>-0.123077</td>\n",
       "      <td>-1.111111</td>\n",
       "    </tr>\n",
       "    <tr>\n",
       "      <th>2</th>\n",
       "      <td>0.0</td>\n",
       "      <td>-0.676923</td>\n",
       "      <td>-0.600000</td>\n",
       "    </tr>\n",
       "    <tr>\n",
       "      <th>3</th>\n",
       "      <td>0.0</td>\n",
       "      <td>-0.615385</td>\n",
       "      <td>-0.288889</td>\n",
       "    </tr>\n",
       "    <tr>\n",
       "      <th>4</th>\n",
       "      <td>1.0</td>\n",
       "      <td>-1.107692</td>\n",
       "      <td>0.133333</td>\n",
       "    </tr>\n",
       "  </tbody>\n",
       "</table>\n",
       "</div>"
      ],
      "text/plain": [
       "   Gender       Age  EstimatedSalary\n",
       "0     1.0 -1.107692        -1.133333\n",
       "1     1.0 -0.123077        -1.111111\n",
       "2     0.0 -0.676923        -0.600000\n",
       "3     0.0 -0.615385        -0.288889\n",
       "4     1.0 -1.107692         0.133333"
      ]
     },
     "execution_count": 21,
     "metadata": {},
     "output_type": "execute_result"
    }
   ],
   "source": [
    "X_robusts.head()"
   ]
  },
  {
   "cell_type": "markdown",
   "metadata": {},
   "source": [
    "Normalização por sample (linha): cada registro/sample com pelo menos um componente não zero é reescalado independentemente dos outros samples\n",
    "\n",
    "-- l1-norm: divide cada elemento de cada sample pela soma dos módulos de cada elemento do tal sample\n",
    "\n",
    "-- l2-norm: divide cada elemento de cada sample pela raíz quadrada da soma dos quadrados de cada elemento de tal sample"
   ]
  },
  {
   "cell_type": "code",
   "execution_count": 22,
   "metadata": {},
   "outputs": [
    {
     "data": {
      "text/plain": [
       "Normalizer(copy=True, norm='l1')"
      ]
     },
     "execution_count": 22,
     "metadata": {},
     "output_type": "execute_result"
    }
   ],
   "source": [
    "from sklearn.preprocessing import Normalizer\n",
    "\n",
    "nscaler = Normalizer(norm = 'l1')\n",
    "nscaler.fit(X_encoded)"
   ]
  },
  {
   "cell_type": "code",
   "execution_count": 23,
   "metadata": {},
   "outputs": [],
   "source": [
    "X_norm = pd.DataFrame(nscaler.transform(X_encoded), columns = X_encoded.columns)"
   ]
  },
  {
   "cell_type": "code",
   "execution_count": 24,
   "metadata": {},
   "outputs": [
    {
     "data": {
      "text/html": [
       "<div>\n",
       "<style scoped>\n",
       "    .dataframe tbody tr th:only-of-type {\n",
       "        vertical-align: middle;\n",
       "    }\n",
       "\n",
       "    .dataframe tbody tr th {\n",
       "        vertical-align: top;\n",
       "    }\n",
       "\n",
       "    .dataframe thead th {\n",
       "        text-align: right;\n",
       "    }\n",
       "</style>\n",
       "<table border=\"1\" class=\"dataframe\">\n",
       "  <thead>\n",
       "    <tr style=\"text-align: right;\">\n",
       "      <th></th>\n",
       "      <th>Gender</th>\n",
       "      <th>Age</th>\n",
       "      <th>EstimatedSalary</th>\n",
       "    </tr>\n",
       "  </thead>\n",
       "  <tbody>\n",
       "    <tr>\n",
       "      <th>0</th>\n",
       "      <td>0.000053</td>\n",
       "      <td>0.000999</td>\n",
       "      <td>0.998948</td>\n",
       "    </tr>\n",
       "    <tr>\n",
       "      <th>1</th>\n",
       "      <td>0.000050</td>\n",
       "      <td>0.001747</td>\n",
       "      <td>0.998203</td>\n",
       "    </tr>\n",
       "    <tr>\n",
       "      <th>2</th>\n",
       "      <td>0.000000</td>\n",
       "      <td>0.000604</td>\n",
       "      <td>0.999396</td>\n",
       "    </tr>\n",
       "    <tr>\n",
       "      <th>3</th>\n",
       "      <td>0.000000</td>\n",
       "      <td>0.000473</td>\n",
       "      <td>0.999527</td>\n",
       "    </tr>\n",
       "    <tr>\n",
       "      <th>4</th>\n",
       "      <td>0.000013</td>\n",
       "      <td>0.000250</td>\n",
       "      <td>0.999737</td>\n",
       "    </tr>\n",
       "  </tbody>\n",
       "</table>\n",
       "</div>"
      ],
      "text/plain": [
       "     Gender       Age  EstimatedSalary\n",
       "0  0.000053  0.000999         0.998948\n",
       "1  0.000050  0.001747         0.998203\n",
       "2  0.000000  0.000604         0.999396\n",
       "3  0.000000  0.000473         0.999527\n",
       "4  0.000013  0.000250         0.999737"
      ]
     },
     "execution_count": 24,
     "metadata": {},
     "output_type": "execute_result"
    }
   ],
   "source": [
    "X_norm.head()"
   ]
  },
  {
   "cell_type": "markdown",
   "metadata": {},
   "source": [
    "#### Train Test Split"
   ]
  },
  {
   "cell_type": "code",
   "execution_count": 25,
   "metadata": {},
   "outputs": [],
   "source": [
    "#escolha do X\n",
    "X_preped = X_stds"
   ]
  },
  {
   "cell_type": "markdown",
   "metadata": {},
   "source": [
    "Hold out - Seleção de uma base de treino e outra de teste a partir de um mesmo dataset"
   ]
  },
  {
   "cell_type": "code",
   "execution_count": 26,
   "metadata": {},
   "outputs": [],
   "source": [
    "X_train, X_test, y_train, y_test = train_test_split(X_preped, y, test_size = 0.3, random_state = 0)"
   ]
  },
  {
   "cell_type": "markdown",
   "metadata": {},
   "source": [
    "K-folds para inserir nos métodos"
   ]
  },
  {
   "cell_type": "code",
   "execution_count": 27,
   "metadata": {},
   "outputs": [],
   "source": [
    "from sklearn.model_selection import StratifiedKFold, KFold, LeaveOneOut\n",
    "\n",
    "cv_kfold = KFold(5, random_state=12)\n",
    "cv_leave_one_out = LeaveOneOut()"
   ]
  },
  {
   "cell_type": "markdown",
   "metadata": {},
   "source": [
    "### Modelagem -- Classificação"
   ]
  },
  {
   "cell_type": "code",
   "execution_count": 28,
   "metadata": {},
   "outputs": [],
   "source": [
    "from scipy import stats\n",
    "from sklearn.metrics import f1_score, roc_auc_score, auc, roc_curve, precision_score, recall_score, confusion_matrix, accuracy_score\n",
    "from sklearn.model_selection import GridSearchCV\n",
    "from sklearn.model_selection import cross_validate\n"
   ]
  },
  {
   "cell_type": "code",
   "execution_count": 29,
   "metadata": {},
   "outputs": [],
   "source": [
    "def results_holdout(clf, X_train, y_train, X_test, y_test):\n",
    "    \n",
    "    classifier = clf.fit(X_train, np.ravel(y_train))\n",
    "    metrics = [f1_score, precision_score, recall_score, accuracy_score]\n",
    "    \n",
    "    pred_train = classifier.predict(X_train)\n",
    "    pred_test = classifier.predict(X_test)\n",
    "\n",
    "    prob_train = classifier.predict_proba(X_train)\n",
    "    prob_test = classifier.predict_proba(X_test)\n",
    "    \n",
    "    results = pd.DataFrame()\n",
    "    \n",
    "    for m in metrics:\n",
    "        result_train = m(y_train, pred_train)\n",
    "        result_test = m(y_test, pred_test)\n",
    "        \n",
    "        dict_res = {'Treino': [result_train], 'Teste': [result_test]}\n",
    "        res_aux = pd.DataFrame(dict_res, index = [str(m.__name__)])\n",
    "        \n",
    "        results = pd.concat([results, res_aux], axis = 0)\n",
    "    \n",
    "    \n",
    "    train_res = pd.concat([y_train, pd.DataFrame(prob_train).iloc[:,1]], axis = 1)\n",
    "    test_res = pd.concat([y_test, pd.DataFrame(prob_test).iloc[:,1]], axis = 1)\n",
    "    train_res.columns = ['y_train', 'prob']\n",
    "    test_res.columns = ['y_test', 'prob']\n",
    "    \n",
    "    train_prob_True1 = train_res[train_res.y_train == 1]\n",
    "    train_prob_True0 = train_res[train_res.y_train == 0]\n",
    "    \n",
    "    test_prob_True1 = test_res[test_res.y_test == 1]\n",
    "    test_prob_True0 = test_res[test_res.y_test == 0]\n",
    "    \n",
    "    dict_res_ks = {'Treino': [stats.ks_2samp(train_prob_True1.prob, train_prob_True0.prob).statistic], \n",
    "                   'Teste': [stats.ks_2samp(test_prob_True1.prob, test_prob_True0.prob).statistic]}\n",
    "    \n",
    "    res_aux_ks = pd.DataFrame(dict_res_ks, index = ['KS'])\n",
    "    results = pd.concat([results, res_aux_ks], axis = 0)\n",
    "    \n",
    "    return results\n",
    "\n",
    "def results_cv(clf, X_train, y_train, kcv):\n",
    "    \n",
    "    classifier = clf.fit(X_train, np.ravel(y_train))\n",
    "    metrics = ['f1', 'precision', 'recall', 'accuracy', 'roc_auc']\n",
    "    \n",
    "    results = pd.DataFrame()\n",
    "    for m in metrics:\n",
    "        cv_results = cross_validate(clf, X_train, np.ravel(y_train), scoring = m, cv = kcv, return_train_score = True)\n",
    "        dict_res = {'' + m + '_Treino': cv_results['train_score'], \n",
    "                    '' + m + '_Teste': cv_results['test_score']}\n",
    "        res_aux = pd.DataFrame(dict_res)\n",
    "        results = pd.concat([results, res_aux], axis = 1)\n",
    "        \n",
    "    results_mean = np.transpose(pd.DataFrame(results.mean(), columns=['media']))\n",
    "    results = pd.concat([results, results_mean], axis = 0)\n",
    "    return results\n",
    "\n",
    "\n",
    "def grid_search(clf, X_train, y_train, params, score, cv):    \n",
    "    grid = GridSearchCV(clf, params, scoring = score, cv = cv, return_train_score=True)\n",
    "    grid_fitted = grid.fit(X_train, np.ravel(y_train))\n",
    "    print (\"Best score: %.4f\" % grid_fitted.best_score_)\n",
    "    print (\"Best parameters: %s\" % grid_fitted.best_params_)\n",
    "    return grid_fitted, grid_fitted.best_estimator_, grid_fitted.cv_results_"
   ]
  },
  {
   "cell_type": "markdown",
   "metadata": {},
   "source": [
    "#### Métricas usadas"
   ]
  },
  {
   "cell_type": "markdown",
   "metadata": {},
   "source": [
    "#### ----------------- A completar"
   ]
  },
  {
   "cell_type": "markdown",
   "metadata": {},
   "source": [
    "#### KNN"
   ]
  },
  {
   "cell_type": "code",
   "execution_count": 30,
   "metadata": {},
   "outputs": [
    {
     "data": {
      "text/plain": [
       "KNeighborsClassifier(algorithm='brute', leaf_size=30, metric='minkowski',\n",
       "           metric_params=None, n_jobs=1, n_neighbors=5, p=2,\n",
       "           weights='uniform')"
      ]
     },
     "execution_count": 30,
     "metadata": {},
     "output_type": "execute_result"
    }
   ],
   "source": [
    "from sklearn.neighbors import KNeighborsClassifier\n",
    "\n",
    "#quando p = 2, a distancia de minkowski é equivalente à euclidiana\n",
    "knn = KNeighborsClassifier(n_neighbors = 5, weights = 'uniform', algorithm = 'brute', leaf_size = 30, p = 2, \n",
    "                           metric = 'minkowski', metric_params = None, n_jobs = 1)\n",
    "\n",
    "knn.fit(X_train, np.ravel(y_train))"
   ]
  },
  {
   "cell_type": "markdown",
   "metadata": {},
   "source": [
    "predict"
   ]
  },
  {
   "cell_type": "code",
   "execution_count": 32,
   "metadata": {},
   "outputs": [],
   "source": [
    "X_pred = std_scaler.transform([[1, 30, 40000]])"
   ]
  },
  {
   "cell_type": "code",
   "execution_count": 90,
   "metadata": {
    "scrolled": true
   },
   "outputs": [
    {
     "data": {
      "text/plain": [
       "0"
      ]
     },
     "execution_count": 90,
     "metadata": {},
     "output_type": "execute_result"
    }
   ],
   "source": [
    "knn.predict(X_pred)[0]"
   ]
  },
  {
   "cell_type": "markdown",
   "metadata": {},
   "source": [
    "grid search"
   ]
  },
  {
   "cell_type": "code",
   "execution_count": 34,
   "metadata": {},
   "outputs": [
    {
     "name": "stdout",
     "output_type": "stream",
     "text": [
      "Best score: 0.8964\n",
      "Best parameters: {'algorithm': 'brute', 'n_neighbors': 5, 'weights': 'uniform'}\n"
     ]
    },
    {
     "data": {
      "text/plain": [
       "KNeighborsClassifier(algorithm='brute', leaf_size=30, metric='minkowski',\n",
       "           metric_params=None, n_jobs=1, n_neighbors=5, p=2,\n",
       "           weights='uniform')"
      ]
     },
     "execution_count": 34,
     "metadata": {},
     "output_type": "execute_result"
    }
   ],
   "source": [
    "params = {\n",
    "    'weights' : ['uniform'],\n",
    "    'n_neighbors': [5] ,\n",
    "    'algorithm': ['brute']\n",
    "}\n",
    "clf = KNeighborsClassifier()\n",
    "grid, model, results = grid_search(clf, X_train, y_train, params, 'accuracy', cv_kfold)\n",
    "model"
   ]
  },
  {
   "cell_type": "code",
   "execution_count": 35,
   "metadata": {},
   "outputs": [
    {
     "data": {
      "text/plain": [
       "{'mean_fit_time': array([0.00189905]),\n",
       " 'std_fit_time': array([0.00111076]),\n",
       " 'mean_score_time': array([0.00140142]),\n",
       " 'std_score_time': array([0.00111468]),\n",
       " 'param_algorithm': masked_array(data=['brute'],\n",
       "              mask=[False],\n",
       "        fill_value='?',\n",
       "             dtype=object),\n",
       " 'param_n_neighbors': masked_array(data=[5],\n",
       "              mask=[False],\n",
       "        fill_value='?',\n",
       "             dtype=object),\n",
       " 'param_weights': masked_array(data=['uniform'],\n",
       "              mask=[False],\n",
       "        fill_value='?',\n",
       "             dtype=object),\n",
       " 'params': [{'algorithm': 'brute', 'n_neighbors': 5, 'weights': 'uniform'}],\n",
       " 'split0_test_score': array([0.85714286]),\n",
       " 'split1_test_score': array([0.89285714]),\n",
       " 'split2_test_score': array([0.85714286]),\n",
       " 'split3_test_score': array([0.92857143]),\n",
       " 'split4_test_score': array([0.94642857]),\n",
       " 'mean_test_score': array([0.89642857]),\n",
       " 'std_test_score': array([0.03642157]),\n",
       " 'rank_test_score': array([1]),\n",
       " 'split0_train_score': array([0.91517857]),\n",
       " 'split1_train_score': array([0.90625]),\n",
       " 'split2_train_score': array([0.92857143]),\n",
       " 'split3_train_score': array([0.91517857]),\n",
       " 'split4_train_score': array([0.90178571]),\n",
       " 'mean_train_score': array([0.91339286]),\n",
       " 'std_train_score': array([0.00919253])}"
      ]
     },
     "execution_count": 35,
     "metadata": {},
     "output_type": "execute_result"
    }
   ],
   "source": [
    "#retorna dentre outras coisas, para treino e teste qual o score de cada grid usado (12 opções dados os parametros -- combinações)\n",
    "#em cada split\n",
    "results"
   ]
  },
  {
   "cell_type": "markdown",
   "metadata": {},
   "source": [
    "Melhor modelo encontrado pelo grid"
   ]
  },
  {
   "cell_type": "code",
   "execution_count": 36,
   "metadata": {},
   "outputs": [],
   "source": [
    "best_params = {'algorithm': 'brute', 'n_neighbors': 5, 'weights': 'uniform'}"
   ]
  },
  {
   "cell_type": "code",
   "execution_count": 37,
   "metadata": {},
   "outputs": [
    {
     "data": {
      "text/plain": [
       "KNeighborsClassifier(algorithm='brute', leaf_size=30, metric='minkowski',\n",
       "           metric_params=None, n_jobs=1, n_neighbors=5, p=2,\n",
       "           weights='uniform')"
      ]
     },
     "execution_count": 37,
     "metadata": {},
     "output_type": "execute_result"
    }
   ],
   "source": [
    "best_knn = KNeighborsClassifier()\n",
    "best_knn.set_params(**(best_params))\n",
    "\n",
    "best_knn.fit(X_train, np.ravel(y_train))"
   ]
  },
  {
   "cell_type": "markdown",
   "metadata": {},
   "source": [
    "holdout results todas as metricas"
   ]
  },
  {
   "cell_type": "code",
   "execution_count": 38,
   "metadata": {
    "scrolled": true
   },
   "outputs": [
    {
     "data": {
      "text/html": [
       "<div>\n",
       "<style scoped>\n",
       "    .dataframe tbody tr th:only-of-type {\n",
       "        vertical-align: middle;\n",
       "    }\n",
       "\n",
       "    .dataframe tbody tr th {\n",
       "        vertical-align: top;\n",
       "    }\n",
       "\n",
       "    .dataframe thead th {\n",
       "        text-align: right;\n",
       "    }\n",
       "</style>\n",
       "<table border=\"1\" class=\"dataframe\">\n",
       "  <thead>\n",
       "    <tr style=\"text-align: right;\">\n",
       "      <th></th>\n",
       "      <th>Treino</th>\n",
       "      <th>Teste</th>\n",
       "    </tr>\n",
       "  </thead>\n",
       "  <tbody>\n",
       "    <tr>\n",
       "      <th>f1_score</th>\n",
       "      <td>0.890995</td>\n",
       "      <td>0.880952</td>\n",
       "    </tr>\n",
       "    <tr>\n",
       "      <th>precision_score</th>\n",
       "      <td>0.862385</td>\n",
       "      <td>0.860465</td>\n",
       "    </tr>\n",
       "    <tr>\n",
       "      <th>recall_score</th>\n",
       "      <td>0.921569</td>\n",
       "      <td>0.902439</td>\n",
       "    </tr>\n",
       "    <tr>\n",
       "      <th>accuracy_score</th>\n",
       "      <td>0.917857</td>\n",
       "      <td>0.916667</td>\n",
       "    </tr>\n",
       "    <tr>\n",
       "      <th>KS</th>\n",
       "      <td>0.331461</td>\n",
       "      <td>0.295770</td>\n",
       "    </tr>\n",
       "  </tbody>\n",
       "</table>\n",
       "</div>"
      ],
      "text/plain": [
       "                   Treino     Teste\n",
       "f1_score         0.890995  0.880952\n",
       "precision_score  0.862385  0.860465\n",
       "recall_score     0.921569  0.902439\n",
       "accuracy_score   0.917857  0.916667\n",
       "KS               0.331461  0.295770"
      ]
     },
     "execution_count": 38,
     "metadata": {},
     "output_type": "execute_result"
    }
   ],
   "source": [
    "results_holdout(knn, X_train, y_train, X_test, y_test)"
   ]
  },
  {
   "cell_type": "markdown",
   "metadata": {},
   "source": [
    "Nota: calculo do cross val score em treino e teste sem fazer o grid"
   ]
  },
  {
   "cell_type": "markdown",
   "metadata": {},
   "source": [
    "possíveis métricas: ['accuracy', 'adjusted_mutual_info_score', 'adjusted_rand_score', 'average_precision', 'completeness_score', 'explained_variance', 'f1', 'f1_macro', 'f1_micro', 'f1_samples', 'f1_weighted', 'fowlkes_mallows_score', 'homogeneity_score', 'mutual_info_score', 'neg_log_loss', 'neg_mean_absolute_error', 'neg_mean_squared_error', 'neg_mean_squared_log_error', 'neg_median_absolute_error', 'normalized_mutual_info_score', 'precision', 'precision_macro', 'precision_micro', 'precision_samples', 'precision_weighted', 'r2', 'recall', 'recall_macro', 'recall_micro', 'recall_samples', 'recall_weighted', 'roc_auc', 'v_measure_score']"
   ]
  },
  {
   "cell_type": "code",
   "execution_count": 39,
   "metadata": {},
   "outputs": [],
   "source": [
    "cv_results = cross_validate(knn, X_train, np.ravel(y_train), scoring = 'f1', cv = cv_kfold, return_train_score = True)"
   ]
  },
  {
   "cell_type": "code",
   "execution_count": 40,
   "metadata": {},
   "outputs": [
    {
     "data": {
      "text/plain": [
       "array([0.88050314, 0.86792453, 0.90361446, 0.89142857, 0.87640449])"
      ]
     },
     "execution_count": 40,
     "metadata": {},
     "output_type": "execute_result"
    }
   ],
   "source": [
    "cv_results['train_score']"
   ]
  },
  {
   "cell_type": "markdown",
   "metadata": {},
   "source": [
    "CV results todas as métricas"
   ]
  },
  {
   "cell_type": "code",
   "execution_count": 41,
   "metadata": {
    "scrolled": true
   },
   "outputs": [
    {
     "data": {
      "text/html": [
       "<div>\n",
       "<style scoped>\n",
       "    .dataframe tbody tr th:only-of-type {\n",
       "        vertical-align: middle;\n",
       "    }\n",
       "\n",
       "    .dataframe tbody tr th {\n",
       "        vertical-align: top;\n",
       "    }\n",
       "\n",
       "    .dataframe thead th {\n",
       "        text-align: right;\n",
       "    }\n",
       "</style>\n",
       "<table border=\"1\" class=\"dataframe\">\n",
       "  <thead>\n",
       "    <tr style=\"text-align: right;\">\n",
       "      <th></th>\n",
       "      <th>f1_Treino</th>\n",
       "      <th>f1_Teste</th>\n",
       "      <th>precision_Treino</th>\n",
       "      <th>precision_Teste</th>\n",
       "      <th>recall_Treino</th>\n",
       "      <th>recall_Teste</th>\n",
       "      <th>accuracy_Treino</th>\n",
       "      <th>accuracy_Teste</th>\n",
       "      <th>roc_auc_Treino</th>\n",
       "      <th>roc_auc_Teste</th>\n",
       "    </tr>\n",
       "  </thead>\n",
       "  <tbody>\n",
       "    <tr>\n",
       "      <th>0</th>\n",
       "      <td>0.880503</td>\n",
       "      <td>0.826087</td>\n",
       "      <td>0.853659</td>\n",
       "      <td>0.904762</td>\n",
       "      <td>0.909091</td>\n",
       "      <td>0.760000</td>\n",
       "      <td>0.915179</td>\n",
       "      <td>0.857143</td>\n",
       "      <td>0.974512</td>\n",
       "      <td>0.916774</td>\n",
       "    </tr>\n",
       "    <tr>\n",
       "      <th>1</th>\n",
       "      <td>0.867925</td>\n",
       "      <td>0.875000</td>\n",
       "      <td>0.851852</td>\n",
       "      <td>0.875000</td>\n",
       "      <td>0.884615</td>\n",
       "      <td>0.875000</td>\n",
       "      <td>0.906250</td>\n",
       "      <td>0.892857</td>\n",
       "      <td>0.971988</td>\n",
       "      <td>0.936849</td>\n",
       "    </tr>\n",
       "    <tr>\n",
       "      <th>2</th>\n",
       "      <td>0.903614</td>\n",
       "      <td>0.800000</td>\n",
       "      <td>0.903614</td>\n",
       "      <td>0.761905</td>\n",
       "      <td>0.903614</td>\n",
       "      <td>0.842105</td>\n",
       "      <td>0.928571</td>\n",
       "      <td>0.857143</td>\n",
       "      <td>0.980689</td>\n",
       "      <td>0.896871</td>\n",
       "    </tr>\n",
       "    <tr>\n",
       "      <th>3</th>\n",
       "      <td>0.891429</td>\n",
       "      <td>0.894737</td>\n",
       "      <td>0.866667</td>\n",
       "      <td>0.809524</td>\n",
       "      <td>0.917647</td>\n",
       "      <td>1.000000</td>\n",
       "      <td>0.915179</td>\n",
       "      <td>0.928571</td>\n",
       "      <td>0.969319</td>\n",
       "      <td>0.966817</td>\n",
       "    </tr>\n",
       "    <tr>\n",
       "      <th>4</th>\n",
       "      <td>0.876404</td>\n",
       "      <td>0.914286</td>\n",
       "      <td>0.838710</td>\n",
       "      <td>0.888889</td>\n",
       "      <td>0.917647</td>\n",
       "      <td>0.941176</td>\n",
       "      <td>0.901786</td>\n",
       "      <td>0.946429</td>\n",
       "      <td>0.966441</td>\n",
       "      <td>0.990196</td>\n",
       "    </tr>\n",
       "    <tr>\n",
       "      <th>media</th>\n",
       "      <td>0.883975</td>\n",
       "      <td>0.862022</td>\n",
       "      <td>0.862900</td>\n",
       "      <td>0.848016</td>\n",
       "      <td>0.906523</td>\n",
       "      <td>0.883656</td>\n",
       "      <td>0.913393</td>\n",
       "      <td>0.896429</td>\n",
       "      <td>0.972590</td>\n",
       "      <td>0.941501</td>\n",
       "    </tr>\n",
       "  </tbody>\n",
       "</table>\n",
       "</div>"
      ],
      "text/plain": [
       "       f1_Treino  f1_Teste  precision_Treino  precision_Teste  recall_Treino  \\\n",
       "0       0.880503  0.826087          0.853659         0.904762       0.909091   \n",
       "1       0.867925  0.875000          0.851852         0.875000       0.884615   \n",
       "2       0.903614  0.800000          0.903614         0.761905       0.903614   \n",
       "3       0.891429  0.894737          0.866667         0.809524       0.917647   \n",
       "4       0.876404  0.914286          0.838710         0.888889       0.917647   \n",
       "media   0.883975  0.862022          0.862900         0.848016       0.906523   \n",
       "\n",
       "       recall_Teste  accuracy_Treino  accuracy_Teste  roc_auc_Treino  \\\n",
       "0          0.760000         0.915179        0.857143        0.974512   \n",
       "1          0.875000         0.906250        0.892857        0.971988   \n",
       "2          0.842105         0.928571        0.857143        0.980689   \n",
       "3          1.000000         0.915179        0.928571        0.969319   \n",
       "4          0.941176         0.901786        0.946429        0.966441   \n",
       "media      0.883656         0.913393        0.896429        0.972590   \n",
       "\n",
       "       roc_auc_Teste  \n",
       "0           0.916774  \n",
       "1           0.936849  \n",
       "2           0.896871  \n",
       "3           0.966817  \n",
       "4           0.990196  \n",
       "media       0.941501  "
      ]
     },
     "execution_count": 41,
     "metadata": {},
     "output_type": "execute_result"
    }
   ],
   "source": [
    "results_cv(knn, X_train, y_train, cv_kfold)"
   ]
  },
  {
   "cell_type": "markdown",
   "metadata": {},
   "source": [
    "#### Naïve Bayes -- Gaussian, Bernoulli, Multinomial\n",
    "\n",
    "Gaussian: Variáveis contínuas. Assume-se que a probabilidade dos atributos é Gaussiana.\n",
    "\n",
    "Bernoulli: Variáveis binárias. Podem ter vários atributos, mas cada um deles deve ser binário. Se for passado qualquer outro tipo de variável, essa será binarizada (dependendo do parâmetro binarize -- treshold)\n",
    "\n",
    "Multinomial: Variáveis discretas. Usa contagem de frequência relativa."
   ]
  },
  {
   "cell_type": "code",
   "execution_count": 42,
   "metadata": {},
   "outputs": [
    {
     "data": {
      "text/plain": [
       "GaussianNB(priors=None)"
      ]
     },
     "execution_count": 42,
     "metadata": {},
     "output_type": "execute_result"
    }
   ],
   "source": [
    "from sklearn.naive_bayes import GaussianNB, BernoulliNB, MultinomialNB\n",
    "\n",
    "nb = GaussianNB()\n",
    "#nb = BernoulliNB(alpha=1.0, binarize=0.0, fit_prior=True, class_prior=None)\n",
    "#nb = MultinomialNB(alpha=1.0, fit_prior=True, class_prior=None)\n",
    "\n",
    "nb.fit(X_train, np.ravel(y_train))"
   ]
  },
  {
   "cell_type": "code",
   "execution_count": 93,
   "metadata": {},
   "outputs": [
    {
     "data": {
      "text/plain": [
       "0"
      ]
     },
     "execution_count": 93,
     "metadata": {},
     "output_type": "execute_result"
    }
   ],
   "source": [
    "nb.predict(std_scaler.transform([[1, 30, 40000]]))[0]"
   ]
  },
  {
   "cell_type": "markdown",
   "metadata": {},
   "source": [
    "Holdout"
   ]
  },
  {
   "cell_type": "code",
   "execution_count": 43,
   "metadata": {},
   "outputs": [
    {
     "data": {
      "text/html": [
       "<div>\n",
       "<style scoped>\n",
       "    .dataframe tbody tr th:only-of-type {\n",
       "        vertical-align: middle;\n",
       "    }\n",
       "\n",
       "    .dataframe tbody tr th {\n",
       "        vertical-align: top;\n",
       "    }\n",
       "\n",
       "    .dataframe thead th {\n",
       "        text-align: right;\n",
       "    }\n",
       "</style>\n",
       "<table border=\"1\" class=\"dataframe\">\n",
       "  <thead>\n",
       "    <tr style=\"text-align: right;\">\n",
       "      <th></th>\n",
       "      <th>Treino</th>\n",
       "      <th>Teste</th>\n",
       "    </tr>\n",
       "  </thead>\n",
       "  <tbody>\n",
       "    <tr>\n",
       "      <th>f1_score</th>\n",
       "      <td>0.844221</td>\n",
       "      <td>0.857143</td>\n",
       "    </tr>\n",
       "    <tr>\n",
       "      <th>precision_score</th>\n",
       "      <td>0.865979</td>\n",
       "      <td>0.916667</td>\n",
       "    </tr>\n",
       "    <tr>\n",
       "      <th>recall_score</th>\n",
       "      <td>0.823529</td>\n",
       "      <td>0.804878</td>\n",
       "    </tr>\n",
       "    <tr>\n",
       "      <th>accuracy_score</th>\n",
       "      <td>0.889286</td>\n",
       "      <td>0.908333</td>\n",
       "    </tr>\n",
       "    <tr>\n",
       "      <th>KS</th>\n",
       "      <td>0.331461</td>\n",
       "      <td>0.320161</td>\n",
       "    </tr>\n",
       "  </tbody>\n",
       "</table>\n",
       "</div>"
      ],
      "text/plain": [
       "                   Treino     Teste\n",
       "f1_score         0.844221  0.857143\n",
       "precision_score  0.865979  0.916667\n",
       "recall_score     0.823529  0.804878\n",
       "accuracy_score   0.889286  0.908333\n",
       "KS               0.331461  0.320161"
      ]
     },
     "execution_count": 43,
     "metadata": {},
     "output_type": "execute_result"
    }
   ],
   "source": [
    "results_holdout(nb, X_train, y_train, X_test, y_test)"
   ]
  },
  {
   "cell_type": "markdown",
   "metadata": {},
   "source": [
    "CV"
   ]
  },
  {
   "cell_type": "code",
   "execution_count": 44,
   "metadata": {},
   "outputs": [
    {
     "data": {
      "text/html": [
       "<div>\n",
       "<style scoped>\n",
       "    .dataframe tbody tr th:only-of-type {\n",
       "        vertical-align: middle;\n",
       "    }\n",
       "\n",
       "    .dataframe tbody tr th {\n",
       "        vertical-align: top;\n",
       "    }\n",
       "\n",
       "    .dataframe thead th {\n",
       "        text-align: right;\n",
       "    }\n",
       "</style>\n",
       "<table border=\"1\" class=\"dataframe\">\n",
       "  <thead>\n",
       "    <tr style=\"text-align: right;\">\n",
       "      <th></th>\n",
       "      <th>f1_Treino</th>\n",
       "      <th>f1_Teste</th>\n",
       "      <th>precision_Treino</th>\n",
       "      <th>precision_Teste</th>\n",
       "      <th>recall_Treino</th>\n",
       "      <th>recall_Teste</th>\n",
       "      <th>accuracy_Treino</th>\n",
       "      <th>accuracy_Teste</th>\n",
       "      <th>roc_auc_Treino</th>\n",
       "      <th>roc_auc_Teste</th>\n",
       "    </tr>\n",
       "  </thead>\n",
       "  <tbody>\n",
       "    <tr>\n",
       "      <th>0</th>\n",
       "      <td>0.847682</td>\n",
       "      <td>0.772727</td>\n",
       "      <td>0.864865</td>\n",
       "      <td>0.894737</td>\n",
       "      <td>0.831169</td>\n",
       "      <td>0.680000</td>\n",
       "      <td>0.897321</td>\n",
       "      <td>0.821429</td>\n",
       "      <td>0.942751</td>\n",
       "      <td>0.939355</td>\n",
       "    </tr>\n",
       "    <tr>\n",
       "      <th>1</th>\n",
       "      <td>0.857143</td>\n",
       "      <td>0.800000</td>\n",
       "      <td>0.868421</td>\n",
       "      <td>0.857143</td>\n",
       "      <td>0.846154</td>\n",
       "      <td>0.750000</td>\n",
       "      <td>0.901786</td>\n",
       "      <td>0.839286</td>\n",
       "      <td>0.954074</td>\n",
       "      <td>0.915365</td>\n",
       "    </tr>\n",
       "    <tr>\n",
       "      <th>2</th>\n",
       "      <td>0.875000</td>\n",
       "      <td>0.780488</td>\n",
       "      <td>0.909091</td>\n",
       "      <td>0.727273</td>\n",
       "      <td>0.843373</td>\n",
       "      <td>0.842105</td>\n",
       "      <td>0.910714</td>\n",
       "      <td>0.839286</td>\n",
       "      <td>0.957020</td>\n",
       "      <td>0.891892</td>\n",
       "    </tr>\n",
       "    <tr>\n",
       "      <th>3</th>\n",
       "      <td>0.824242</td>\n",
       "      <td>0.944444</td>\n",
       "      <td>0.850000</td>\n",
       "      <td>0.894737</td>\n",
       "      <td>0.800000</td>\n",
       "      <td>1.000000</td>\n",
       "      <td>0.870536</td>\n",
       "      <td>0.964286</td>\n",
       "      <td>0.940161</td>\n",
       "      <td>0.974359</td>\n",
       "    </tr>\n",
       "    <tr>\n",
       "      <th>4</th>\n",
       "      <td>0.826347</td>\n",
       "      <td>0.969697</td>\n",
       "      <td>0.841463</td>\n",
       "      <td>1.000000</td>\n",
       "      <td>0.811765</td>\n",
       "      <td>0.941176</td>\n",
       "      <td>0.870536</td>\n",
       "      <td>0.982143</td>\n",
       "      <td>0.931528</td>\n",
       "      <td>0.998492</td>\n",
       "    </tr>\n",
       "    <tr>\n",
       "      <th>media</th>\n",
       "      <td>0.846083</td>\n",
       "      <td>0.853471</td>\n",
       "      <td>0.866768</td>\n",
       "      <td>0.874778</td>\n",
       "      <td>0.826492</td>\n",
       "      <td>0.842656</td>\n",
       "      <td>0.890179</td>\n",
       "      <td>0.889286</td>\n",
       "      <td>0.945107</td>\n",
       "      <td>0.943892</td>\n",
       "    </tr>\n",
       "  </tbody>\n",
       "</table>\n",
       "</div>"
      ],
      "text/plain": [
       "       f1_Treino  f1_Teste  precision_Treino  precision_Teste  recall_Treino  \\\n",
       "0       0.847682  0.772727          0.864865         0.894737       0.831169   \n",
       "1       0.857143  0.800000          0.868421         0.857143       0.846154   \n",
       "2       0.875000  0.780488          0.909091         0.727273       0.843373   \n",
       "3       0.824242  0.944444          0.850000         0.894737       0.800000   \n",
       "4       0.826347  0.969697          0.841463         1.000000       0.811765   \n",
       "media   0.846083  0.853471          0.866768         0.874778       0.826492   \n",
       "\n",
       "       recall_Teste  accuracy_Treino  accuracy_Teste  roc_auc_Treino  \\\n",
       "0          0.680000         0.897321        0.821429        0.942751   \n",
       "1          0.750000         0.901786        0.839286        0.954074   \n",
       "2          0.842105         0.910714        0.839286        0.957020   \n",
       "3          1.000000         0.870536        0.964286        0.940161   \n",
       "4          0.941176         0.870536        0.982143        0.931528   \n",
       "media      0.842656         0.890179        0.889286        0.945107   \n",
       "\n",
       "       roc_auc_Teste  \n",
       "0           0.939355  \n",
       "1           0.915365  \n",
       "2           0.891892  \n",
       "3           0.974359  \n",
       "4           0.998492  \n",
       "media       0.943892  "
      ]
     },
     "execution_count": 44,
     "metadata": {},
     "output_type": "execute_result"
    }
   ],
   "source": [
    "results_cv(nb, X_train, y_train, cv_kfold)"
   ]
  },
  {
   "cell_type": "markdown",
   "metadata": {},
   "source": [
    "#### Decision Tree"
   ]
  },
  {
   "cell_type": "code",
   "execution_count": 45,
   "metadata": {
    "scrolled": true
   },
   "outputs": [
    {
     "data": {
      "text/plain": [
       "DecisionTreeClassifier(class_weight=None, criterion='gini', max_depth=None,\n",
       "            max_features=None, max_leaf_nodes=None,\n",
       "            min_impurity_decrease=0.0, min_impurity_split=None,\n",
       "            min_samples_leaf=1, min_samples_split=2,\n",
       "            min_weight_fraction_leaf=0.0, presort=False, random_state=None,\n",
       "            splitter='best')"
      ]
     },
     "execution_count": 45,
     "metadata": {},
     "output_type": "execute_result"
    }
   ],
   "source": [
    "from sklearn.tree import DecisionTreeClassifier\n",
    "\n",
    "tree = DecisionTreeClassifier(criterion = 'gini', splitter = 'best', max_depth = None, min_samples_split = 2, \n",
    "                              min_samples_leaf = 1, min_weight_fraction_leaf = 0.0, max_features = None, random_state = None, \n",
    "                              max_leaf_nodes = None, min_impurity_decrease = 0.0, min_impurity_split = None, \n",
    "                              class_weight = None, presort = False)\n",
    "tree.fit(X_train, y_train)"
   ]
  },
  {
   "cell_type": "code",
   "execution_count": 92,
   "metadata": {},
   "outputs": [
    {
     "data": {
      "text/plain": [
       "0"
      ]
     },
     "execution_count": 92,
     "metadata": {},
     "output_type": "execute_result"
    }
   ],
   "source": [
    "tree.predict(std_scaler.transform([[1, 30, 40000]]))[0]"
   ]
  },
  {
   "cell_type": "markdown",
   "metadata": {},
   "source": [
    "Grid Search"
   ]
  },
  {
   "cell_type": "code",
   "execution_count": 46,
   "metadata": {},
   "outputs": [
    {
     "name": "stdout",
     "output_type": "stream",
     "text": [
      "Best score: 0.9036\n",
      "Best parameters: {'criterion': 'entropy', 'max_depth': 2, 'min_samples_split': 0.01}\n"
     ]
    },
    {
     "data": {
      "text/plain": [
       "DecisionTreeClassifier(class_weight=None, criterion='entropy', max_depth=2,\n",
       "            max_features=None, max_leaf_nodes=None,\n",
       "            min_impurity_decrease=0.0, min_impurity_split=None,\n",
       "            min_samples_leaf=1, min_samples_split=0.01,\n",
       "            min_weight_fraction_leaf=0.0, presort=False, random_state=None,\n",
       "            splitter='best')"
      ]
     },
     "execution_count": 46,
     "metadata": {},
     "output_type": "execute_result"
    }
   ],
   "source": [
    "clf = DecisionTreeClassifier()\n",
    "params = {\n",
    "    'criterion' : ['entropy', 'gini'],\n",
    "    'min_samples_split': [0.01, 0.03] ,\n",
    "    'max_depth': [1,2,3]\n",
    "}\n",
    "\n",
    "grid, model, results = grid_search(clf, X_train, y_train, params, 'accuracy', cv_kfold)\n",
    "model"
   ]
  },
  {
   "cell_type": "markdown",
   "metadata": {},
   "source": [
    "Melhor modelo encontrado pelo grid"
   ]
  },
  {
   "cell_type": "code",
   "execution_count": 47,
   "metadata": {},
   "outputs": [],
   "source": [
    "best_params = {'criterion': 'entropy', 'max_depth': 2, 'min_samples_split': 0.01}"
   ]
  },
  {
   "cell_type": "code",
   "execution_count": 48,
   "metadata": {
    "scrolled": true
   },
   "outputs": [
    {
     "data": {
      "text/plain": [
       "DecisionTreeClassifier(class_weight=None, criterion='entropy', max_depth=2,\n",
       "            max_features=None, max_leaf_nodes=None,\n",
       "            min_impurity_decrease=0.0, min_impurity_split=None,\n",
       "            min_samples_leaf=1, min_samples_split=0.01,\n",
       "            min_weight_fraction_leaf=0.0, presort=False, random_state=None,\n",
       "            splitter='best')"
      ]
     },
     "execution_count": 48,
     "metadata": {},
     "output_type": "execute_result"
    }
   ],
   "source": [
    "best_tree = DecisionTreeClassifier()\n",
    "best_tree.set_params(**(best_params))\n",
    "\n",
    "best_tree.fit(X_train, np.ravel(y_train))"
   ]
  },
  {
   "cell_type": "code",
   "execution_count": 108,
   "metadata": {},
   "outputs": [
    {
     "data": {
      "text/plain": [
       "0"
      ]
     },
     "execution_count": 108,
     "metadata": {},
     "output_type": "execute_result"
    }
   ],
   "source": [
    "best_tree.predict(std_scaler.transform([[1, 30, 40000]]))[0]"
   ]
  },
  {
   "cell_type": "markdown",
   "metadata": {},
   "source": [
    "Holdout"
   ]
  },
  {
   "cell_type": "code",
   "execution_count": 49,
   "metadata": {},
   "outputs": [
    {
     "data": {
      "text/html": [
       "<div>\n",
       "<style scoped>\n",
       "    .dataframe tbody tr th:only-of-type {\n",
       "        vertical-align: middle;\n",
       "    }\n",
       "\n",
       "    .dataframe tbody tr th {\n",
       "        vertical-align: top;\n",
       "    }\n",
       "\n",
       "    .dataframe thead th {\n",
       "        text-align: right;\n",
       "    }\n",
       "</style>\n",
       "<table border=\"1\" class=\"dataframe\">\n",
       "  <thead>\n",
       "    <tr style=\"text-align: right;\">\n",
       "      <th></th>\n",
       "      <th>Treino</th>\n",
       "      <th>Teste</th>\n",
       "    </tr>\n",
       "  </thead>\n",
       "  <tbody>\n",
       "    <tr>\n",
       "      <th>f1_score</th>\n",
       "      <td>1.000000</td>\n",
       "      <td>0.833333</td>\n",
       "    </tr>\n",
       "    <tr>\n",
       "      <th>precision_score</th>\n",
       "      <td>1.000000</td>\n",
       "      <td>0.813953</td>\n",
       "    </tr>\n",
       "    <tr>\n",
       "      <th>recall_score</th>\n",
       "      <td>1.000000</td>\n",
       "      <td>0.853659</td>\n",
       "    </tr>\n",
       "    <tr>\n",
       "      <th>accuracy_score</th>\n",
       "      <td>1.000000</td>\n",
       "      <td>0.883333</td>\n",
       "    </tr>\n",
       "    <tr>\n",
       "      <th>KS</th>\n",
       "      <td>0.331461</td>\n",
       "      <td>0.295770</td>\n",
       "    </tr>\n",
       "  </tbody>\n",
       "</table>\n",
       "</div>"
      ],
      "text/plain": [
       "                   Treino     Teste\n",
       "f1_score         1.000000  0.833333\n",
       "precision_score  1.000000  0.813953\n",
       "recall_score     1.000000  0.853659\n",
       "accuracy_score   1.000000  0.883333\n",
       "KS               0.331461  0.295770"
      ]
     },
     "execution_count": 49,
     "metadata": {},
     "output_type": "execute_result"
    }
   ],
   "source": [
    "results_holdout(tree, X_train, y_train, X_test, y_test)"
   ]
  },
  {
   "cell_type": "markdown",
   "metadata": {},
   "source": [
    "CV"
   ]
  },
  {
   "cell_type": "code",
   "execution_count": 112,
   "metadata": {},
   "outputs": [
    {
     "data": {
      "text/html": [
       "<div>\n",
       "<style scoped>\n",
       "    .dataframe tbody tr th:only-of-type {\n",
       "        vertical-align: middle;\n",
       "    }\n",
       "\n",
       "    .dataframe tbody tr th {\n",
       "        vertical-align: top;\n",
       "    }\n",
       "\n",
       "    .dataframe thead th {\n",
       "        text-align: right;\n",
       "    }\n",
       "</style>\n",
       "<table border=\"1\" class=\"dataframe\">\n",
       "  <thead>\n",
       "    <tr style=\"text-align: right;\">\n",
       "      <th></th>\n",
       "      <th>f1_Treino</th>\n",
       "      <th>f1_Teste</th>\n",
       "      <th>precision_Treino</th>\n",
       "      <th>precision_Teste</th>\n",
       "      <th>recall_Treino</th>\n",
       "      <th>recall_Teste</th>\n",
       "      <th>accuracy_Treino</th>\n",
       "      <th>accuracy_Teste</th>\n",
       "      <th>roc_auc_Treino</th>\n",
       "      <th>roc_auc_Teste</th>\n",
       "    </tr>\n",
       "  </thead>\n",
       "  <tbody>\n",
       "    <tr>\n",
       "      <th>0</th>\n",
       "      <td>1.0</td>\n",
       "      <td>0.711111</td>\n",
       "      <td>1.0</td>\n",
       "      <td>0.800000</td>\n",
       "      <td>1.0</td>\n",
       "      <td>0.640000</td>\n",
       "      <td>1.0</td>\n",
       "      <td>0.785714</td>\n",
       "      <td>1.0</td>\n",
       "      <td>0.795484</td>\n",
       "    </tr>\n",
       "    <tr>\n",
       "      <th>1</th>\n",
       "      <td>1.0</td>\n",
       "      <td>0.750000</td>\n",
       "      <td>1.0</td>\n",
       "      <td>0.739130</td>\n",
       "      <td>1.0</td>\n",
       "      <td>0.750000</td>\n",
       "      <td>1.0</td>\n",
       "      <td>0.785714</td>\n",
       "      <td>1.0</td>\n",
       "      <td>0.781250</td>\n",
       "    </tr>\n",
       "    <tr>\n",
       "      <th>2</th>\n",
       "      <td>1.0</td>\n",
       "      <td>0.731707</td>\n",
       "      <td>1.0</td>\n",
       "      <td>0.681818</td>\n",
       "      <td>1.0</td>\n",
       "      <td>0.789474</td>\n",
       "      <td>1.0</td>\n",
       "      <td>0.803571</td>\n",
       "      <td>1.0</td>\n",
       "      <td>0.800142</td>\n",
       "    </tr>\n",
       "    <tr>\n",
       "      <th>3</th>\n",
       "      <td>1.0</td>\n",
       "      <td>0.810811</td>\n",
       "      <td>1.0</td>\n",
       "      <td>0.750000</td>\n",
       "      <td>1.0</td>\n",
       "      <td>0.764706</td>\n",
       "      <td>1.0</td>\n",
       "      <td>0.839286</td>\n",
       "      <td>1.0</td>\n",
       "      <td>0.877074</td>\n",
       "    </tr>\n",
       "    <tr>\n",
       "      <th>4</th>\n",
       "      <td>1.0</td>\n",
       "      <td>0.909091</td>\n",
       "      <td>1.0</td>\n",
       "      <td>0.875000</td>\n",
       "      <td>1.0</td>\n",
       "      <td>0.882353</td>\n",
       "      <td>1.0</td>\n",
       "      <td>0.928571</td>\n",
       "      <td>1.0</td>\n",
       "      <td>0.869532</td>\n",
       "    </tr>\n",
       "    <tr>\n",
       "      <th>media</th>\n",
       "      <td>1.0</td>\n",
       "      <td>0.782544</td>\n",
       "      <td>1.0</td>\n",
       "      <td>0.769190</td>\n",
       "      <td>1.0</td>\n",
       "      <td>0.765307</td>\n",
       "      <td>1.0</td>\n",
       "      <td>0.828571</td>\n",
       "      <td>1.0</td>\n",
       "      <td>0.824696</td>\n",
       "    </tr>\n",
       "  </tbody>\n",
       "</table>\n",
       "</div>"
      ],
      "text/plain": [
       "       f1_Treino  f1_Teste  precision_Treino  precision_Teste  recall_Treino  \\\n",
       "0            1.0  0.711111               1.0         0.800000            1.0   \n",
       "1            1.0  0.750000               1.0         0.739130            1.0   \n",
       "2            1.0  0.731707               1.0         0.681818            1.0   \n",
       "3            1.0  0.810811               1.0         0.750000            1.0   \n",
       "4            1.0  0.909091               1.0         0.875000            1.0   \n",
       "media        1.0  0.782544               1.0         0.769190            1.0   \n",
       "\n",
       "       recall_Teste  accuracy_Treino  accuracy_Teste  roc_auc_Treino  \\\n",
       "0          0.640000              1.0        0.785714             1.0   \n",
       "1          0.750000              1.0        0.785714             1.0   \n",
       "2          0.789474              1.0        0.803571             1.0   \n",
       "3          0.764706              1.0        0.839286             1.0   \n",
       "4          0.882353              1.0        0.928571             1.0   \n",
       "media      0.765307              1.0        0.828571             1.0   \n",
       "\n",
       "       roc_auc_Teste  \n",
       "0           0.795484  \n",
       "1           0.781250  \n",
       "2           0.800142  \n",
       "3           0.877074  \n",
       "4           0.869532  \n",
       "media       0.824696  "
      ]
     },
     "execution_count": 112,
     "metadata": {},
     "output_type": "execute_result"
    }
   ],
   "source": [
    "results_cv(tree, X_train, y_train, cv_kfold)"
   ]
  },
  {
   "cell_type": "markdown",
   "metadata": {},
   "source": [
    "Visualização"
   ]
  },
  {
   "cell_type": "code",
   "execution_count": 79,
   "metadata": {},
   "outputs": [],
   "source": [
    "from sklearn.tree import export_graphviz\n",
    "import graphviz "
   ]
  },
  {
   "cell_type": "code",
   "execution_count": 76,
   "metadata": {},
   "outputs": [],
   "source": [
    "class_names = list(map(lambda x: str(x), list(set(y_train.Purchased))))"
   ]
  },
  {
   "cell_type": "code",
   "execution_count": 84,
   "metadata": {},
   "outputs": [
    {
     "data": {
      "image/svg+xml": [
       "<?xml version=\"1.0\" encoding=\"UTF-8\" standalone=\"no\"?>\r\n",
       "<!DOCTYPE svg PUBLIC \"-//W3C//DTD SVG 1.1//EN\"\r\n",
       " \"http://www.w3.org/Graphics/SVG/1.1/DTD/svg11.dtd\">\r\n",
       "<!-- Generated by graphviz version 2.38.0 (20140413.2041)\r\n",
       " -->\r\n",
       "<!-- Title: Tree Pages: 1 -->\r\n",
       "<svg width=\"545pt\" height=\"314pt\"\r\n",
       " viewBox=\"0.00 0.00 544.50 314.00\" xmlns=\"http://www.w3.org/2000/svg\" xmlns:xlink=\"http://www.w3.org/1999/xlink\">\r\n",
       "<g id=\"graph0\" class=\"graph\" transform=\"scale(1 1) rotate(0) translate(4 310)\">\r\n",
       "<title>Tree</title>\r\n",
       "<polygon fill=\"white\" stroke=\"none\" points=\"-4,4 -4,-310 540.5,-310 540.5,4 -4,4\"/>\r\n",
       "<!-- 0 -->\r\n",
       "<g id=\"node1\" class=\"node\"><title>0</title>\r\n",
       "<path fill=\"#e58139\" fill-opacity=\"0.427451\" stroke=\"black\" d=\"M320,-306C320,-306 214,-306 214,-306 208,-306 202,-300 202,-294 202,-294 202,-235 202,-235 202,-229 208,-223 214,-223 214,-223 320,-223 320,-223 326,-223 332,-229 332,-235 332,-235 332,-294 332,-294 332,-300 326,-306 320,-306\"/>\r\n",
       "<text text-anchor=\"start\" x=\"227.5\" y=\"-290.8\" font-family=\"Helvetica,sans-Serif\" font-size=\"14.00\">Age ≤ 0.558</text>\r\n",
       "<text text-anchor=\"start\" x=\"217\" y=\"-275.8\" font-family=\"Helvetica,sans-Serif\" font-size=\"14.00\">entropy = 0.946</text>\r\n",
       "<text text-anchor=\"start\" x=\"219.5\" y=\"-260.8\" font-family=\"Helvetica,sans-Serif\" font-size=\"14.00\">samples = 280</text>\r\n",
       "<text text-anchor=\"start\" x=\"210\" y=\"-245.8\" font-family=\"Helvetica,sans-Serif\" font-size=\"14.00\">value = [178, 102]</text>\r\n",
       "<text text-anchor=\"start\" x=\"238\" y=\"-230.8\" font-family=\"Helvetica,sans-Serif\" font-size=\"14.00\">class = 0</text>\r\n",
       "</g>\r\n",
       "<!-- 1 -->\r\n",
       "<g id=\"node2\" class=\"node\"><title>1</title>\r\n",
       "<path fill=\"#e58139\" fill-opacity=\"0.784314\" stroke=\"black\" d=\"M242.5,-187C242.5,-187 103.5,-187 103.5,-187 97.5,-187 91.5,-181 91.5,-175 91.5,-175 91.5,-116 91.5,-116 91.5,-110 97.5,-104 103.5,-104 103.5,-104 242.5,-104 242.5,-104 248.5,-104 254.5,-110 254.5,-116 254.5,-116 254.5,-175 254.5,-175 254.5,-181 248.5,-187 242.5,-187\"/>\r\n",
       "<text text-anchor=\"start\" x=\"99.5\" y=\"-171.8\" font-family=\"Helvetica,sans-Serif\" font-size=\"14.00\">EstimatedSalary ≤ 0.61</text>\r\n",
       "<text text-anchor=\"start\" x=\"123\" y=\"-156.8\" font-family=\"Helvetica,sans-Serif\" font-size=\"14.00\">entropy = 0.676</text>\r\n",
       "<text text-anchor=\"start\" x=\"125.5\" y=\"-141.8\" font-family=\"Helvetica,sans-Serif\" font-size=\"14.00\">samples = 202</text>\r\n",
       "<text text-anchor=\"start\" x=\"120\" y=\"-126.8\" font-family=\"Helvetica,sans-Serif\" font-size=\"14.00\">value = [166, 36]</text>\r\n",
       "<text text-anchor=\"start\" x=\"144\" y=\"-111.8\" font-family=\"Helvetica,sans-Serif\" font-size=\"14.00\">class = 0</text>\r\n",
       "</g>\r\n",
       "<!-- 0&#45;&gt;1 -->\r\n",
       "<g id=\"edge1\" class=\"edge\"><title>0&#45;&gt;1</title>\r\n",
       "<path fill=\"none\" stroke=\"black\" d=\"M234.387,-222.907C227.169,-213.923 219.45,-204.315 212.006,-195.05\"/>\r\n",
       "<polygon fill=\"black\" stroke=\"black\" points=\"214.547,-192.624 205.555,-187.021 209.09,-197.009 214.547,-192.624\"/>\r\n",
       "<text text-anchor=\"middle\" x=\"202.846\" y=\"-208.174\" font-family=\"Helvetica,sans-Serif\" font-size=\"14.00\">True</text>\r\n",
       "</g>\r\n",
       "<!-- 4 -->\r\n",
       "<g id=\"node5\" class=\"node\"><title>4</title>\r\n",
       "<path fill=\"#399de5\" fill-opacity=\"0.819608\" stroke=\"black\" d=\"M437,-187C437,-187 285,-187 285,-187 279,-187 273,-181 273,-175 273,-175 273,-116 273,-116 273,-110 279,-104 285,-104 285,-104 437,-104 437,-104 443,-104 449,-110 449,-116 449,-116 449,-175 449,-175 449,-181 443,-187 437,-187\"/>\r\n",
       "<text text-anchor=\"start\" x=\"281\" y=\"-171.8\" font-family=\"Helvetica,sans-Serif\" font-size=\"14.00\">EstimatedSalary ≤ &#45;0.829</text>\r\n",
       "<text text-anchor=\"start\" x=\"311\" y=\"-156.8\" font-family=\"Helvetica,sans-Serif\" font-size=\"14.00\">entropy = 0.619</text>\r\n",
       "<text text-anchor=\"start\" x=\"317.5\" y=\"-141.8\" font-family=\"Helvetica,sans-Serif\" font-size=\"14.00\">samples = 78</text>\r\n",
       "<text text-anchor=\"start\" x=\"312.5\" y=\"-126.8\" font-family=\"Helvetica,sans-Serif\" font-size=\"14.00\">value = [12, 66]</text>\r\n",
       "<text text-anchor=\"start\" x=\"332\" y=\"-111.8\" font-family=\"Helvetica,sans-Serif\" font-size=\"14.00\">class = 1</text>\r\n",
       "</g>\r\n",
       "<!-- 0&#45;&gt;4 -->\r\n",
       "<g id=\"edge4\" class=\"edge\"><title>0&#45;&gt;4</title>\r\n",
       "<path fill=\"none\" stroke=\"black\" d=\"M299.613,-222.907C306.831,-213.923 314.55,-204.315 321.994,-195.05\"/>\r\n",
       "<polygon fill=\"black\" stroke=\"black\" points=\"324.91,-197.009 328.445,-187.021 319.453,-192.624 324.91,-197.009\"/>\r\n",
       "<text text-anchor=\"middle\" x=\"331.154\" y=\"-208.174\" font-family=\"Helvetica,sans-Serif\" font-size=\"14.00\">False</text>\r\n",
       "</g>\r\n",
       "<!-- 2 -->\r\n",
       "<g id=\"node3\" class=\"node\"><title>2</title>\r\n",
       "<path fill=\"#e58139\" fill-opacity=\"0.960784\" stroke=\"black\" d=\"M104,-68C104,-68 12,-68 12,-68 6,-68 0,-62 0,-56 0,-56 0,-12 0,-12 0,-6 6,-0 12,-0 12,-0 104,-0 104,-0 110,-0 116,-6 116,-12 116,-12 116,-56 116,-56 116,-62 110,-68 104,-68\"/>\r\n",
       "<text text-anchor=\"start\" x=\"8\" y=\"-52.8\" font-family=\"Helvetica,sans-Serif\" font-size=\"14.00\">entropy = 0.224</text>\r\n",
       "<text text-anchor=\"start\" x=\"10.5\" y=\"-37.8\" font-family=\"Helvetica,sans-Serif\" font-size=\"14.00\">samples = 166</text>\r\n",
       "<text text-anchor=\"start\" x=\"9.5\" y=\"-22.8\" font-family=\"Helvetica,sans-Serif\" font-size=\"14.00\">value = [160, 6]</text>\r\n",
       "<text text-anchor=\"start\" x=\"29\" y=\"-7.8\" font-family=\"Helvetica,sans-Serif\" font-size=\"14.00\">class = 0</text>\r\n",
       "</g>\r\n",
       "<!-- 1&#45;&gt;2 -->\r\n",
       "<g id=\"edge2\" class=\"edge\"><title>1&#45;&gt;2</title>\r\n",
       "<path fill=\"none\" stroke=\"black\" d=\"M130.178,-103.726C120.408,-94.423 110.031,-84.5428 100.283,-75.2612\"/>\r\n",
       "<polygon fill=\"black\" stroke=\"black\" points=\"102.628,-72.6606 92.9722,-68.2996 97.8008,-77.7301 102.628,-72.6606\"/>\r\n",
       "</g>\r\n",
       "<!-- 3 -->\r\n",
       "<g id=\"node4\" class=\"node\"><title>3</title>\r\n",
       "<path fill=\"#399de5\" fill-opacity=\"0.800000\" stroke=\"black\" d=\"M230,-68C230,-68 146,-68 146,-68 140,-68 134,-62 134,-56 134,-56 134,-12 134,-12 134,-6 140,-0 146,-0 146,-0 230,-0 230,-0 236,-0 242,-6 242,-12 242,-12 242,-56 242,-56 242,-62 236,-68 230,-68\"/>\r\n",
       "<text text-anchor=\"start\" x=\"142\" y=\"-52.8\" font-family=\"Helvetica,sans-Serif\" font-size=\"14.00\">entropy = 0.65</text>\r\n",
       "<text text-anchor=\"start\" x=\"144.5\" y=\"-37.8\" font-family=\"Helvetica,sans-Serif\" font-size=\"14.00\">samples = 36</text>\r\n",
       "<text text-anchor=\"start\" x=\"143.5\" y=\"-22.8\" font-family=\"Helvetica,sans-Serif\" font-size=\"14.00\">value = [6, 30]</text>\r\n",
       "<text text-anchor=\"start\" x=\"159\" y=\"-7.8\" font-family=\"Helvetica,sans-Serif\" font-size=\"14.00\">class = 1</text>\r\n",
       "</g>\r\n",
       "<!-- 1&#45;&gt;3 -->\r\n",
       "<g id=\"edge3\" class=\"edge\"><title>1&#45;&gt;3</title>\r\n",
       "<path fill=\"none\" stroke=\"black\" d=\"M178.585,-103.726C179.722,-95.4263 180.922,-86.6671 182.071,-78.2834\"/>\r\n",
       "<polygon fill=\"black\" stroke=\"black\" points=\"185.549,-78.6821 183.438,-68.2996 178.614,-77.732 185.549,-78.6821\"/>\r\n",
       "</g>\r\n",
       "<!-- 5 -->\r\n",
       "<g id=\"node6\" class=\"node\"><title>5</title>\r\n",
       "<path fill=\"#399de5\" fill-opacity=\"0.964706\" stroke=\"black\" d=\"M393,-68C393,-68 301,-68 301,-68 295,-68 289,-62 289,-56 289,-56 289,-12 289,-12 289,-6 295,-0 301,-0 301,-0 393,-0 393,-0 399,-0 405,-6 405,-12 405,-12 405,-56 405,-56 405,-62 399,-68 393,-68\"/>\r\n",
       "<text text-anchor=\"start\" x=\"297\" y=\"-52.8\" font-family=\"Helvetica,sans-Serif\" font-size=\"14.00\">entropy = 0.222</text>\r\n",
       "<text text-anchor=\"start\" x=\"303.5\" y=\"-37.8\" font-family=\"Helvetica,sans-Serif\" font-size=\"14.00\">samples = 28</text>\r\n",
       "<text text-anchor=\"start\" x=\"302.5\" y=\"-22.8\" font-family=\"Helvetica,sans-Serif\" font-size=\"14.00\">value = [1, 27]</text>\r\n",
       "<text text-anchor=\"start\" x=\"318\" y=\"-7.8\" font-family=\"Helvetica,sans-Serif\" font-size=\"14.00\">class = 1</text>\r\n",
       "</g>\r\n",
       "<!-- 4&#45;&gt;5 -->\r\n",
       "<g id=\"edge5\" class=\"edge\"><title>4&#45;&gt;5</title>\r\n",
       "<path fill=\"none\" stroke=\"black\" d=\"M355.787,-103.726C354.726,-95.4263 353.606,-86.6671 352.534,-78.2834\"/>\r\n",
       "<polygon fill=\"black\" stroke=\"black\" points=\"355.998,-77.7749 351.257,-68.2996 349.054,-78.6628 355.998,-77.7749\"/>\r\n",
       "</g>\r\n",
       "<!-- 6 -->\r\n",
       "<g id=\"node7\" class=\"node\"><title>6</title>\r\n",
       "<path fill=\"#399de5\" fill-opacity=\"0.717647\" stroke=\"black\" d=\"M524.5,-68C524.5,-68 435.5,-68 435.5,-68 429.5,-68 423.5,-62 423.5,-56 423.5,-56 423.5,-12 423.5,-12 423.5,-6 429.5,-0 435.5,-0 435.5,-0 524.5,-0 524.5,-0 530.5,-0 536.5,-6 536.5,-12 536.5,-12 536.5,-56 536.5,-56 536.5,-62 530.5,-68 524.5,-68\"/>\r\n",
       "<text text-anchor=\"start\" x=\"434\" y=\"-52.8\" font-family=\"Helvetica,sans-Serif\" font-size=\"14.00\">entropy = 0.76</text>\r\n",
       "<text text-anchor=\"start\" x=\"436.5\" y=\"-37.8\" font-family=\"Helvetica,sans-Serif\" font-size=\"14.00\">samples = 50</text>\r\n",
       "<text text-anchor=\"start\" x=\"431.5\" y=\"-22.8\" font-family=\"Helvetica,sans-Serif\" font-size=\"14.00\">value = [11, 39]</text>\r\n",
       "<text text-anchor=\"start\" x=\"451\" y=\"-7.8\" font-family=\"Helvetica,sans-Serif\" font-size=\"14.00\">class = 1</text>\r\n",
       "</g>\r\n",
       "<!-- 4&#45;&gt;6 -->\r\n",
       "<g id=\"edge6\" class=\"edge\"><title>4&#45;&gt;6</title>\r\n",
       "<path fill=\"none\" stroke=\"black\" d=\"M405.311,-103.726C415.422,-94.423 426.159,-84.5428 436.246,-75.2612\"/>\r\n",
       "<polygon fill=\"black\" stroke=\"black\" points=\"438.823,-77.6464 443.811,-68.2996 434.083,-72.4953 438.823,-77.6464\"/>\r\n",
       "</g>\r\n",
       "</g>\r\n",
       "</svg>\r\n"
      ],
      "text/plain": [
       "<graphviz.files.Source at 0x26ca3f25b38>"
      ]
     },
     "execution_count": 84,
     "metadata": {},
     "output_type": "execute_result"
    }
   ],
   "source": [
    "dot_data = export_graphviz(best_tree, out_file=None, feature_names=list(X_train.columns), class_names=class_names,  \n",
    "                         filled=True, rounded=True, special_characters=True) \n",
    "graph = graphviz.Source(dot_data) \n",
    "graph\n",
    "#graph.view()"
   ]
  },
  {
   "cell_type": "markdown",
   "metadata": {},
   "source": [
    "### Ensembles"
   ]
  },
  {
   "cell_type": "markdown",
   "metadata": {},
   "source": [
    "#### Random Forest\n",
    "\n",
    "   - Cada uma das árvores é construída por uma amostra com reposição (bootstrap) do conjunto de treino\n",
    "   - Quando se faz o split/divisão do nó durante a construção da árvore, o split que é escolhido não é mais o melhor dentre todas as features, mas o melhor dentro de um subconjunto de features, melhorando a aleatoriedade e variedade das árvores. Isso proporciona ao modelo encontrar outras ramificações boas caso, e.g, uma feature seja sempre escolhida para fazer o primeiro corte na árvore. Sem o subconjunto de features, essa feature seria escolhida como primeiro corte para todas as árvores e diminuiria a variação dela, sem criar modelos mais distintos para o modelo final melhor"
   ]
  },
  {
   "cell_type": "code",
   "execution_count": 102,
   "metadata": {},
   "outputs": [
    {
     "data": {
      "text/plain": [
       "RandomForestClassifier(bootstrap=True, class_weight=None, criterion='entropy',\n",
       "            max_depth=3, max_features='log2', max_leaf_nodes=None,\n",
       "            min_impurity_decrease=0.0, min_impurity_split=None,\n",
       "            min_samples_leaf=1, min_samples_split=0.03,\n",
       "            min_weight_fraction_leaf=0.0, n_estimators=10, n_jobs=1,\n",
       "            oob_score=False, random_state=None, verbose=0,\n",
       "            warm_start=False)"
      ]
     },
     "execution_count": 102,
     "metadata": {},
     "output_type": "execute_result"
    }
   ],
   "source": [
    "from sklearn.ensemble import RandomForestClassifier\n",
    "\n",
    "params = {\n",
    "    'criterion' : 'entropy',\n",
    "    'min_samples_split': 0.03 ,\n",
    "    'max_depth': 3,\n",
    "    'max_features': 'log2'\n",
    "}\n",
    "\n",
    "rand_forest = RandomForestClassifier(n_estimators = 10, criterion = 'gini', max_depth = None, min_samples_split = 2, \n",
    "                                     min_samples_leaf = 1, min_weight_fraction_leaf = 0.0, max_features = 'auto', \n",
    "                                     max_leaf_nodes = None, min_impurity_decrease = 0.0, min_impurity_split = None, \n",
    "                                     bootstrap = True, oob_score = False, n_jobs = 1, random_state = None, verbose = 0, \n",
    "                                     warm_start = False, class_weight = None)\n",
    "rand_forest.set_params(**(params))"
   ]
  },
  {
   "cell_type": "code",
   "execution_count": 105,
   "metadata": {},
   "outputs": [
    {
     "data": {
      "text/plain": [
       "0"
      ]
     },
     "execution_count": 105,
     "metadata": {},
     "output_type": "execute_result"
    }
   ],
   "source": [
    "rand_forest.fit(X_train, np.ravel(y_train))\n",
    "rand_forest.predict(std_scaler.transform([[1, 30, 40000]]))[0]"
   ]
  },
  {
   "cell_type": "markdown",
   "metadata": {},
   "source": [
    "Holdout"
   ]
  },
  {
   "cell_type": "code",
   "execution_count": 106,
   "metadata": {},
   "outputs": [
    {
     "data": {
      "text/html": [
       "<div>\n",
       "<style scoped>\n",
       "    .dataframe tbody tr th:only-of-type {\n",
       "        vertical-align: middle;\n",
       "    }\n",
       "\n",
       "    .dataframe tbody tr th {\n",
       "        vertical-align: top;\n",
       "    }\n",
       "\n",
       "    .dataframe thead th {\n",
       "        text-align: right;\n",
       "    }\n",
       "</style>\n",
       "<table border=\"1\" class=\"dataframe\">\n",
       "  <thead>\n",
       "    <tr style=\"text-align: right;\">\n",
       "      <th></th>\n",
       "      <th>Treino</th>\n",
       "      <th>Teste</th>\n",
       "    </tr>\n",
       "  </thead>\n",
       "  <tbody>\n",
       "    <tr>\n",
       "      <th>f1_score</th>\n",
       "      <td>0.898148</td>\n",
       "      <td>0.870588</td>\n",
       "    </tr>\n",
       "    <tr>\n",
       "      <th>precision_score</th>\n",
       "      <td>0.850877</td>\n",
       "      <td>0.840909</td>\n",
       "    </tr>\n",
       "    <tr>\n",
       "      <th>recall_score</th>\n",
       "      <td>0.950980</td>\n",
       "      <td>0.902439</td>\n",
       "    </tr>\n",
       "    <tr>\n",
       "      <th>accuracy_score</th>\n",
       "      <td>0.921429</td>\n",
       "      <td>0.908333</td>\n",
       "    </tr>\n",
       "    <tr>\n",
       "      <th>KS</th>\n",
       "      <td>0.331461</td>\n",
       "      <td>0.368941</td>\n",
       "    </tr>\n",
       "  </tbody>\n",
       "</table>\n",
       "</div>"
      ],
      "text/plain": [
       "                   Treino     Teste\n",
       "f1_score         0.898148  0.870588\n",
       "precision_score  0.850877  0.840909\n",
       "recall_score     0.950980  0.902439\n",
       "accuracy_score   0.921429  0.908333\n",
       "KS               0.331461  0.368941"
      ]
     },
     "execution_count": 106,
     "metadata": {},
     "output_type": "execute_result"
    }
   ],
   "source": [
    "results_holdout(rand_forest, X_train, y_train, X_test, y_test)"
   ]
  },
  {
   "cell_type": "markdown",
   "metadata": {},
   "source": [
    "CV"
   ]
  },
  {
   "cell_type": "code",
   "execution_count": 107,
   "metadata": {},
   "outputs": [
    {
     "data": {
      "text/html": [
       "<div>\n",
       "<style scoped>\n",
       "    .dataframe tbody tr th:only-of-type {\n",
       "        vertical-align: middle;\n",
       "    }\n",
       "\n",
       "    .dataframe tbody tr th {\n",
       "        vertical-align: top;\n",
       "    }\n",
       "\n",
       "    .dataframe thead th {\n",
       "        text-align: right;\n",
       "    }\n",
       "</style>\n",
       "<table border=\"1\" class=\"dataframe\">\n",
       "  <thead>\n",
       "    <tr style=\"text-align: right;\">\n",
       "      <th></th>\n",
       "      <th>f1_Treino</th>\n",
       "      <th>f1_Teste</th>\n",
       "      <th>precision_Treino</th>\n",
       "      <th>precision_Teste</th>\n",
       "      <th>recall_Treino</th>\n",
       "      <th>recall_Teste</th>\n",
       "      <th>accuracy_Treino</th>\n",
       "      <th>accuracy_Teste</th>\n",
       "      <th>roc_auc_Treino</th>\n",
       "      <th>roc_auc_Teste</th>\n",
       "    </tr>\n",
       "  </thead>\n",
       "  <tbody>\n",
       "    <tr>\n",
       "      <th>0</th>\n",
       "      <td>0.910180</td>\n",
       "      <td>0.875000</td>\n",
       "      <td>0.878049</td>\n",
       "      <td>0.900000</td>\n",
       "      <td>0.935065</td>\n",
       "      <td>0.600000</td>\n",
       "      <td>0.937500</td>\n",
       "      <td>0.839286</td>\n",
       "      <td>0.976102</td>\n",
       "      <td>0.889032</td>\n",
       "    </tr>\n",
       "    <tr>\n",
       "      <th>1</th>\n",
       "      <td>0.900000</td>\n",
       "      <td>0.857143</td>\n",
       "      <td>0.857143</td>\n",
       "      <td>0.846154</td>\n",
       "      <td>0.935897</td>\n",
       "      <td>0.875000</td>\n",
       "      <td>0.919643</td>\n",
       "      <td>0.892857</td>\n",
       "      <td>0.973700</td>\n",
       "      <td>0.921875</td>\n",
       "    </tr>\n",
       "    <tr>\n",
       "      <th>2</th>\n",
       "      <td>0.908046</td>\n",
       "      <td>0.800000</td>\n",
       "      <td>0.885057</td>\n",
       "      <td>0.750000</td>\n",
       "      <td>0.903614</td>\n",
       "      <td>0.842105</td>\n",
       "      <td>0.937500</td>\n",
       "      <td>0.875000</td>\n",
       "      <td>0.964368</td>\n",
       "      <td>0.889047</td>\n",
       "    </tr>\n",
       "    <tr>\n",
       "      <th>3</th>\n",
       "      <td>0.865854</td>\n",
       "      <td>0.864865</td>\n",
       "      <td>0.868132</td>\n",
       "      <td>0.809524</td>\n",
       "      <td>0.882353</td>\n",
       "      <td>1.000000</td>\n",
       "      <td>0.915179</td>\n",
       "      <td>0.910714</td>\n",
       "      <td>0.959247</td>\n",
       "      <td>0.959276</td>\n",
       "    </tr>\n",
       "    <tr>\n",
       "      <th>4</th>\n",
       "      <td>0.882682</td>\n",
       "      <td>1.000000</td>\n",
       "      <td>0.827957</td>\n",
       "      <td>0.941176</td>\n",
       "      <td>0.882353</td>\n",
       "      <td>0.941176</td>\n",
       "      <td>0.866071</td>\n",
       "      <td>0.964286</td>\n",
       "      <td>0.948921</td>\n",
       "      <td>0.992459</td>\n",
       "    </tr>\n",
       "    <tr>\n",
       "      <th>media</th>\n",
       "      <td>0.893352</td>\n",
       "      <td>0.879402</td>\n",
       "      <td>0.863268</td>\n",
       "      <td>0.849371</td>\n",
       "      <td>0.907857</td>\n",
       "      <td>0.851656</td>\n",
       "      <td>0.915179</td>\n",
       "      <td>0.896429</td>\n",
       "      <td>0.964468</td>\n",
       "      <td>0.930338</td>\n",
       "    </tr>\n",
       "  </tbody>\n",
       "</table>\n",
       "</div>"
      ],
      "text/plain": [
       "       f1_Treino  f1_Teste  precision_Treino  precision_Teste  recall_Treino  \\\n",
       "0       0.910180  0.875000          0.878049         0.900000       0.935065   \n",
       "1       0.900000  0.857143          0.857143         0.846154       0.935897   \n",
       "2       0.908046  0.800000          0.885057         0.750000       0.903614   \n",
       "3       0.865854  0.864865          0.868132         0.809524       0.882353   \n",
       "4       0.882682  1.000000          0.827957         0.941176       0.882353   \n",
       "media   0.893352  0.879402          0.863268         0.849371       0.907857   \n",
       "\n",
       "       recall_Teste  accuracy_Treino  accuracy_Teste  roc_auc_Treino  \\\n",
       "0          0.600000         0.937500        0.839286        0.976102   \n",
       "1          0.875000         0.919643        0.892857        0.973700   \n",
       "2          0.842105         0.937500        0.875000        0.964368   \n",
       "3          1.000000         0.915179        0.910714        0.959247   \n",
       "4          0.941176         0.866071        0.964286        0.948921   \n",
       "media      0.851656         0.915179        0.896429        0.964468   \n",
       "\n",
       "       roc_auc_Teste  \n",
       "0           0.889032  \n",
       "1           0.921875  \n",
       "2           0.889047  \n",
       "3           0.959276  \n",
       "4           0.992459  \n",
       "media       0.930338  "
      ]
     },
     "execution_count": 107,
     "metadata": {},
     "output_type": "execute_result"
    }
   ],
   "source": [
    "results_cv(rand_forest, X_train, y_train, cv_kfold)"
   ]
  },
  {
   "cell_type": "markdown",
   "metadata": {},
   "source": [
    "#### Bagging\n",
    "\n",
    "   - Classe de algoritmos que constrói uma série de instâncias de um estimador em conjuntos aleatórios com reposição (bootstrap) do conjunto original e agrega suas predições individuais para formar a predição final. \n",
    "   - Reduz overfitting\n",
    "   - Pode ser treinado em paralelo"
   ]
  },
  {
   "cell_type": "code",
   "execution_count": 87,
   "metadata": {
    "scrolled": true
   },
   "outputs": [
    {
     "data": {
      "text/plain": [
       "BaggingClassifier(base_estimator=KNeighborsClassifier(algorithm='auto', leaf_size=30, metric='minkowski',\n",
       "           metric_params=None, n_jobs=1, n_neighbors=5, p=2,\n",
       "           weights='uniform'),\n",
       "         bootstrap=True, bootstrap_features=False, max_features=1.0,\n",
       "         max_samples=1.0, n_estimators=10, n_jobs=1, oob_score=False,\n",
       "         random_state=None, verbose=0, warm_start=False)"
      ]
     },
     "execution_count": 87,
     "metadata": {},
     "output_type": "execute_result"
    }
   ],
   "source": [
    "from sklearn.ensemble import BaggingClassifier\n",
    "from sklearn.neighbors import KNeighborsClassifier\n",
    "\n",
    "bagging = BaggingClassifier(base_estimator = KNeighborsClassifier(), n_estimators=10, max_samples=1.0, max_features=1.0, \n",
    "                            bootstrap=True, bootstrap_features=False, oob_score=False, warm_start=False, n_jobs=1, \n",
    "                            random_state=None, verbose=0)\n",
    "bagging.fit(X_train, np.ravel(y_train))"
   ]
  },
  {
   "cell_type": "code",
   "execution_count": 91,
   "metadata": {},
   "outputs": [
    {
     "data": {
      "text/plain": [
       "0"
      ]
     },
     "execution_count": 91,
     "metadata": {},
     "output_type": "execute_result"
    }
   ],
   "source": [
    "bagging.predict(std_scaler.transform([[1, 30, 40000]]))[0]"
   ]
  },
  {
   "cell_type": "markdown",
   "metadata": {},
   "source": [
    "Holdout"
   ]
  },
  {
   "cell_type": "code",
   "execution_count": 94,
   "metadata": {},
   "outputs": [
    {
     "data": {
      "text/html": [
       "<div>\n",
       "<style scoped>\n",
       "    .dataframe tbody tr th:only-of-type {\n",
       "        vertical-align: middle;\n",
       "    }\n",
       "\n",
       "    .dataframe tbody tr th {\n",
       "        vertical-align: top;\n",
       "    }\n",
       "\n",
       "    .dataframe thead th {\n",
       "        text-align: right;\n",
       "    }\n",
       "</style>\n",
       "<table border=\"1\" class=\"dataframe\">\n",
       "  <thead>\n",
       "    <tr style=\"text-align: right;\">\n",
       "      <th></th>\n",
       "      <th>Treino</th>\n",
       "      <th>Teste</th>\n",
       "    </tr>\n",
       "  </thead>\n",
       "  <tbody>\n",
       "    <tr>\n",
       "      <th>f1_score</th>\n",
       "      <td>0.884615</td>\n",
       "      <td>0.891566</td>\n",
       "    </tr>\n",
       "    <tr>\n",
       "      <th>precision_score</th>\n",
       "      <td>0.867925</td>\n",
       "      <td>0.880952</td>\n",
       "    </tr>\n",
       "    <tr>\n",
       "      <th>recall_score</th>\n",
       "      <td>0.901961</td>\n",
       "      <td>0.902439</td>\n",
       "    </tr>\n",
       "    <tr>\n",
       "      <th>accuracy_score</th>\n",
       "      <td>0.914286</td>\n",
       "      <td>0.925000</td>\n",
       "    </tr>\n",
       "    <tr>\n",
       "      <th>KS</th>\n",
       "      <td>0.331461</td>\n",
       "      <td>0.295770</td>\n",
       "    </tr>\n",
       "  </tbody>\n",
       "</table>\n",
       "</div>"
      ],
      "text/plain": [
       "                   Treino     Teste\n",
       "f1_score         0.884615  0.891566\n",
       "precision_score  0.867925  0.880952\n",
       "recall_score     0.901961  0.902439\n",
       "accuracy_score   0.914286  0.925000\n",
       "KS               0.331461  0.295770"
      ]
     },
     "execution_count": 94,
     "metadata": {},
     "output_type": "execute_result"
    }
   ],
   "source": [
    "results_holdout(bagging, X_train, y_train, X_test, y_test)"
   ]
  },
  {
   "cell_type": "markdown",
   "metadata": {},
   "source": [
    "CV"
   ]
  },
  {
   "cell_type": "code",
   "execution_count": 95,
   "metadata": {},
   "outputs": [
    {
     "data": {
      "text/html": [
       "<div>\n",
       "<style scoped>\n",
       "    .dataframe tbody tr th:only-of-type {\n",
       "        vertical-align: middle;\n",
       "    }\n",
       "\n",
       "    .dataframe tbody tr th {\n",
       "        vertical-align: top;\n",
       "    }\n",
       "\n",
       "    .dataframe thead th {\n",
       "        text-align: right;\n",
       "    }\n",
       "</style>\n",
       "<table border=\"1\" class=\"dataframe\">\n",
       "  <thead>\n",
       "    <tr style=\"text-align: right;\">\n",
       "      <th></th>\n",
       "      <th>f1_Treino</th>\n",
       "      <th>f1_Teste</th>\n",
       "      <th>precision_Treino</th>\n",
       "      <th>precision_Teste</th>\n",
       "      <th>recall_Treino</th>\n",
       "      <th>recall_Teste</th>\n",
       "      <th>accuracy_Treino</th>\n",
       "      <th>accuracy_Teste</th>\n",
       "      <th>roc_auc_Treino</th>\n",
       "      <th>roc_auc_Teste</th>\n",
       "    </tr>\n",
       "  </thead>\n",
       "  <tbody>\n",
       "    <tr>\n",
       "      <th>0</th>\n",
       "      <td>0.891566</td>\n",
       "      <td>0.851064</td>\n",
       "      <td>0.876543</td>\n",
       "      <td>0.900000</td>\n",
       "      <td>0.896104</td>\n",
       "      <td>0.760000</td>\n",
       "      <td>0.928571</td>\n",
       "      <td>0.857143</td>\n",
       "      <td>0.977339</td>\n",
       "      <td>0.912258</td>\n",
       "    </tr>\n",
       "    <tr>\n",
       "      <th>1</th>\n",
       "      <td>0.881988</td>\n",
       "      <td>0.897959</td>\n",
       "      <td>0.855422</td>\n",
       "      <td>0.875000</td>\n",
       "      <td>0.871795</td>\n",
       "      <td>0.875000</td>\n",
       "      <td>0.910714</td>\n",
       "      <td>0.910714</td>\n",
       "      <td>0.975720</td>\n",
       "      <td>0.938802</td>\n",
       "    </tr>\n",
       "    <tr>\n",
       "      <th>2</th>\n",
       "      <td>0.904762</td>\n",
       "      <td>0.800000</td>\n",
       "      <td>0.905882</td>\n",
       "      <td>0.727273</td>\n",
       "      <td>0.903614</td>\n",
       "      <td>0.842105</td>\n",
       "      <td>0.919643</td>\n",
       "      <td>0.839286</td>\n",
       "      <td>0.986456</td>\n",
       "      <td>0.884780</td>\n",
       "    </tr>\n",
       "    <tr>\n",
       "      <th>3</th>\n",
       "      <td>0.891429</td>\n",
       "      <td>0.894737</td>\n",
       "      <td>0.876404</td>\n",
       "      <td>0.809524</td>\n",
       "      <td>0.905882</td>\n",
       "      <td>1.000000</td>\n",
       "      <td>0.919643</td>\n",
       "      <td>0.928571</td>\n",
       "      <td>0.977148</td>\n",
       "      <td>0.965309</td>\n",
       "    </tr>\n",
       "    <tr>\n",
       "      <th>4</th>\n",
       "      <td>0.876404</td>\n",
       "      <td>0.909091</td>\n",
       "      <td>0.865169</td>\n",
       "      <td>0.875000</td>\n",
       "      <td>0.870588</td>\n",
       "      <td>0.882353</td>\n",
       "      <td>0.901786</td>\n",
       "      <td>0.964286</td>\n",
       "      <td>0.970123</td>\n",
       "      <td>0.984917</td>\n",
       "    </tr>\n",
       "    <tr>\n",
       "      <th>media</th>\n",
       "      <td>0.889230</td>\n",
       "      <td>0.870570</td>\n",
       "      <td>0.875884</td>\n",
       "      <td>0.837359</td>\n",
       "      <td>0.889597</td>\n",
       "      <td>0.871892</td>\n",
       "      <td>0.916071</td>\n",
       "      <td>0.900000</td>\n",
       "      <td>0.977357</td>\n",
       "      <td>0.937213</td>\n",
       "    </tr>\n",
       "  </tbody>\n",
       "</table>\n",
       "</div>"
      ],
      "text/plain": [
       "       f1_Treino  f1_Teste  precision_Treino  precision_Teste  recall_Treino  \\\n",
       "0       0.891566  0.851064          0.876543         0.900000       0.896104   \n",
       "1       0.881988  0.897959          0.855422         0.875000       0.871795   \n",
       "2       0.904762  0.800000          0.905882         0.727273       0.903614   \n",
       "3       0.891429  0.894737          0.876404         0.809524       0.905882   \n",
       "4       0.876404  0.909091          0.865169         0.875000       0.870588   \n",
       "media   0.889230  0.870570          0.875884         0.837359       0.889597   \n",
       "\n",
       "       recall_Teste  accuracy_Treino  accuracy_Teste  roc_auc_Treino  \\\n",
       "0          0.760000         0.928571        0.857143        0.977339   \n",
       "1          0.875000         0.910714        0.910714        0.975720   \n",
       "2          0.842105         0.919643        0.839286        0.986456   \n",
       "3          1.000000         0.919643        0.928571        0.977148   \n",
       "4          0.882353         0.901786        0.964286        0.970123   \n",
       "media      0.871892         0.916071        0.900000        0.977357   \n",
       "\n",
       "       roc_auc_Teste  \n",
       "0           0.912258  \n",
       "1           0.938802  \n",
       "2           0.884780  \n",
       "3           0.965309  \n",
       "4           0.984917  \n",
       "media       0.937213  "
      ]
     },
     "execution_count": 95,
     "metadata": {},
     "output_type": "execute_result"
    }
   ],
   "source": [
    "results_cv(bagging, X_train, y_train, cv_kfold)"
   ]
  },
  {
   "cell_type": "markdown",
   "metadata": {},
   "source": [
    "#### Boosting\n",
    "\n",
    "   - Combina diferentes modelos em sequência. Dessa forma, usa os erros obtidos para recriar um modelo melhor\n",
    "   - Sua execução não permite a construção de modelos em paralelo pois um modelo precisa do anterior, mas cada modelo independente pode ser treinado em paralelo\n",
    "   - Pode overfittar, dado que os pesos para instâncias que estão sendo preditas errado crescem nos modelos seguintes e outras instâncias continuam com pesos baixos, principalmente se as instâncias preditas errado forem ruídos, pois serão muito enfatizada com relação a outras instâncias. Como usa voto majoritário ponderado, os ruídos que recebem pesos maiores são os que mais pesam no voto."
   ]
  },
  {
   "cell_type": "markdown",
   "metadata": {},
   "source": [
    "##### AdaBoost\n",
    "\n",
    "Faz o fit de uma sequência de modelos fracos (e.g. árvores pequenas, de 1 split), modelos que performam pouco melhor que o aleatório, em versões modificadas do dataset. As predições de todos os modelos são combinadas por um voto majoritário ponderado para produzir o resultado final. \n",
    "\n",
    "Cada instância do dataset de treino é ponderado, sendo que o peso inicial é $weight(xi) = \\frac{1}{n}$. Os pesos são atualizados de forma que as instâncias preditas incorretamente recebem um peso maior e as instâncias preditas corretamente recebem um peso menor.\n",
    "\n",
    "   - Melhor em uso para classificação binária"
   ]
  },
  {
   "cell_type": "code",
   "execution_count": 117,
   "metadata": {},
   "outputs": [],
   "source": [
    "from sklearn.ensemble import AdaBoostClassifier\n",
    "from sklearn.tree import DecisionTreeClassifier\n",
    "\n",
    "ada_boost = AdaBoostClassifier(base_estimator = DecisionTreeClassifier(), n_estimators = 10, learning_rate = 0.1, \n",
    "                               algorithm = 'SAMME', random_state = None)"
   ]
  },
  {
   "cell_type": "code",
   "execution_count": 118,
   "metadata": {},
   "outputs": [
    {
     "data": {
      "text/plain": [
       "0"
      ]
     },
     "execution_count": 118,
     "metadata": {},
     "output_type": "execute_result"
    }
   ],
   "source": [
    "ada_boost.fit(X_train, np.ravel(y_train))\n",
    "ada_boost.predict(std_scaler.transform([[1, 30, 40000]]))[0]"
   ]
  },
  {
   "cell_type": "markdown",
   "metadata": {},
   "source": [
    "Holdout"
   ]
  },
  {
   "cell_type": "code",
   "execution_count": 119,
   "metadata": {},
   "outputs": [
    {
     "data": {
      "text/html": [
       "<div>\n",
       "<style scoped>\n",
       "    .dataframe tbody tr th:only-of-type {\n",
       "        vertical-align: middle;\n",
       "    }\n",
       "\n",
       "    .dataframe tbody tr th {\n",
       "        vertical-align: top;\n",
       "    }\n",
       "\n",
       "    .dataframe thead th {\n",
       "        text-align: right;\n",
       "    }\n",
       "</style>\n",
       "<table border=\"1\" class=\"dataframe\">\n",
       "  <thead>\n",
       "    <tr style=\"text-align: right;\">\n",
       "      <th></th>\n",
       "      <th>Treino</th>\n",
       "      <th>Teste</th>\n",
       "    </tr>\n",
       "  </thead>\n",
       "  <tbody>\n",
       "    <tr>\n",
       "      <th>f1_score</th>\n",
       "      <td>1.000000</td>\n",
       "      <td>0.833333</td>\n",
       "    </tr>\n",
       "    <tr>\n",
       "      <th>precision_score</th>\n",
       "      <td>1.000000</td>\n",
       "      <td>0.813953</td>\n",
       "    </tr>\n",
       "    <tr>\n",
       "      <th>recall_score</th>\n",
       "      <td>1.000000</td>\n",
       "      <td>0.853659</td>\n",
       "    </tr>\n",
       "    <tr>\n",
       "      <th>accuracy_score</th>\n",
       "      <td>1.000000</td>\n",
       "      <td>0.883333</td>\n",
       "    </tr>\n",
       "    <tr>\n",
       "      <th>KS</th>\n",
       "      <td>0.331461</td>\n",
       "      <td>0.295770</td>\n",
       "    </tr>\n",
       "  </tbody>\n",
       "</table>\n",
       "</div>"
      ],
      "text/plain": [
       "                   Treino     Teste\n",
       "f1_score         1.000000  0.833333\n",
       "precision_score  1.000000  0.813953\n",
       "recall_score     1.000000  0.853659\n",
       "accuracy_score   1.000000  0.883333\n",
       "KS               0.331461  0.295770"
      ]
     },
     "execution_count": 119,
     "metadata": {},
     "output_type": "execute_result"
    }
   ],
   "source": [
    "results_holdout(ada_boost, X_train, y_train, X_test, y_test)"
   ]
  },
  {
   "cell_type": "markdown",
   "metadata": {},
   "source": [
    "CV"
   ]
  },
  {
   "cell_type": "code",
   "execution_count": 120,
   "metadata": {},
   "outputs": [
    {
     "data": {
      "text/html": [
       "<div>\n",
       "<style scoped>\n",
       "    .dataframe tbody tr th:only-of-type {\n",
       "        vertical-align: middle;\n",
       "    }\n",
       "\n",
       "    .dataframe tbody tr th {\n",
       "        vertical-align: top;\n",
       "    }\n",
       "\n",
       "    .dataframe thead th {\n",
       "        text-align: right;\n",
       "    }\n",
       "</style>\n",
       "<table border=\"1\" class=\"dataframe\">\n",
       "  <thead>\n",
       "    <tr style=\"text-align: right;\">\n",
       "      <th></th>\n",
       "      <th>f1_Treino</th>\n",
       "      <th>f1_Teste</th>\n",
       "      <th>precision_Treino</th>\n",
       "      <th>precision_Teste</th>\n",
       "      <th>recall_Treino</th>\n",
       "      <th>recall_Teste</th>\n",
       "      <th>accuracy_Treino</th>\n",
       "      <th>accuracy_Teste</th>\n",
       "      <th>roc_auc_Treino</th>\n",
       "      <th>roc_auc_Teste</th>\n",
       "    </tr>\n",
       "  </thead>\n",
       "  <tbody>\n",
       "    <tr>\n",
       "      <th>0</th>\n",
       "      <td>1.0</td>\n",
       "      <td>0.711111</td>\n",
       "      <td>1.0</td>\n",
       "      <td>0.800000</td>\n",
       "      <td>1.0</td>\n",
       "      <td>0.640000</td>\n",
       "      <td>1.0</td>\n",
       "      <td>0.785714</td>\n",
       "      <td>1.0</td>\n",
       "      <td>0.755484</td>\n",
       "    </tr>\n",
       "    <tr>\n",
       "      <th>1</th>\n",
       "      <td>1.0</td>\n",
       "      <td>0.723404</td>\n",
       "      <td>1.0</td>\n",
       "      <td>0.750000</td>\n",
       "      <td>1.0</td>\n",
       "      <td>0.708333</td>\n",
       "      <td>1.0</td>\n",
       "      <td>0.785714</td>\n",
       "      <td>1.0</td>\n",
       "      <td>0.781250</td>\n",
       "    </tr>\n",
       "    <tr>\n",
       "      <th>2</th>\n",
       "      <td>1.0</td>\n",
       "      <td>0.731707</td>\n",
       "      <td>1.0</td>\n",
       "      <td>0.695652</td>\n",
       "      <td>1.0</td>\n",
       "      <td>0.842105</td>\n",
       "      <td>1.0</td>\n",
       "      <td>0.821429</td>\n",
       "      <td>1.0</td>\n",
       "      <td>0.826458</td>\n",
       "    </tr>\n",
       "    <tr>\n",
       "      <th>3</th>\n",
       "      <td>1.0</td>\n",
       "      <td>0.742857</td>\n",
       "      <td>1.0</td>\n",
       "      <td>0.750000</td>\n",
       "      <td>1.0</td>\n",
       "      <td>0.882353</td>\n",
       "      <td>1.0</td>\n",
       "      <td>0.892857</td>\n",
       "      <td>1.0</td>\n",
       "      <td>0.818250</td>\n",
       "    </tr>\n",
       "    <tr>\n",
       "      <th>4</th>\n",
       "      <td>1.0</td>\n",
       "      <td>0.882353</td>\n",
       "      <td>1.0</td>\n",
       "      <td>0.882353</td>\n",
       "      <td>1.0</td>\n",
       "      <td>0.882353</td>\n",
       "      <td>1.0</td>\n",
       "      <td>0.910714</td>\n",
       "      <td>1.0</td>\n",
       "      <td>0.856712</td>\n",
       "    </tr>\n",
       "    <tr>\n",
       "      <th>media</th>\n",
       "      <td>1.0</td>\n",
       "      <td>0.758287</td>\n",
       "      <td>1.0</td>\n",
       "      <td>0.775601</td>\n",
       "      <td>1.0</td>\n",
       "      <td>0.791029</td>\n",
       "      <td>1.0</td>\n",
       "      <td>0.839286</td>\n",
       "      <td>1.0</td>\n",
       "      <td>0.807631</td>\n",
       "    </tr>\n",
       "  </tbody>\n",
       "</table>\n",
       "</div>"
      ],
      "text/plain": [
       "       f1_Treino  f1_Teste  precision_Treino  precision_Teste  recall_Treino  \\\n",
       "0            1.0  0.711111               1.0         0.800000            1.0   \n",
       "1            1.0  0.723404               1.0         0.750000            1.0   \n",
       "2            1.0  0.731707               1.0         0.695652            1.0   \n",
       "3            1.0  0.742857               1.0         0.750000            1.0   \n",
       "4            1.0  0.882353               1.0         0.882353            1.0   \n",
       "media        1.0  0.758287               1.0         0.775601            1.0   \n",
       "\n",
       "       recall_Teste  accuracy_Treino  accuracy_Teste  roc_auc_Treino  \\\n",
       "0          0.640000              1.0        0.785714             1.0   \n",
       "1          0.708333              1.0        0.785714             1.0   \n",
       "2          0.842105              1.0        0.821429             1.0   \n",
       "3          0.882353              1.0        0.892857             1.0   \n",
       "4          0.882353              1.0        0.910714             1.0   \n",
       "media      0.791029              1.0        0.839286             1.0   \n",
       "\n",
       "       roc_auc_Teste  \n",
       "0           0.755484  \n",
       "1           0.781250  \n",
       "2           0.826458  \n",
       "3           0.818250  \n",
       "4           0.856712  \n",
       "media       0.807631  "
      ]
     },
     "execution_count": 120,
     "metadata": {},
     "output_type": "execute_result"
    }
   ],
   "source": [
    "results_cv(ada_boost, X_train, y_train, cv_kfold)"
   ]
  },
  {
   "cell_type": "markdown",
   "metadata": {},
   "source": [
    "##### Gradient Boosting"
   ]
  },
  {
   "cell_type": "code",
   "execution_count": 121,
   "metadata": {},
   "outputs": [],
   "source": [
    "from sklearn.ensemble import GradientBoostingClassifier\n",
    "\n",
    "grad_boost = GradientBoostingClassifier(n_estimators = 10, learning_rate = 0.1)"
   ]
  },
  {
   "cell_type": "code",
   "execution_count": 123,
   "metadata": {},
   "outputs": [
    {
     "data": {
      "text/plain": [
       "0"
      ]
     },
     "execution_count": 123,
     "metadata": {},
     "output_type": "execute_result"
    }
   ],
   "source": [
    "grad_boost.fit(X_train, np.ravel(y_train))\n",
    "grad_boost.predict(std_scaler.transform([[1, 30, 40000]]))[0]"
   ]
  },
  {
   "cell_type": "markdown",
   "metadata": {},
   "source": [
    "Holdout"
   ]
  },
  {
   "cell_type": "code",
   "execution_count": 124,
   "metadata": {},
   "outputs": [
    {
     "data": {
      "text/html": [
       "<div>\n",
       "<style scoped>\n",
       "    .dataframe tbody tr th:only-of-type {\n",
       "        vertical-align: middle;\n",
       "    }\n",
       "\n",
       "    .dataframe tbody tr th {\n",
       "        vertical-align: top;\n",
       "    }\n",
       "\n",
       "    .dataframe thead th {\n",
       "        text-align: right;\n",
       "    }\n",
       "</style>\n",
       "<table border=\"1\" class=\"dataframe\">\n",
       "  <thead>\n",
       "    <tr style=\"text-align: right;\">\n",
       "      <th></th>\n",
       "      <th>Treino</th>\n",
       "      <th>Teste</th>\n",
       "    </tr>\n",
       "  </thead>\n",
       "  <tbody>\n",
       "    <tr>\n",
       "      <th>f1_score</th>\n",
       "      <td>0.893023</td>\n",
       "      <td>0.883721</td>\n",
       "    </tr>\n",
       "    <tr>\n",
       "      <th>precision_score</th>\n",
       "      <td>0.849558</td>\n",
       "      <td>0.844444</td>\n",
       "    </tr>\n",
       "    <tr>\n",
       "      <th>recall_score</th>\n",
       "      <td>0.941176</td>\n",
       "      <td>0.926829</td>\n",
       "    </tr>\n",
       "    <tr>\n",
       "      <th>accuracy_score</th>\n",
       "      <td>0.917857</td>\n",
       "      <td>0.916667</td>\n",
       "    </tr>\n",
       "    <tr>\n",
       "      <th>KS</th>\n",
       "      <td>0.331461</td>\n",
       "      <td>0.295770</td>\n",
       "    </tr>\n",
       "  </tbody>\n",
       "</table>\n",
       "</div>"
      ],
      "text/plain": [
       "                   Treino     Teste\n",
       "f1_score         0.893023  0.883721\n",
       "precision_score  0.849558  0.844444\n",
       "recall_score     0.941176  0.926829\n",
       "accuracy_score   0.917857  0.916667\n",
       "KS               0.331461  0.295770"
      ]
     },
     "execution_count": 124,
     "metadata": {},
     "output_type": "execute_result"
    }
   ],
   "source": [
    "results_holdout(grad_boost, X_train, y_train, X_test, y_test)"
   ]
  },
  {
   "cell_type": "markdown",
   "metadata": {},
   "source": [
    "CV"
   ]
  },
  {
   "cell_type": "code",
   "execution_count": 125,
   "metadata": {
    "scrolled": true
   },
   "outputs": [
    {
     "data": {
      "text/html": [
       "<div>\n",
       "<style scoped>\n",
       "    .dataframe tbody tr th:only-of-type {\n",
       "        vertical-align: middle;\n",
       "    }\n",
       "\n",
       "    .dataframe tbody tr th {\n",
       "        vertical-align: top;\n",
       "    }\n",
       "\n",
       "    .dataframe thead th {\n",
       "        text-align: right;\n",
       "    }\n",
       "</style>\n",
       "<table border=\"1\" class=\"dataframe\">\n",
       "  <thead>\n",
       "    <tr style=\"text-align: right;\">\n",
       "      <th></th>\n",
       "      <th>f1_Treino</th>\n",
       "      <th>f1_Teste</th>\n",
       "      <th>precision_Treino</th>\n",
       "      <th>precision_Teste</th>\n",
       "      <th>recall_Treino</th>\n",
       "      <th>recall_Teste</th>\n",
       "      <th>accuracy_Treino</th>\n",
       "      <th>accuracy_Teste</th>\n",
       "      <th>roc_auc_Treino</th>\n",
       "      <th>roc_auc_Teste</th>\n",
       "    </tr>\n",
       "  </thead>\n",
       "  <tbody>\n",
       "    <tr>\n",
       "      <th>0</th>\n",
       "      <td>0.926829</td>\n",
       "      <td>0.833333</td>\n",
       "      <td>0.873563</td>\n",
       "      <td>0.869565</td>\n",
       "      <td>0.987013</td>\n",
       "      <td>0.800000</td>\n",
       "      <td>0.946429</td>\n",
       "      <td>0.857143</td>\n",
       "      <td>0.987366</td>\n",
       "      <td>0.898710</td>\n",
       "    </tr>\n",
       "    <tr>\n",
       "      <th>1</th>\n",
       "      <td>0.901235</td>\n",
       "      <td>0.840000</td>\n",
       "      <td>0.869048</td>\n",
       "      <td>0.807692</td>\n",
       "      <td>0.935897</td>\n",
       "      <td>0.875000</td>\n",
       "      <td>0.928571</td>\n",
       "      <td>0.857143</td>\n",
       "      <td>0.981647</td>\n",
       "      <td>0.914714</td>\n",
       "    </tr>\n",
       "    <tr>\n",
       "      <th>2</th>\n",
       "      <td>0.923977</td>\n",
       "      <td>0.837209</td>\n",
       "      <td>0.897727</td>\n",
       "      <td>0.750000</td>\n",
       "      <td>0.951807</td>\n",
       "      <td>0.947368</td>\n",
       "      <td>0.941964</td>\n",
       "      <td>0.875000</td>\n",
       "      <td>0.986542</td>\n",
       "      <td>0.917496</td>\n",
       "    </tr>\n",
       "    <tr>\n",
       "      <th>3</th>\n",
       "      <td>0.897727</td>\n",
       "      <td>0.864865</td>\n",
       "      <td>0.868132</td>\n",
       "      <td>0.800000</td>\n",
       "      <td>0.929412</td>\n",
       "      <td>0.941176</td>\n",
       "      <td>0.919643</td>\n",
       "      <td>0.910714</td>\n",
       "      <td>0.978840</td>\n",
       "      <td>0.956259</td>\n",
       "    </tr>\n",
       "    <tr>\n",
       "      <th>4</th>\n",
       "      <td>0.871508</td>\n",
       "      <td>0.969697</td>\n",
       "      <td>0.829787</td>\n",
       "      <td>1.000000</td>\n",
       "      <td>0.917647</td>\n",
       "      <td>0.941176</td>\n",
       "      <td>0.897321</td>\n",
       "      <td>0.982143</td>\n",
       "      <td>0.973551</td>\n",
       "      <td>0.999246</td>\n",
       "    </tr>\n",
       "    <tr>\n",
       "      <th>media</th>\n",
       "      <td>0.904255</td>\n",
       "      <td>0.869021</td>\n",
       "      <td>0.867651</td>\n",
       "      <td>0.845452</td>\n",
       "      <td>0.944355</td>\n",
       "      <td>0.900944</td>\n",
       "      <td>0.926786</td>\n",
       "      <td>0.896429</td>\n",
       "      <td>0.981589</td>\n",
       "      <td>0.937285</td>\n",
       "    </tr>\n",
       "  </tbody>\n",
       "</table>\n",
       "</div>"
      ],
      "text/plain": [
       "       f1_Treino  f1_Teste  precision_Treino  precision_Teste  recall_Treino  \\\n",
       "0       0.926829  0.833333          0.873563         0.869565       0.987013   \n",
       "1       0.901235  0.840000          0.869048         0.807692       0.935897   \n",
       "2       0.923977  0.837209          0.897727         0.750000       0.951807   \n",
       "3       0.897727  0.864865          0.868132         0.800000       0.929412   \n",
       "4       0.871508  0.969697          0.829787         1.000000       0.917647   \n",
       "media   0.904255  0.869021          0.867651         0.845452       0.944355   \n",
       "\n",
       "       recall_Teste  accuracy_Treino  accuracy_Teste  roc_auc_Treino  \\\n",
       "0          0.800000         0.946429        0.857143        0.987366   \n",
       "1          0.875000         0.928571        0.857143        0.981647   \n",
       "2          0.947368         0.941964        0.875000        0.986542   \n",
       "3          0.941176         0.919643        0.910714        0.978840   \n",
       "4          0.941176         0.897321        0.982143        0.973551   \n",
       "media      0.900944         0.926786        0.896429        0.981589   \n",
       "\n",
       "       roc_auc_Teste  \n",
       "0           0.898710  \n",
       "1           0.914714  \n",
       "2           0.917496  \n",
       "3           0.956259  \n",
       "4           0.999246  \n",
       "media       0.937285  "
      ]
     },
     "execution_count": 125,
     "metadata": {},
     "output_type": "execute_result"
    }
   ],
   "source": [
    "results_cv(grad_boost, X_train, y_train, cv_kfold)"
   ]
  },
  {
   "cell_type": "markdown",
   "metadata": {},
   "source": [
    "#### SVM\n",
    "\n",
    "   - Efetivo em espaços de alta dimensão, mesmo quando o número de features é maior que o de instâncias\n",
    "   - Se o número de features for maior que o número de instâncias, pode-se evitar overfitting alterando o Kernel e mudando a regularização (C)"
   ]
  },
  {
   "cell_type": "code",
   "execution_count": 132,
   "metadata": {},
   "outputs": [],
   "source": [
    "from sklearn.svm import SVC\n",
    "\n",
    "svc = SVC(C=1.0, kernel='linear', degree=3, gamma='auto', coef0=0.0, shrinking=True, probability=True, tol=0.001, \n",
    "          cache_size=200, class_weight=None, verbose=False, max_iter=-1, decision_function_shape='ovr', random_state=None)"
   ]
  },
  {
   "cell_type": "code",
   "execution_count": 133,
   "metadata": {},
   "outputs": [
    {
     "data": {
      "text/plain": [
       "0"
      ]
     },
     "execution_count": 133,
     "metadata": {},
     "output_type": "execute_result"
    }
   ],
   "source": [
    "svc.fit(X_train, np.ravel(y_train))\n",
    "svc.predict(std_scaler.transform([[1, 30, 40000]]))[0]"
   ]
  },
  {
   "cell_type": "markdown",
   "metadata": {},
   "source": [
    "Holdout"
   ]
  },
  {
   "cell_type": "code",
   "execution_count": 134,
   "metadata": {},
   "outputs": [
    {
     "data": {
      "text/html": [
       "<div>\n",
       "<style scoped>\n",
       "    .dataframe tbody tr th:only-of-type {\n",
       "        vertical-align: middle;\n",
       "    }\n",
       "\n",
       "    .dataframe tbody tr th {\n",
       "        vertical-align: top;\n",
       "    }\n",
       "\n",
       "    .dataframe thead th {\n",
       "        text-align: right;\n",
       "    }\n",
       "</style>\n",
       "<table border=\"1\" class=\"dataframe\">\n",
       "  <thead>\n",
       "    <tr style=\"text-align: right;\">\n",
       "      <th></th>\n",
       "      <th>Treino</th>\n",
       "      <th>Teste</th>\n",
       "    </tr>\n",
       "  </thead>\n",
       "  <tbody>\n",
       "    <tr>\n",
       "      <th>f1_score</th>\n",
       "      <td>0.736264</td>\n",
       "      <td>0.777778</td>\n",
       "    </tr>\n",
       "    <tr>\n",
       "      <th>precision_score</th>\n",
       "      <td>0.837500</td>\n",
       "      <td>0.903226</td>\n",
       "    </tr>\n",
       "    <tr>\n",
       "      <th>recall_score</th>\n",
       "      <td>0.656863</td>\n",
       "      <td>0.682927</td>\n",
       "    </tr>\n",
       "    <tr>\n",
       "      <th>accuracy_score</th>\n",
       "      <td>0.828571</td>\n",
       "      <td>0.866667</td>\n",
       "    </tr>\n",
       "    <tr>\n",
       "      <th>KS</th>\n",
       "      <td>0.331461</td>\n",
       "      <td>0.295770</td>\n",
       "    </tr>\n",
       "  </tbody>\n",
       "</table>\n",
       "</div>"
      ],
      "text/plain": [
       "                   Treino     Teste\n",
       "f1_score         0.736264  0.777778\n",
       "precision_score  0.837500  0.903226\n",
       "recall_score     0.656863  0.682927\n",
       "accuracy_score   0.828571  0.866667\n",
       "KS               0.331461  0.295770"
      ]
     },
     "execution_count": 134,
     "metadata": {},
     "output_type": "execute_result"
    }
   ],
   "source": [
    "results_holdout(svc, X_train, y_train, X_test, y_test)"
   ]
  },
  {
   "cell_type": "markdown",
   "metadata": {},
   "source": [
    "CV"
   ]
  },
  {
   "cell_type": "code",
   "execution_count": 135,
   "metadata": {},
   "outputs": [
    {
     "data": {
      "text/html": [
       "<div>\n",
       "<style scoped>\n",
       "    .dataframe tbody tr th:only-of-type {\n",
       "        vertical-align: middle;\n",
       "    }\n",
       "\n",
       "    .dataframe tbody tr th {\n",
       "        vertical-align: top;\n",
       "    }\n",
       "\n",
       "    .dataframe thead th {\n",
       "        text-align: right;\n",
       "    }\n",
       "</style>\n",
       "<table border=\"1\" class=\"dataframe\">\n",
       "  <thead>\n",
       "    <tr style=\"text-align: right;\">\n",
       "      <th></th>\n",
       "      <th>f1_Treino</th>\n",
       "      <th>f1_Teste</th>\n",
       "      <th>precision_Treino</th>\n",
       "      <th>precision_Teste</th>\n",
       "      <th>recall_Treino</th>\n",
       "      <th>recall_Teste</th>\n",
       "      <th>accuracy_Treino</th>\n",
       "      <th>accuracy_Teste</th>\n",
       "      <th>roc_auc_Treino</th>\n",
       "      <th>roc_auc_Teste</th>\n",
       "    </tr>\n",
       "  </thead>\n",
       "  <tbody>\n",
       "    <tr>\n",
       "      <th>0</th>\n",
       "      <td>0.715328</td>\n",
       "      <td>0.682927</td>\n",
       "      <td>0.816667</td>\n",
       "      <td>0.875000</td>\n",
       "      <td>0.636364</td>\n",
       "      <td>0.560000</td>\n",
       "      <td>0.825893</td>\n",
       "      <td>0.767857</td>\n",
       "      <td>0.918544</td>\n",
       "      <td>0.914839</td>\n",
       "    </tr>\n",
       "    <tr>\n",
       "      <th>1</th>\n",
       "      <td>0.748201</td>\n",
       "      <td>0.634146</td>\n",
       "      <td>0.852459</td>\n",
       "      <td>0.764706</td>\n",
       "      <td>0.666667</td>\n",
       "      <td>0.541667</td>\n",
       "      <td>0.843750</td>\n",
       "      <td>0.732143</td>\n",
       "      <td>0.924921</td>\n",
       "      <td>0.858073</td>\n",
       "    </tr>\n",
       "    <tr>\n",
       "      <th>2</th>\n",
       "      <td>0.784314</td>\n",
       "      <td>0.611111</td>\n",
       "      <td>0.857143</td>\n",
       "      <td>0.647059</td>\n",
       "      <td>0.722892</td>\n",
       "      <td>0.578947</td>\n",
       "      <td>0.852679</td>\n",
       "      <td>0.750000</td>\n",
       "      <td>0.930531</td>\n",
       "      <td>0.860597</td>\n",
       "    </tr>\n",
       "    <tr>\n",
       "      <th>3</th>\n",
       "      <td>0.723684</td>\n",
       "      <td>0.882353</td>\n",
       "      <td>0.820896</td>\n",
       "      <td>0.882353</td>\n",
       "      <td>0.647059</td>\n",
       "      <td>0.882353</td>\n",
       "      <td>0.812500</td>\n",
       "      <td>0.928571</td>\n",
       "      <td>0.911892</td>\n",
       "      <td>0.942685</td>\n",
       "    </tr>\n",
       "    <tr>\n",
       "      <th>4</th>\n",
       "      <td>0.735484</td>\n",
       "      <td>0.758621</td>\n",
       "      <td>0.814286</td>\n",
       "      <td>0.916667</td>\n",
       "      <td>0.670588</td>\n",
       "      <td>0.647059</td>\n",
       "      <td>0.816964</td>\n",
       "      <td>0.875000</td>\n",
       "      <td>0.899281</td>\n",
       "      <td>0.969834</td>\n",
       "    </tr>\n",
       "    <tr>\n",
       "      <th>media</th>\n",
       "      <td>0.741402</td>\n",
       "      <td>0.713832</td>\n",
       "      <td>0.832290</td>\n",
       "      <td>0.817157</td>\n",
       "      <td>0.668714</td>\n",
       "      <td>0.642005</td>\n",
       "      <td>0.830357</td>\n",
       "      <td>0.810714</td>\n",
       "      <td>0.917034</td>\n",
       "      <td>0.909206</td>\n",
       "    </tr>\n",
       "  </tbody>\n",
       "</table>\n",
       "</div>"
      ],
      "text/plain": [
       "       f1_Treino  f1_Teste  precision_Treino  precision_Teste  recall_Treino  \\\n",
       "0       0.715328  0.682927          0.816667         0.875000       0.636364   \n",
       "1       0.748201  0.634146          0.852459         0.764706       0.666667   \n",
       "2       0.784314  0.611111          0.857143         0.647059       0.722892   \n",
       "3       0.723684  0.882353          0.820896         0.882353       0.647059   \n",
       "4       0.735484  0.758621          0.814286         0.916667       0.670588   \n",
       "media   0.741402  0.713832          0.832290         0.817157       0.668714   \n",
       "\n",
       "       recall_Teste  accuracy_Treino  accuracy_Teste  roc_auc_Treino  \\\n",
       "0          0.560000         0.825893        0.767857        0.918544   \n",
       "1          0.541667         0.843750        0.732143        0.924921   \n",
       "2          0.578947         0.852679        0.750000        0.930531   \n",
       "3          0.882353         0.812500        0.928571        0.911892   \n",
       "4          0.647059         0.816964        0.875000        0.899281   \n",
       "media      0.642005         0.830357        0.810714        0.917034   \n",
       "\n",
       "       roc_auc_Teste  \n",
       "0           0.914839  \n",
       "1           0.858073  \n",
       "2           0.860597  \n",
       "3           0.942685  \n",
       "4           0.969834  \n",
       "media       0.909206  "
      ]
     },
     "execution_count": 135,
     "metadata": {},
     "output_type": "execute_result"
    }
   ],
   "source": [
    "results_cv(svc, X_train, y_train, cv_kfold)"
   ]
  },
  {
   "cell_type": "markdown",
   "metadata": {},
   "source": [
    "#### Regressão Logística"
   ]
  },
  {
   "cell_type": "code",
   "execution_count": null,
   "metadata": {},
   "outputs": [],
   "source": []
  },
  {
   "cell_type": "markdown",
   "metadata": {},
   "source": [
    "### Modelagem -- Regressão"
   ]
  },
  {
   "cell_type": "markdown",
   "metadata": {},
   "source": [
    "#### Regressão linear simples"
   ]
  },
  {
   "cell_type": "markdown",
   "metadata": {},
   "source": [
    "#### Lasso(l1) e Ridge(l2)"
   ]
  },
  {
   "cell_type": "markdown",
   "metadata": {},
   "source": [
    "#### Regressão linear múltipla"
   ]
  },
  {
   "cell_type": "markdown",
   "metadata": {},
   "source": [
    "#### KNN regressor"
   ]
  },
  {
   "cell_type": "markdown",
   "metadata": {},
   "source": [
    "#### Árvore de Regressão"
   ]
  },
  {
   "cell_type": "markdown",
   "metadata": {},
   "source": [
    "### Modelagem -- Clustering/Agrupamento"
   ]
  },
  {
   "cell_type": "markdown",
   "metadata": {},
   "source": [
    "#### Hierárquico/Agglomerative"
   ]
  },
  {
   "cell_type": "markdown",
   "metadata": {},
   "source": [
    "#### K-means"
   ]
  },
  {
   "cell_type": "markdown",
   "metadata": {},
   "source": [
    "#### DBScan"
   ]
  }
 ],
 "metadata": {
  "kernelspec": {
   "display_name": "Python 3",
   "language": "python",
   "name": "python3"
  },
  "language_info": {
   "codemirror_mode": {
    "name": "ipython",
    "version": 3
   },
   "file_extension": ".py",
   "mimetype": "text/x-python",
   "name": "python",
   "nbconvert_exporter": "python",
   "pygments_lexer": "ipython3",
   "version": "3.6.5"
  }
 },
 "nbformat": 4,
 "nbformat_minor": 2
}
