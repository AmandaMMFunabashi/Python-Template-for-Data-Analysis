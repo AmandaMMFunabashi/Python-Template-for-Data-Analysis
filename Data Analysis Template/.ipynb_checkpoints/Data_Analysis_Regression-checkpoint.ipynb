{
 "cells": [
  {
   "cell_type": "code",
   "execution_count": 1,
   "metadata": {},
   "outputs": [],
   "source": [
    "import pandas as pd\n",
    "import numpy as np\n",
    "import matplotlib.pyplot as plt\n",
    "\n",
    "from sklearn.model_selection import train_test_split, cross_val_score, LeaveOneOut\n",
    "\n",
    "from sklearn.cluster import KMeans"
   ]
  },
  {
   "cell_type": "markdown",
   "metadata": {},
   "source": [
    "## Template Data Science -- Hands On Machine Learning"
   ]
  },
  {
   "cell_type": "markdown",
   "metadata": {},
   "source": [
    "### Parte 2 - Regressão"
   ]
  },
  {
   "cell_type": "markdown",
   "metadata": {},
   "source": [
    "### Dados"
   ]
  },
  {
   "cell_type": "code",
   "execution_count": 3,
   "metadata": {},
   "outputs": [],
   "source": [
    "def data_info(data):        \n",
    "    info = pd.DataFrame()\n",
    "    info['var'] = data.columns\n",
    "    info['# missing'] = list(data.isnull().sum())\n",
    "    info['% missing'] = info['# missing'] / data.shape[0]\n",
    "    info['types'] = list(data.dtypes)\n",
    "    info['unique values'] = list(len(data[var].unique()) for var in data.columns)\n",
    "    \n",
    "    return info"
   ]
  },
  {
   "cell_type": "markdown",
   "metadata": {},
   "source": [
    "#### Regressão"
   ]
  },
  {
   "cell_type": "code",
   "execution_count": 4,
   "metadata": {},
   "outputs": [],
   "source": [
    "dataset = pd.read_csv('data/50_Startups.csv')"
   ]
  },
  {
   "cell_type": "code",
   "execution_count": 5,
   "metadata": {},
   "outputs": [
    {
     "data": {
      "text/html": [
       "<div>\n",
       "<style scoped>\n",
       "    .dataframe tbody tr th:only-of-type {\n",
       "        vertical-align: middle;\n",
       "    }\n",
       "\n",
       "    .dataframe tbody tr th {\n",
       "        vertical-align: top;\n",
       "    }\n",
       "\n",
       "    .dataframe thead th {\n",
       "        text-align: right;\n",
       "    }\n",
       "</style>\n",
       "<table border=\"1\" class=\"dataframe\">\n",
       "  <thead>\n",
       "    <tr style=\"text-align: right;\">\n",
       "      <th></th>\n",
       "      <th>R&amp;D Spend</th>\n",
       "      <th>Administration</th>\n",
       "      <th>Marketing Spend</th>\n",
       "      <th>State</th>\n",
       "      <th>Profit</th>\n",
       "    </tr>\n",
       "  </thead>\n",
       "  <tbody>\n",
       "    <tr>\n",
       "      <th>0</th>\n",
       "      <td>165349.20</td>\n",
       "      <td>136897.80</td>\n",
       "      <td>471784.10</td>\n",
       "      <td>New York</td>\n",
       "      <td>192261.83</td>\n",
       "    </tr>\n",
       "    <tr>\n",
       "      <th>1</th>\n",
       "      <td>162597.70</td>\n",
       "      <td>151377.59</td>\n",
       "      <td>443898.53</td>\n",
       "      <td>California</td>\n",
       "      <td>191792.06</td>\n",
       "    </tr>\n",
       "    <tr>\n",
       "      <th>2</th>\n",
       "      <td>153441.51</td>\n",
       "      <td>101145.55</td>\n",
       "      <td>407934.54</td>\n",
       "      <td>Florida</td>\n",
       "      <td>191050.39</td>\n",
       "    </tr>\n",
       "    <tr>\n",
       "      <th>3</th>\n",
       "      <td>144372.41</td>\n",
       "      <td>118671.85</td>\n",
       "      <td>383199.62</td>\n",
       "      <td>New York</td>\n",
       "      <td>182901.99</td>\n",
       "    </tr>\n",
       "    <tr>\n",
       "      <th>4</th>\n",
       "      <td>142107.34</td>\n",
       "      <td>91391.77</td>\n",
       "      <td>366168.42</td>\n",
       "      <td>Florida</td>\n",
       "      <td>166187.94</td>\n",
       "    </tr>\n",
       "  </tbody>\n",
       "</table>\n",
       "</div>"
      ],
      "text/plain": [
       "   R&D Spend  Administration  Marketing Spend       State     Profit\n",
       "0  165349.20       136897.80        471784.10    New York  192261.83\n",
       "1  162597.70       151377.59        443898.53  California  191792.06\n",
       "2  153441.51       101145.55        407934.54     Florida  191050.39\n",
       "3  144372.41       118671.85        383199.62    New York  182901.99\n",
       "4  142107.34        91391.77        366168.42     Florida  166187.94"
      ]
     },
     "execution_count": 5,
     "metadata": {},
     "output_type": "execute_result"
    }
   ],
   "source": [
    "dataset.head()"
   ]
  },
  {
   "cell_type": "code",
   "execution_count": 6,
   "metadata": {},
   "outputs": [
    {
     "data": {
      "text/html": [
       "<div>\n",
       "<style scoped>\n",
       "    .dataframe tbody tr th:only-of-type {\n",
       "        vertical-align: middle;\n",
       "    }\n",
       "\n",
       "    .dataframe tbody tr th {\n",
       "        vertical-align: top;\n",
       "    }\n",
       "\n",
       "    .dataframe thead th {\n",
       "        text-align: right;\n",
       "    }\n",
       "</style>\n",
       "<table border=\"1\" class=\"dataframe\">\n",
       "  <thead>\n",
       "    <tr style=\"text-align: right;\">\n",
       "      <th></th>\n",
       "      <th>var</th>\n",
       "      <th># missing</th>\n",
       "      <th>% missing</th>\n",
       "      <th>types</th>\n",
       "      <th>unique values</th>\n",
       "    </tr>\n",
       "  </thead>\n",
       "  <tbody>\n",
       "    <tr>\n",
       "      <th>0</th>\n",
       "      <td>R&amp;D Spend</td>\n",
       "      <td>0</td>\n",
       "      <td>0.0</td>\n",
       "      <td>float64</td>\n",
       "      <td>49</td>\n",
       "    </tr>\n",
       "    <tr>\n",
       "      <th>1</th>\n",
       "      <td>Administration</td>\n",
       "      <td>0</td>\n",
       "      <td>0.0</td>\n",
       "      <td>float64</td>\n",
       "      <td>50</td>\n",
       "    </tr>\n",
       "    <tr>\n",
       "      <th>2</th>\n",
       "      <td>Marketing Spend</td>\n",
       "      <td>0</td>\n",
       "      <td>0.0</td>\n",
       "      <td>float64</td>\n",
       "      <td>48</td>\n",
       "    </tr>\n",
       "    <tr>\n",
       "      <th>3</th>\n",
       "      <td>State</td>\n",
       "      <td>0</td>\n",
       "      <td>0.0</td>\n",
       "      <td>object</td>\n",
       "      <td>3</td>\n",
       "    </tr>\n",
       "    <tr>\n",
       "      <th>4</th>\n",
       "      <td>Profit</td>\n",
       "      <td>0</td>\n",
       "      <td>0.0</td>\n",
       "      <td>float64</td>\n",
       "      <td>50</td>\n",
       "    </tr>\n",
       "  </tbody>\n",
       "</table>\n",
       "</div>"
      ],
      "text/plain": [
       "               var  # missing  % missing    types  unique values\n",
       "0        R&D Spend          0        0.0  float64             49\n",
       "1   Administration          0        0.0  float64             50\n",
       "2  Marketing Spend          0        0.0  float64             48\n",
       "3            State          0        0.0   object              3\n",
       "4           Profit          0        0.0  float64             50"
      ]
     },
     "execution_count": 6,
     "metadata": {},
     "output_type": "execute_result"
    }
   ],
   "source": [
    "data_info(dataset)"
   ]
  },
  {
   "cell_type": "markdown",
   "metadata": {},
   "source": [
    "### Preprocessing"
   ]
  },
  {
   "cell_type": "code",
   "execution_count": 9,
   "metadata": {},
   "outputs": [],
   "source": [
    "X = pd.DataFrame(dataset.iloc[:, :4])\n",
    "y = pd.DataFrame(dataset.iloc[:, -1])"
   ]
  },
  {
   "cell_type": "code",
   "execution_count": 10,
   "metadata": {},
   "outputs": [
    {
     "data": {
      "text/html": [
       "<div>\n",
       "<style scoped>\n",
       "    .dataframe tbody tr th:only-of-type {\n",
       "        vertical-align: middle;\n",
       "    }\n",
       "\n",
       "    .dataframe tbody tr th {\n",
       "        vertical-align: top;\n",
       "    }\n",
       "\n",
       "    .dataframe thead th {\n",
       "        text-align: right;\n",
       "    }\n",
       "</style>\n",
       "<table border=\"1\" class=\"dataframe\">\n",
       "  <thead>\n",
       "    <tr style=\"text-align: right;\">\n",
       "      <th></th>\n",
       "      <th>R&amp;D Spend</th>\n",
       "      <th>Administration</th>\n",
       "      <th>Marketing Spend</th>\n",
       "      <th>State</th>\n",
       "    </tr>\n",
       "  </thead>\n",
       "  <tbody>\n",
       "    <tr>\n",
       "      <th>0</th>\n",
       "      <td>165349.20</td>\n",
       "      <td>136897.80</td>\n",
       "      <td>471784.10</td>\n",
       "      <td>New York</td>\n",
       "    </tr>\n",
       "    <tr>\n",
       "      <th>1</th>\n",
       "      <td>162597.70</td>\n",
       "      <td>151377.59</td>\n",
       "      <td>443898.53</td>\n",
       "      <td>California</td>\n",
       "    </tr>\n",
       "    <tr>\n",
       "      <th>2</th>\n",
       "      <td>153441.51</td>\n",
       "      <td>101145.55</td>\n",
       "      <td>407934.54</td>\n",
       "      <td>Florida</td>\n",
       "    </tr>\n",
       "    <tr>\n",
       "      <th>3</th>\n",
       "      <td>144372.41</td>\n",
       "      <td>118671.85</td>\n",
       "      <td>383199.62</td>\n",
       "      <td>New York</td>\n",
       "    </tr>\n",
       "    <tr>\n",
       "      <th>4</th>\n",
       "      <td>142107.34</td>\n",
       "      <td>91391.77</td>\n",
       "      <td>366168.42</td>\n",
       "      <td>Florida</td>\n",
       "    </tr>\n",
       "  </tbody>\n",
       "</table>\n",
       "</div>"
      ],
      "text/plain": [
       "   R&D Spend  Administration  Marketing Spend       State\n",
       "0  165349.20       136897.80        471784.10    New York\n",
       "1  162597.70       151377.59        443898.53  California\n",
       "2  153441.51       101145.55        407934.54     Florida\n",
       "3  144372.41       118671.85        383199.62    New York\n",
       "4  142107.34        91391.77        366168.42     Florida"
      ]
     },
     "execution_count": 10,
     "metadata": {},
     "output_type": "execute_result"
    }
   ],
   "source": [
    "X.head()"
   ]
  },
  {
   "cell_type": "markdown",
   "metadata": {},
   "source": [
    "#### Lidando com variáveis categóricas"
   ]
  },
  {
   "cell_type": "markdown",
   "metadata": {},
   "source": [
    "Label Encoder: dá a cada elemento da variável categórica um número\n",
    "\n",
    "    Uso: categóricas ordinais"
   ]
  },
  {
   "cell_type": "code",
   "execution_count": 11,
   "metadata": {},
   "outputs": [],
   "source": [
    "from sklearn.preprocessing import LabelEncoder\n",
    "\n",
    "le = LabelEncoder()\n",
    "X_le = X.copy()\n",
    "for var in X.columns:\n",
    "    if (X[var].dtype == object):\n",
    "        X_le[var] = le.fit_transform(X[var])"
   ]
  },
  {
   "cell_type": "markdown",
   "metadata": {},
   "source": [
    "One hot Encoder"
   ]
  },
  {
   "cell_type": "code",
   "execution_count": 12,
   "metadata": {},
   "outputs": [],
   "source": [
    "from sklearn.preprocessing import OneHotEncoder, LabelEncoder\n",
    "\n",
    "le = LabelEncoder()\n",
    "X_le = X.copy()\n",
    "X_ohe = X.copy()\n",
    "for var in X.columns:\n",
    "    if (X[var].dtype == object):\n",
    "        ohe = OneHotEncoder(categorical_features = [0])\n",
    "        X_le[var] = le.fit_transform(X[var])\n",
    "        X_ohe = ohe.fit_transform(X_le).toarray()"
   ]
  },
  {
   "cell_type": "code",
   "execution_count": 13,
   "metadata": {},
   "outputs": [],
   "source": [
    "X_ohe = pd.DataFrame(X_ohe)"
   ]
  },
  {
   "cell_type": "markdown",
   "metadata": {},
   "source": [
    "#### Padronização e Normalização"
   ]
  },
  {
   "cell_type": "code",
   "execution_count": 14,
   "metadata": {},
   "outputs": [],
   "source": [
    "X_encoded = X_le"
   ]
  },
  {
   "cell_type": "markdown",
   "metadata": {},
   "source": [
    "Normalização StandardScaler: remove a média de cada atributo e divide os atributos não-constantes pelo desvio padrão. Ex de uso: se um atributo cuja variância é MUITO maior do que do que dos outros atributos, este atributo pode dominar a função objetivo e impossibilitar o estimador de aprender com as outras features"
   ]
  },
  {
   "cell_type": "code",
   "execution_count": 15,
   "metadata": {},
   "outputs": [
    {
     "data": {
      "text/plain": [
       "StandardScaler(copy=True, with_mean=True, with_std=True)"
      ]
     },
     "execution_count": 15,
     "metadata": {},
     "output_type": "execute_result"
    }
   ],
   "source": [
    "from sklearn.preprocessing import StandardScaler\n",
    "\n",
    "std_scaler = StandardScaler()\n",
    "std_scaler.fit(X_encoded)"
   ]
  },
  {
   "cell_type": "code",
   "execution_count": 16,
   "metadata": {},
   "outputs": [],
   "source": [
    "X_stds = pd.DataFrame(std_scaler.transform(X_encoded), columns = X_encoded.columns)"
   ]
  },
  {
   "cell_type": "markdown",
   "metadata": {},
   "source": [
    "Normalização para intervalo: escalar os atributos para que seus valores fiquem dentro de um intervalo, dado o valor mínimo e o máximo"
   ]
  },
  {
   "cell_type": "code",
   "execution_count": 17,
   "metadata": {},
   "outputs": [
    {
     "data": {
      "text/plain": [
       "MinMaxScaler(copy=True, feature_range=(0, 1))"
      ]
     },
     "execution_count": 17,
     "metadata": {},
     "output_type": "execute_result"
    }
   ],
   "source": [
    "from sklearn.preprocessing import MinMaxScaler\n",
    "\n",
    "minmaxscaler = MinMaxScaler()\n",
    "minmaxscaler.fit(X_encoded)"
   ]
  },
  {
   "cell_type": "code",
   "execution_count": 18,
   "metadata": {},
   "outputs": [],
   "source": [
    "X_minmaxs = pd.DataFrame(minmaxscaler.transform(X_encoded), columns = X_encoded.columns)"
   ]
  },
  {
   "cell_type": "markdown",
   "metadata": {},
   "source": [
    "Normalização Robust Scaler: Quando o dataset contém muitos outliers, usar média e variância não trará resultados bons. Usa uma estimativa mais robusta para encontrar o centro dos dados. Remove a mediana e escala os dados de acordo com os intervalos de quartis(intervalo interquartil (IQR): intervalo entre o primeiro quartil (25%) e o terceiro quartil (75%))"
   ]
  },
  {
   "cell_type": "code",
   "execution_count": 19,
   "metadata": {},
   "outputs": [
    {
     "data": {
      "text/plain": [
       "RobustScaler(copy=True, quantile_range=(25.0, 75.0), with_centering=True,\n",
       "       with_scaling=True)"
      ]
     },
     "execution_count": 19,
     "metadata": {},
     "output_type": "execute_result"
    }
   ],
   "source": [
    "from sklearn.preprocessing import RobustScaler\n",
    "\n",
    "robscaler = RobustScaler()\n",
    "robscaler.fit(X_encoded)"
   ]
  },
  {
   "cell_type": "code",
   "execution_count": 20,
   "metadata": {},
   "outputs": [],
   "source": [
    "X_robusts = pd.DataFrame(robscaler.transform(X_encoded), columns = X_encoded.columns)"
   ]
  },
  {
   "cell_type": "markdown",
   "metadata": {},
   "source": [
    "Normalização por sample (linha): cada registro/sample com pelo menos um componente não zero é reescalado independentemente dos outros samples\n",
    "\n",
    "-l1-norm: divide cada elemento de cada sample pela soma dos módulos de cada elemento do tal sample\n",
    "\n",
    "-l2-norm: divide cada elemento de cada sample pela raíz quadrada da soma dos quadrados de cada elemento de tal sample"
   ]
  },
  {
   "cell_type": "code",
   "execution_count": 21,
   "metadata": {},
   "outputs": [
    {
     "data": {
      "text/plain": [
       "Normalizer(copy=True, norm='l1')"
      ]
     },
     "execution_count": 21,
     "metadata": {},
     "output_type": "execute_result"
    }
   ],
   "source": [
    "from sklearn.preprocessing import Normalizer\n",
    "\n",
    "nscaler = Normalizer(norm = 'l1')\n",
    "nscaler.fit(X_encoded)"
   ]
  },
  {
   "cell_type": "code",
   "execution_count": 22,
   "metadata": {},
   "outputs": [],
   "source": [
    "X_norm = pd.DataFrame(nscaler.transform(X_encoded), columns = X_encoded.columns)"
   ]
  },
  {
   "cell_type": "markdown",
   "metadata": {},
   "source": [
    "#### Train Test Split"
   ]
  },
  {
   "cell_type": "code",
   "execution_count": 176,
   "metadata": {},
   "outputs": [],
   "source": [
    "#escolha do X\n",
    "X_preped = X_stds\n",
    "#X_preped = X_le"
   ]
  },
  {
   "cell_type": "code",
   "execution_count": 177,
   "metadata": {},
   "outputs": [],
   "source": [
    "X_train, X_test, y_train, y_test = train_test_split(X_preped, y, test_size = 0.2, random_state = 0)"
   ]
  },
  {
   "cell_type": "code",
   "execution_count": 31,
   "metadata": {},
   "outputs": [],
   "source": [
    "from sklearn.model_selection import StratifiedKFold, KFold, LeaveOneOut\n",
    "\n",
    "cv_kfold = KFold(5, shuffle = False, random_state=12) #### se shuffle = False os k folds são sequenciais\n",
    "cv_leave_one_out = LeaveOneOut()"
   ]
  },
  {
   "cell_type": "markdown",
   "metadata": {},
   "source": [
    "### Modelagem -- Regressão"
   ]
  },
  {
   "cell_type": "markdown",
   "metadata": {},
   "source": [
    "O modelo possui uma função com a cara $$y_{pred} = \\beta_{0} + \\beta_{1}*x$$\n",
    "\n",
    "e devemos encontrar os coeficientes que minimizam a função de custo: $$Error = \\sum_{i = 1}^{n}(y_i - y_{pred_{i}})$$\n",
    "\n"
   ]
  },
  {
   "cell_type": "code",
   "execution_count": 53,
   "metadata": {},
   "outputs": [],
   "source": [
    "from sklearn.metrics import mean_absolute_error, mean_squared_error, r2_score\n",
    "from sklearn.model_selection import cross_validate\n",
    "\n",
    "def reg_results_holdout(clf, X_train, y_train, X_test, y_test):\n",
    "    \n",
    "    classifier = clf.fit(X_train, np.ravel(y_train))\n",
    "    metrics = [mean_squared_error, mean_absolute_error, r2_score ]\n",
    "    \n",
    "    pred_train = classifier.predict(X_train)\n",
    "    pred_test = classifier.predict(X_test)\n",
    "\n",
    "    results = pd.DataFrame()\n",
    "    \n",
    "    for m in metrics:\n",
    "        result_train = m(y_train, pred_train)\n",
    "        result_test = m(y_test, pred_test)\n",
    "        \n",
    "        dict_res = {'Treino': [\"{:.3f}\".format(result_train)], 'Teste': [\"{:.3f}\".format(result_test)]}\n",
    "        res_aux = pd.DataFrame(dict_res, index = [str(m.__name__)])\n",
    "        \n",
    "        results = pd.concat([results, res_aux], axis = 0)\n",
    "    \n",
    "    return results\n",
    "\n",
    "def reg_results_cv(clf, X_train, y_train, kcv):\n",
    "    \n",
    "    classifier = clf.fit(X_train, np.ravel(y_train))\n",
    "    metrics = ['explained_variance', 'neg_mean_absolute_error', 'neg_mean_squared_error', 'neg_median_absolute_error', 'r2' ]\n",
    "    \n",
    "    results = pd.DataFrame()\n",
    "    for m in metrics:\n",
    "        cv_results = cross_validate(clf, X_train, np.ravel(y_train), scoring = m, cv = kcv, return_train_score = True)\n",
    "        dict_res = {'' + m + '_Treino': cv_results['train_score'], \n",
    "                    '' + m + '_Teste': cv_results['test_score']}\n",
    "        res_aux = pd.DataFrame(dict_res)\n",
    "        results = pd.concat([results, res_aux], axis = 1)\n",
    "        \n",
    "    results_mean = np.transpose(pd.DataFrame(results.mean(), columns=['media']))\n",
    "    results = pd.concat([results, results_mean], axis = 0)\n",
    "    return results\n",
    "\n",
    "\n",
    "def reg_grid_search(clf, X_train, y_train, params, score, cv):    \n",
    "    grid = GridSearchCV(clf, params, scoring = score, cv = cv, return_train_score=True)\n",
    "    grid_fitted = grid.fit(X_train, np.ravel(y_train))\n",
    "    print (\"Best score: %.4f\" % grid_fitted.best_score_)\n",
    "    print (\"Best parameters: %s\" % grid_fitted.best_params_)\n",
    "    return grid_fitted, grid_fitted.best_estimator_, grid_fitted.cv_results_"
   ]
  },
  {
   "cell_type": "markdown",
   "metadata": {},
   "source": [
    "#### Regressão Linear Simples -- Ordinary Least Squares (OLS)"
   ]
  },
  {
   "cell_type": "code",
   "execution_count": 33,
   "metadata": {},
   "outputs": [],
   "source": [
    "from sklearn.linear_model import LinearRegression\n",
    "\n",
    "lin_reg = LinearRegression(fit_intercept=True, normalize=False, copy_X=True, n_jobs=1)"
   ]
  },
  {
   "cell_type": "code",
   "execution_count": 35,
   "metadata": {},
   "outputs": [
    {
     "data": {
      "text/html": [
       "<div>\n",
       "<style scoped>\n",
       "    .dataframe tbody tr th:only-of-type {\n",
       "        vertical-align: middle;\n",
       "    }\n",
       "\n",
       "    .dataframe tbody tr th {\n",
       "        vertical-align: top;\n",
       "    }\n",
       "\n",
       "    .dataframe thead th {\n",
       "        text-align: right;\n",
       "    }\n",
       "</style>\n",
       "<table border=\"1\" class=\"dataframe\">\n",
       "  <thead>\n",
       "    <tr style=\"text-align: right;\">\n",
       "      <th></th>\n",
       "      <th>R&amp;D Spend</th>\n",
       "      <th>Administration</th>\n",
       "      <th>Marketing Spend</th>\n",
       "      <th>State</th>\n",
       "    </tr>\n",
       "  </thead>\n",
       "  <tbody>\n",
       "    <tr>\n",
       "      <th>33</th>\n",
       "      <td>55493.95</td>\n",
       "      <td>103057.49</td>\n",
       "      <td>214634.81</td>\n",
       "      <td>1</td>\n",
       "    </tr>\n",
       "    <tr>\n",
       "      <th>35</th>\n",
       "      <td>46014.02</td>\n",
       "      <td>85047.44</td>\n",
       "      <td>205517.64</td>\n",
       "      <td>2</td>\n",
       "    </tr>\n",
       "    <tr>\n",
       "      <th>26</th>\n",
       "      <td>75328.87</td>\n",
       "      <td>144135.98</td>\n",
       "      <td>134050.07</td>\n",
       "      <td>1</td>\n",
       "    </tr>\n",
       "    <tr>\n",
       "      <th>34</th>\n",
       "      <td>46426.07</td>\n",
       "      <td>157693.92</td>\n",
       "      <td>210797.67</td>\n",
       "      <td>0</td>\n",
       "    </tr>\n",
       "    <tr>\n",
       "      <th>18</th>\n",
       "      <td>91749.16</td>\n",
       "      <td>114175.79</td>\n",
       "      <td>294919.57</td>\n",
       "      <td>1</td>\n",
       "    </tr>\n",
       "  </tbody>\n",
       "</table>\n",
       "</div>"
      ],
      "text/plain": [
       "    R&D Spend  Administration  Marketing Spend  State\n",
       "33   55493.95       103057.49        214634.81      1\n",
       "35   46014.02        85047.44        205517.64      2\n",
       "26   75328.87       144135.98        134050.07      1\n",
       "34   46426.07       157693.92        210797.67      0\n",
       "18   91749.16       114175.79        294919.57      1"
      ]
     },
     "execution_count": 35,
     "metadata": {},
     "output_type": "execute_result"
    }
   ],
   "source": [
    "X_train.head()"
   ]
  },
  {
   "cell_type": "code",
   "execution_count": 34,
   "metadata": {},
   "outputs": [
    {
     "data": {
      "text/plain": [
       "LinearRegression(copy_X=True, fit_intercept=True, n_jobs=1, normalize=False)"
      ]
     },
     "execution_count": 34,
     "metadata": {},
     "output_type": "execute_result"
    }
   ],
   "source": [
    "lin_reg.fit(X_train, y_train)"
   ]
  },
  {
   "cell_type": "code",
   "execution_count": 36,
   "metadata": {
    "scrolled": true
   },
   "outputs": [
    {
     "data": {
      "text/plain": [
       "array([[94973.48038961]])"
      ]
     },
     "execution_count": 36,
     "metadata": {},
     "output_type": "execute_result"
    }
   ],
   "source": [
    "lin_reg.predict([[55490, 104050.6, 163948, 1]])"
   ]
  },
  {
   "cell_type": "code",
   "execution_count": 61,
   "metadata": {},
   "outputs": [
    {
     "data": {
      "text/plain": [
       "array([7.77203690e-01, 3.02432445e-02, 3.49236072e-02, 3.15877202e+02])"
      ]
     },
     "execution_count": 61,
     "metadata": {},
     "output_type": "execute_result"
    }
   ],
   "source": [
    "lin_reg.coef_"
   ]
  },
  {
   "cell_type": "markdown",
   "metadata": {},
   "source": [
    "Holdout"
   ]
  },
  {
   "cell_type": "code",
   "execution_count": 37,
   "metadata": {},
   "outputs": [
    {
     "data": {
      "text/html": [
       "<div>\n",
       "<style scoped>\n",
       "    .dataframe tbody tr th:only-of-type {\n",
       "        vertical-align: middle;\n",
       "    }\n",
       "\n",
       "    .dataframe tbody tr th {\n",
       "        vertical-align: top;\n",
       "    }\n",
       "\n",
       "    .dataframe thead th {\n",
       "        text-align: right;\n",
       "    }\n",
       "</style>\n",
       "<table border=\"1\" class=\"dataframe\">\n",
       "  <thead>\n",
       "    <tr style=\"text-align: right;\">\n",
       "      <th></th>\n",
       "      <th>Treino</th>\n",
       "      <th>Teste</th>\n",
       "    </tr>\n",
       "  </thead>\n",
       "  <tbody>\n",
       "    <tr>\n",
       "      <th>mean_squared_error</th>\n",
       "      <td>81871927.547</td>\n",
       "      <td>78413822.172</td>\n",
       "    </tr>\n",
       "    <tr>\n",
       "      <th>mean_absolute_error</th>\n",
       "      <td>6363.728</td>\n",
       "      <td>7400.616</td>\n",
       "    </tr>\n",
       "    <tr>\n",
       "      <th>r2_score</th>\n",
       "      <td>0.950</td>\n",
       "      <td>0.939</td>\n",
       "    </tr>\n",
       "  </tbody>\n",
       "</table>\n",
       "</div>"
      ],
      "text/plain": [
       "                           Treino         Teste\n",
       "mean_squared_error   81871927.547  78413822.172\n",
       "mean_absolute_error      6363.728      7400.616\n",
       "r2_score                    0.950         0.939"
      ]
     },
     "execution_count": 37,
     "metadata": {},
     "output_type": "execute_result"
    }
   ],
   "source": [
    "reg_results_holdout(lin_reg, X_train, y_train, X_test, y_test)"
   ]
  },
  {
   "cell_type": "markdown",
   "metadata": {},
   "source": [
    "CV"
   ]
  },
  {
   "cell_type": "code",
   "execution_count": 112,
   "metadata": {},
   "outputs": [
    {
     "data": {
      "text/html": [
       "<div>\n",
       "<style scoped>\n",
       "    .dataframe tbody tr th:only-of-type {\n",
       "        vertical-align: middle;\n",
       "    }\n",
       "\n",
       "    .dataframe tbody tr th {\n",
       "        vertical-align: top;\n",
       "    }\n",
       "\n",
       "    .dataframe thead th {\n",
       "        text-align: right;\n",
       "    }\n",
       "</style>\n",
       "<table border=\"1\" class=\"dataframe\">\n",
       "  <thead>\n",
       "    <tr style=\"text-align: right;\">\n",
       "      <th></th>\n",
       "      <th>explained_variance_Treino</th>\n",
       "      <th>explained_variance_Teste</th>\n",
       "      <th>neg_mean_absolute_error_Treino</th>\n",
       "      <th>neg_mean_absolute_error_Teste</th>\n",
       "      <th>neg_mean_squared_error_Treino</th>\n",
       "      <th>neg_mean_squared_error_Teste</th>\n",
       "      <th>neg_median_absolute_error_Treino</th>\n",
       "      <th>neg_median_absolute_error_Teste</th>\n",
       "      <th>r2_Treino</th>\n",
       "      <th>r2_Teste</th>\n",
       "    </tr>\n",
       "  </thead>\n",
       "  <tbody>\n",
       "    <tr>\n",
       "      <th>0</th>\n",
       "      <td>0.960281</td>\n",
       "      <td>0.799559</td>\n",
       "      <td>-5994.896733</td>\n",
       "      <td>-9327.107673</td>\n",
       "      <td>-7.461256e+07</td>\n",
       "      <td>-1.350453e+08</td>\n",
       "      <td>-4370.189116</td>\n",
       "      <td>-6044.607778</td>\n",
       "      <td>0.960281</td>\n",
       "      <td>0.799415</td>\n",
       "    </tr>\n",
       "    <tr>\n",
       "      <th>1</th>\n",
       "      <td>0.953117</td>\n",
       "      <td>0.890455</td>\n",
       "      <td>-6636.851510</td>\n",
       "      <td>-7341.769460</td>\n",
       "      <td>-8.383498e+07</td>\n",
       "      <td>-9.889020e+07</td>\n",
       "      <td>-5769.035376</td>\n",
       "      <td>-4366.608750</td>\n",
       "      <td>0.953117</td>\n",
       "      <td>0.884967</td>\n",
       "    </tr>\n",
       "    <tr>\n",
       "      <th>2</th>\n",
       "      <td>0.961225</td>\n",
       "      <td>0.915799</td>\n",
       "      <td>-5900.599386</td>\n",
       "      <td>-8229.959941</td>\n",
       "      <td>-5.932795e+07</td>\n",
       "      <td>-1.797505e+08</td>\n",
       "      <td>-3758.358143</td>\n",
       "      <td>-4743.367970</td>\n",
       "      <td>0.961225</td>\n",
       "      <td>0.911925</td>\n",
       "    </tr>\n",
       "    <tr>\n",
       "      <th>3</th>\n",
       "      <td>0.949317</td>\n",
       "      <td>0.949026</td>\n",
       "      <td>-6693.286010</td>\n",
       "      <td>-6602.719145</td>\n",
       "      <td>-8.599677e+07</td>\n",
       "      <td>-7.208362e+07</td>\n",
       "      <td>-4942.683894</td>\n",
       "      <td>-5821.741009</td>\n",
       "      <td>0.949317</td>\n",
       "      <td>0.934704</td>\n",
       "    </tr>\n",
       "    <tr>\n",
       "      <th>4</th>\n",
       "      <td>0.929199</td>\n",
       "      <td>0.974223</td>\n",
       "      <td>-6338.398362</td>\n",
       "      <td>-7055.992131</td>\n",
       "      <td>-8.983680e+07</td>\n",
       "      <td>-8.018137e+07</td>\n",
       "      <td>-3771.013025</td>\n",
       "      <td>-4527.478872</td>\n",
       "      <td>0.929199</td>\n",
       "      <td>0.974217</td>\n",
       "    </tr>\n",
       "    <tr>\n",
       "      <th>media</th>\n",
       "      <td>0.950628</td>\n",
       "      <td>0.905812</td>\n",
       "      <td>-6312.806400</td>\n",
       "      <td>-7711.509670</td>\n",
       "      <td>-7.872181e+07</td>\n",
       "      <td>-1.131902e+08</td>\n",
       "      <td>-4522.255911</td>\n",
       "      <td>-5100.760876</td>\n",
       "      <td>0.950628</td>\n",
       "      <td>0.901045</td>\n",
       "    </tr>\n",
       "  </tbody>\n",
       "</table>\n",
       "</div>"
      ],
      "text/plain": [
       "       explained_variance_Treino  explained_variance_Teste  \\\n",
       "0                       0.960281                  0.799559   \n",
       "1                       0.953117                  0.890455   \n",
       "2                       0.961225                  0.915799   \n",
       "3                       0.949317                  0.949026   \n",
       "4                       0.929199                  0.974223   \n",
       "media                   0.950628                  0.905812   \n",
       "\n",
       "       neg_mean_absolute_error_Treino  neg_mean_absolute_error_Teste  \\\n",
       "0                        -5994.896733                   -9327.107673   \n",
       "1                        -6636.851510                   -7341.769460   \n",
       "2                        -5900.599386                   -8229.959941   \n",
       "3                        -6693.286010                   -6602.719145   \n",
       "4                        -6338.398362                   -7055.992131   \n",
       "media                    -6312.806400                   -7711.509670   \n",
       "\n",
       "       neg_mean_squared_error_Treino  neg_mean_squared_error_Teste  \\\n",
       "0                      -7.461256e+07                 -1.350453e+08   \n",
       "1                      -8.383498e+07                 -9.889020e+07   \n",
       "2                      -5.932795e+07                 -1.797505e+08   \n",
       "3                      -8.599677e+07                 -7.208362e+07   \n",
       "4                      -8.983680e+07                 -8.018137e+07   \n",
       "media                  -7.872181e+07                 -1.131902e+08   \n",
       "\n",
       "       neg_median_absolute_error_Treino  neg_median_absolute_error_Teste  \\\n",
       "0                          -4370.189116                     -6044.607778   \n",
       "1                          -5769.035376                     -4366.608750   \n",
       "2                          -3758.358143                     -4743.367970   \n",
       "3                          -4942.683894                     -5821.741009   \n",
       "4                          -3771.013025                     -4527.478872   \n",
       "media                      -4522.255911                     -5100.760876   \n",
       "\n",
       "       r2_Treino  r2_Teste  \n",
       "0       0.960281  0.799415  \n",
       "1       0.953117  0.884967  \n",
       "2       0.961225  0.911925  \n",
       "3       0.949317  0.934704  \n",
       "4       0.929199  0.974217  \n",
       "media   0.950628  0.901045  "
      ]
     },
     "execution_count": 112,
     "metadata": {},
     "output_type": "execute_result"
    }
   ],
   "source": [
    "reg_results_cv(lin_reg, X_train, y_train, cv_kfold)"
   ]
  },
  {
   "cell_type": "markdown",
   "metadata": {},
   "source": [
    "#### l1 e l2"
   ]
  },
  {
   "cell_type": "markdown",
   "metadata": {},
   "source": [
    "`l1`: Adiciona à função de custo um valor absoluto de magnitude dos coeficientes como uma penalidade\n",
    "$$F_{cost} = \\sum_{i = 1}^{n}(y_i - y_{pred_{i}}) + \\lambda \\sum_{j = 1}^{p}|\\beta_j|$$\n",
    "`l2`: Adiciona à função de custo um valor ao quadrado como penalidade\n",
    "$$F_{cost} = \\sum_{i = 1}^{n}(y_i - y_{pred_{i}}) + \\lambda \\sum_{j = 1}^{p}\\beta_j^2$$\n",
    "\n",
    "A norma l1 tem a capacidade de zerar coeficientes pela região em que intercepta as curvas $\\beta$, enquanto a norma l2 diminui os coeficientes mas quase nunca zera.\n",
    "\n",
    "<img src=\"l1_l2.png\" width=\"400\">\n",
    "\n",
    "`Nota`: **Lasso** é um modelo que utiliza a norma l1 como penalização dos coeficientes e **Ridge** é um modelo que utiliza a norma l2 como penalização dos coeficientes\n",
    "\n",
    "`Nota2`: As curvas de nível de $\\beta$ representam uma distribuição normal em duas dimensões"
   ]
  },
  {
   "cell_type": "markdown",
   "metadata": {},
   "source": [
    "##### Lasso"
   ]
  },
  {
   "cell_type": "code",
   "execution_count": 40,
   "metadata": {},
   "outputs": [],
   "source": [
    "from sklearn.linear_model import Lasso\n",
    "#alpha é o lambda  :P\n",
    "#se alpha = 0, o modelo é equivalente ao OLS\n",
    "lasso = Lasso(alpha=1.0, fit_intercept=True, normalize=False, precompute=False, copy_X=True, max_iter=1000, tol=0.0001, \n",
    "              warm_start=False, positive=False, random_state=None, selection='cyclic')"
   ]
  },
  {
   "cell_type": "code",
   "execution_count": 41,
   "metadata": {},
   "outputs": [
    {
     "data": {
      "text/plain": [
       "Lasso(alpha=1.0, copy_X=True, fit_intercept=True, max_iter=1000,\n",
       "   normalize=False, positive=False, precompute=False, random_state=None,\n",
       "   selection='cyclic', tol=0.0001, warm_start=False)"
      ]
     },
     "execution_count": 41,
     "metadata": {},
     "output_type": "execute_result"
    }
   ],
   "source": [
    "lasso.fit(X_train, y_train)"
   ]
  },
  {
   "cell_type": "code",
   "execution_count": 42,
   "metadata": {},
   "outputs": [
    {
     "data": {
      "text/plain": [
       "array([94973.40252365])"
      ]
     },
     "execution_count": 42,
     "metadata": {},
     "output_type": "execute_result"
    }
   ],
   "source": [
    "lasso.predict([[55490, 104050.6, 163948, 1]])"
   ]
  },
  {
   "cell_type": "code",
   "execution_count": 44,
   "metadata": {},
   "outputs": [
    {
     "data": {
      "text/plain": [
       "array([7.77210914e-01, 3.02394872e-02, 3.49226656e-02, 3.14483927e+02])"
      ]
     },
     "execution_count": 44,
     "metadata": {},
     "output_type": "execute_result"
    }
   ],
   "source": [
    "#coeficientes do modelo linear\n",
    "lasso.coef_"
   ]
  },
  {
   "cell_type": "markdown",
   "metadata": {},
   "source": [
    "Holdout"
   ]
  },
  {
   "cell_type": "code",
   "execution_count": 49,
   "metadata": {},
   "outputs": [
    {
     "data": {
      "text/html": [
       "<div>\n",
       "<style scoped>\n",
       "    .dataframe tbody tr th:only-of-type {\n",
       "        vertical-align: middle;\n",
       "    }\n",
       "\n",
       "    .dataframe tbody tr th {\n",
       "        vertical-align: top;\n",
       "    }\n",
       "\n",
       "    .dataframe thead th {\n",
       "        text-align: right;\n",
       "    }\n",
       "</style>\n",
       "<table border=\"1\" class=\"dataframe\">\n",
       "  <thead>\n",
       "    <tr style=\"text-align: right;\">\n",
       "      <th></th>\n",
       "      <th>Treino</th>\n",
       "      <th>Teste</th>\n",
       "    </tr>\n",
       "  </thead>\n",
       "  <tbody>\n",
       "    <tr>\n",
       "      <th>mean_squared_error</th>\n",
       "      <td>81871928.941</td>\n",
       "      <td>78409578.915</td>\n",
       "    </tr>\n",
       "    <tr>\n",
       "      <th>mean_absolute_error</th>\n",
       "      <td>6363.547</td>\n",
       "      <td>7400.263</td>\n",
       "    </tr>\n",
       "    <tr>\n",
       "      <th>r2_score</th>\n",
       "      <td>0.950</td>\n",
       "      <td>0.939</td>\n",
       "    </tr>\n",
       "  </tbody>\n",
       "</table>\n",
       "</div>"
      ],
      "text/plain": [
       "                           Treino         Teste\n",
       "mean_squared_error   81871928.941  78409578.915\n",
       "mean_absolute_error      6363.547      7400.263\n",
       "r2_score                    0.950         0.939"
      ]
     },
     "execution_count": 49,
     "metadata": {},
     "output_type": "execute_result"
    }
   ],
   "source": [
    "reg_results_holdout(lasso, X_train, y_train, X_test, y_test)"
   ]
  },
  {
   "cell_type": "markdown",
   "metadata": {},
   "source": [
    "CV"
   ]
  },
  {
   "cell_type": "code",
   "execution_count": 54,
   "metadata": {},
   "outputs": [
    {
     "data": {
      "text/html": [
       "<div>\n",
       "<style scoped>\n",
       "    .dataframe tbody tr th:only-of-type {\n",
       "        vertical-align: middle;\n",
       "    }\n",
       "\n",
       "    .dataframe tbody tr th {\n",
       "        vertical-align: top;\n",
       "    }\n",
       "\n",
       "    .dataframe thead th {\n",
       "        text-align: right;\n",
       "    }\n",
       "</style>\n",
       "<table border=\"1\" class=\"dataframe\">\n",
       "  <thead>\n",
       "    <tr style=\"text-align: right;\">\n",
       "      <th></th>\n",
       "      <th>explained_variance_Treino</th>\n",
       "      <th>explained_variance_Teste</th>\n",
       "      <th>neg_mean_absolute_error_Treino</th>\n",
       "      <th>neg_mean_absolute_error_Teste</th>\n",
       "      <th>neg_mean_squared_error_Treino</th>\n",
       "      <th>neg_mean_squared_error_Teste</th>\n",
       "      <th>neg_median_absolute_error_Treino</th>\n",
       "      <th>neg_median_absolute_error_Teste</th>\n",
       "      <th>r2_Treino</th>\n",
       "      <th>r2_Teste</th>\n",
       "    </tr>\n",
       "  </thead>\n",
       "  <tbody>\n",
       "    <tr>\n",
       "      <th>0</th>\n",
       "      <td>0.960281</td>\n",
       "      <td>0.799580</td>\n",
       "      <td>-5995.127755</td>\n",
       "      <td>-9326.727466</td>\n",
       "      <td>-7.461257e+07</td>\n",
       "      <td>-1.350311e+08</td>\n",
       "      <td>-4369.811000</td>\n",
       "      <td>-6044.517151</td>\n",
       "      <td>0.960281</td>\n",
       "      <td>0.799436</td>\n",
       "    </tr>\n",
       "    <tr>\n",
       "      <th>1</th>\n",
       "      <td>0.953117</td>\n",
       "      <td>0.890481</td>\n",
       "      <td>-6636.670264</td>\n",
       "      <td>-7340.832735</td>\n",
       "      <td>-8.383498e+07</td>\n",
       "      <td>-9.886790e+07</td>\n",
       "      <td>-5769.919739</td>\n",
       "      <td>-4365.056802</td>\n",
       "      <td>0.953117</td>\n",
       "      <td>0.884993</td>\n",
       "    </tr>\n",
       "    <tr>\n",
       "      <th>2</th>\n",
       "      <td>0.961225</td>\n",
       "      <td>0.915803</td>\n",
       "      <td>-5900.715688</td>\n",
       "      <td>-8230.275844</td>\n",
       "      <td>-5.932795e+07</td>\n",
       "      <td>-1.797434e+08</td>\n",
       "      <td>-3758.395888</td>\n",
       "      <td>-4744.869898</td>\n",
       "      <td>0.961225</td>\n",
       "      <td>0.911928</td>\n",
       "    </tr>\n",
       "    <tr>\n",
       "      <th>3</th>\n",
       "      <td>0.949317</td>\n",
       "      <td>0.949031</td>\n",
       "      <td>-6693.014494</td>\n",
       "      <td>-6601.670245</td>\n",
       "      <td>-8.599678e+07</td>\n",
       "      <td>-7.207561e+07</td>\n",
       "      <td>-4942.248444</td>\n",
       "      <td>-5819.876883</td>\n",
       "      <td>0.949317</td>\n",
       "      <td>0.934711</td>\n",
       "    </tr>\n",
       "    <tr>\n",
       "      <th>4</th>\n",
       "      <td>0.929199</td>\n",
       "      <td>0.974227</td>\n",
       "      <td>-6338.701819</td>\n",
       "      <td>-7054.842046</td>\n",
       "      <td>-8.983680e+07</td>\n",
       "      <td>-8.016930e+07</td>\n",
       "      <td>-3771.095384</td>\n",
       "      <td>-4526.070776</td>\n",
       "      <td>0.929199</td>\n",
       "      <td>0.974221</td>\n",
       "    </tr>\n",
       "    <tr>\n",
       "      <th>media</th>\n",
       "      <td>0.950628</td>\n",
       "      <td>0.905824</td>\n",
       "      <td>-6312.846004</td>\n",
       "      <td>-7710.869667</td>\n",
       "      <td>-7.872182e+07</td>\n",
       "      <td>-1.131775e+08</td>\n",
       "      <td>-4522.294091</td>\n",
       "      <td>-5100.078302</td>\n",
       "      <td>0.950628</td>\n",
       "      <td>0.901058</td>\n",
       "    </tr>\n",
       "  </tbody>\n",
       "</table>\n",
       "</div>"
      ],
      "text/plain": [
       "       explained_variance_Treino  explained_variance_Teste  \\\n",
       "0                       0.960281                  0.799580   \n",
       "1                       0.953117                  0.890481   \n",
       "2                       0.961225                  0.915803   \n",
       "3                       0.949317                  0.949031   \n",
       "4                       0.929199                  0.974227   \n",
       "media                   0.950628                  0.905824   \n",
       "\n",
       "       neg_mean_absolute_error_Treino  neg_mean_absolute_error_Teste  \\\n",
       "0                        -5995.127755                   -9326.727466   \n",
       "1                        -6636.670264                   -7340.832735   \n",
       "2                        -5900.715688                   -8230.275844   \n",
       "3                        -6693.014494                   -6601.670245   \n",
       "4                        -6338.701819                   -7054.842046   \n",
       "media                    -6312.846004                   -7710.869667   \n",
       "\n",
       "       neg_mean_squared_error_Treino  neg_mean_squared_error_Teste  \\\n",
       "0                      -7.461257e+07                 -1.350311e+08   \n",
       "1                      -8.383498e+07                 -9.886790e+07   \n",
       "2                      -5.932795e+07                 -1.797434e+08   \n",
       "3                      -8.599678e+07                 -7.207561e+07   \n",
       "4                      -8.983680e+07                 -8.016930e+07   \n",
       "media                  -7.872182e+07                 -1.131775e+08   \n",
       "\n",
       "       neg_median_absolute_error_Treino  neg_median_absolute_error_Teste  \\\n",
       "0                          -4369.811000                     -6044.517151   \n",
       "1                          -5769.919739                     -4365.056802   \n",
       "2                          -3758.395888                     -4744.869898   \n",
       "3                          -4942.248444                     -5819.876883   \n",
       "4                          -3771.095384                     -4526.070776   \n",
       "media                      -4522.294091                     -5100.078302   \n",
       "\n",
       "       r2_Treino  r2_Teste  \n",
       "0       0.960281  0.799436  \n",
       "1       0.953117  0.884993  \n",
       "2       0.961225  0.911928  \n",
       "3       0.949317  0.934711  \n",
       "4       0.929199  0.974221  \n",
       "media   0.950628  0.901058  "
      ]
     },
     "execution_count": 54,
     "metadata": {},
     "output_type": "execute_result"
    }
   ],
   "source": [
    "reg_results_cv(lasso, X_train, y_train, cv_kfold)"
   ]
  },
  {
   "cell_type": "markdown",
   "metadata": {},
   "source": [
    "##### Ridge"
   ]
  },
  {
   "cell_type": "code",
   "execution_count": 74,
   "metadata": {},
   "outputs": [],
   "source": [
    "from sklearn.linear_model import Ridge\n",
    "\n",
    "ridge = Ridge(alpha=1.0, fit_intercept=True, normalize=False, copy_X=True, max_iter=None, tol=0.001, solver='auto', \n",
    "              random_state=None)"
   ]
  },
  {
   "cell_type": "code",
   "execution_count": 75,
   "metadata": {},
   "outputs": [
    {
     "data": {
      "text/plain": [
       "Ridge(alpha=1.0, copy_X=True, fit_intercept=True, max_iter=None,\n",
       "   normalize=False, random_state=None, solver='auto', tol=0.001)"
      ]
     },
     "execution_count": 75,
     "metadata": {},
     "output_type": "execute_result"
    }
   ],
   "source": [
    "ridge.fit(X_train, y_train)"
   ]
  },
  {
   "cell_type": "code",
   "execution_count": 76,
   "metadata": {},
   "outputs": [
    {
     "data": {
      "text/plain": [
       "array([[94972.88593105]])"
      ]
     },
     "execution_count": 76,
     "metadata": {},
     "output_type": "execute_result"
    }
   ],
   "source": [
    "ridge.predict([[55490, 104050.6, 163948, 1]])"
   ]
  },
  {
   "cell_type": "code",
   "execution_count": 77,
   "metadata": {},
   "outputs": [
    {
     "data": {
      "text/plain": [
       "array([[7.77258802e-01, 3.02145889e-02, 3.49164259e-02, 3.05245020e+02]])"
      ]
     },
     "execution_count": 77,
     "metadata": {},
     "output_type": "execute_result"
    }
   ],
   "source": [
    "ridge.coef_"
   ]
  },
  {
   "cell_type": "markdown",
   "metadata": {},
   "source": [
    "Holdout"
   ]
  },
  {
   "cell_type": "code",
   "execution_count": 78,
   "metadata": {},
   "outputs": [
    {
     "data": {
      "text/html": [
       "<div>\n",
       "<style scoped>\n",
       "    .dataframe tbody tr th:only-of-type {\n",
       "        vertical-align: middle;\n",
       "    }\n",
       "\n",
       "    .dataframe tbody tr th {\n",
       "        vertical-align: top;\n",
       "    }\n",
       "\n",
       "    .dataframe thead th {\n",
       "        text-align: right;\n",
       "    }\n",
       "</style>\n",
       "<table border=\"1\" class=\"dataframe\">\n",
       "  <thead>\n",
       "    <tr style=\"text-align: right;\">\n",
       "      <th></th>\n",
       "      <th>Treino</th>\n",
       "      <th>Teste</th>\n",
       "    </tr>\n",
       "  </thead>\n",
       "  <tbody>\n",
       "    <tr>\n",
       "      <th>mean_squared_error</th>\n",
       "      <td>81872008.683</td>\n",
       "      <td>78381502.762</td>\n",
       "    </tr>\n",
       "    <tr>\n",
       "      <th>mean_absolute_error</th>\n",
       "      <td>6362.343</td>\n",
       "      <td>7397.918</td>\n",
       "    </tr>\n",
       "    <tr>\n",
       "      <th>r2_score</th>\n",
       "      <td>0.950</td>\n",
       "      <td>0.939</td>\n",
       "    </tr>\n",
       "  </tbody>\n",
       "</table>\n",
       "</div>"
      ],
      "text/plain": [
       "                           Treino         Teste\n",
       "mean_squared_error   81872008.683  78381502.762\n",
       "mean_absolute_error      6362.343      7397.918\n",
       "r2_score                    0.950         0.939"
      ]
     },
     "execution_count": 78,
     "metadata": {},
     "output_type": "execute_result"
    }
   ],
   "source": [
    "reg_results_holdout(ridge, X_train, y_train, X_test, y_test)"
   ]
  },
  {
   "cell_type": "markdown",
   "metadata": {},
   "source": [
    "CV"
   ]
  },
  {
   "cell_type": "code",
   "execution_count": 80,
   "metadata": {},
   "outputs": [
    {
     "data": {
      "text/html": [
       "<div>\n",
       "<style scoped>\n",
       "    .dataframe tbody tr th:only-of-type {\n",
       "        vertical-align: middle;\n",
       "    }\n",
       "\n",
       "    .dataframe tbody tr th {\n",
       "        vertical-align: top;\n",
       "    }\n",
       "\n",
       "    .dataframe thead th {\n",
       "        text-align: right;\n",
       "    }\n",
       "</style>\n",
       "<table border=\"1\" class=\"dataframe\">\n",
       "  <thead>\n",
       "    <tr style=\"text-align: right;\">\n",
       "      <th></th>\n",
       "      <th>explained_variance_Treino</th>\n",
       "      <th>explained_variance_Teste</th>\n",
       "      <th>neg_mean_absolute_error_Treino</th>\n",
       "      <th>neg_mean_absolute_error_Teste</th>\n",
       "      <th>neg_mean_squared_error_Treino</th>\n",
       "      <th>neg_mean_squared_error_Teste</th>\n",
       "      <th>neg_median_absolute_error_Treino</th>\n",
       "      <th>neg_median_absolute_error_Teste</th>\n",
       "      <th>r2_Treino</th>\n",
       "      <th>r2_Teste</th>\n",
       "    </tr>\n",
       "  </thead>\n",
       "  <tbody>\n",
       "    <tr>\n",
       "      <th>0</th>\n",
       "      <td>0.960280</td>\n",
       "      <td>0.800175</td>\n",
       "      <td>-6001.766534</td>\n",
       "      <td>-9315.801360</td>\n",
       "      <td>-7.461370e+07</td>\n",
       "      <td>-1.346251e+08</td>\n",
       "      <td>-4358.943134</td>\n",
       "      <td>-6041.913114</td>\n",
       "      <td>0.960280</td>\n",
       "      <td>0.800039</td>\n",
       "    </tr>\n",
       "    <tr>\n",
       "      <th>1</th>\n",
       "      <td>0.953113</td>\n",
       "      <td>0.892227</td>\n",
       "      <td>-6624.587765</td>\n",
       "      <td>-7278.052389</td>\n",
       "      <td>-8.384174e+07</td>\n",
       "      <td>-9.738243e+07</td>\n",
       "      <td>-5805.083318</td>\n",
       "      <td>-4261.041581</td>\n",
       "      <td>0.953113</td>\n",
       "      <td>0.886721</td>\n",
       "    </tr>\n",
       "    <tr>\n",
       "      <th>2</th>\n",
       "      <td>0.961225</td>\n",
       "      <td>0.915829</td>\n",
       "      <td>-5901.484766</td>\n",
       "      <td>-8232.364633</td>\n",
       "      <td>-5.932804e+07</td>\n",
       "      <td>-1.796964e+08</td>\n",
       "      <td>-3758.645474</td>\n",
       "      <td>-4754.801510</td>\n",
       "      <td>0.961225</td>\n",
       "      <td>0.911951</td>\n",
       "    </tr>\n",
       "    <tr>\n",
       "      <th>3</th>\n",
       "      <td>0.949316</td>\n",
       "      <td>0.949181</td>\n",
       "      <td>-6684.881539</td>\n",
       "      <td>-6570.251944</td>\n",
       "      <td>-8.599820e+07</td>\n",
       "      <td>-7.183779e+07</td>\n",
       "      <td>-4929.204523</td>\n",
       "      <td>-5764.040497</td>\n",
       "      <td>0.949316</td>\n",
       "      <td>0.934927</td>\n",
       "    </tr>\n",
       "    <tr>\n",
       "      <th>4</th>\n",
       "      <td>0.929198</td>\n",
       "      <td>0.974296</td>\n",
       "      <td>-6344.131238</td>\n",
       "      <td>-7034.265889</td>\n",
       "      <td>-8.983730e+07</td>\n",
       "      <td>-7.995386e+07</td>\n",
       "      <td>-3772.569525</td>\n",
       "      <td>-4500.878077</td>\n",
       "      <td>0.929198</td>\n",
       "      <td>0.974290</td>\n",
       "    </tr>\n",
       "    <tr>\n",
       "      <th>media</th>\n",
       "      <td>0.950627</td>\n",
       "      <td>0.906342</td>\n",
       "      <td>-6311.370368</td>\n",
       "      <td>-7686.147243</td>\n",
       "      <td>-7.872380e+07</td>\n",
       "      <td>-1.126991e+08</td>\n",
       "      <td>-4524.889195</td>\n",
       "      <td>-5064.534956</td>\n",
       "      <td>0.950627</td>\n",
       "      <td>0.901585</td>\n",
       "    </tr>\n",
       "  </tbody>\n",
       "</table>\n",
       "</div>"
      ],
      "text/plain": [
       "       explained_variance_Treino  explained_variance_Teste  \\\n",
       "0                       0.960280                  0.800175   \n",
       "1                       0.953113                  0.892227   \n",
       "2                       0.961225                  0.915829   \n",
       "3                       0.949316                  0.949181   \n",
       "4                       0.929198                  0.974296   \n",
       "media                   0.950627                  0.906342   \n",
       "\n",
       "       neg_mean_absolute_error_Treino  neg_mean_absolute_error_Teste  \\\n",
       "0                        -6001.766534                   -9315.801360   \n",
       "1                        -6624.587765                   -7278.052389   \n",
       "2                        -5901.484766                   -8232.364633   \n",
       "3                        -6684.881539                   -6570.251944   \n",
       "4                        -6344.131238                   -7034.265889   \n",
       "media                    -6311.370368                   -7686.147243   \n",
       "\n",
       "       neg_mean_squared_error_Treino  neg_mean_squared_error_Teste  \\\n",
       "0                      -7.461370e+07                 -1.346251e+08   \n",
       "1                      -8.384174e+07                 -9.738243e+07   \n",
       "2                      -5.932804e+07                 -1.796964e+08   \n",
       "3                      -8.599820e+07                 -7.183779e+07   \n",
       "4                      -8.983730e+07                 -7.995386e+07   \n",
       "media                  -7.872380e+07                 -1.126991e+08   \n",
       "\n",
       "       neg_median_absolute_error_Treino  neg_median_absolute_error_Teste  \\\n",
       "0                          -4358.943134                     -6041.913114   \n",
       "1                          -5805.083318                     -4261.041581   \n",
       "2                          -3758.645474                     -4754.801510   \n",
       "3                          -4929.204523                     -5764.040497   \n",
       "4                          -3772.569525                     -4500.878077   \n",
       "media                      -4524.889195                     -5064.534956   \n",
       "\n",
       "       r2_Treino  r2_Teste  \n",
       "0       0.960280  0.800039  \n",
       "1       0.953113  0.886721  \n",
       "2       0.961225  0.911951  \n",
       "3       0.949316  0.934927  \n",
       "4       0.929198  0.974290  \n",
       "media   0.950627  0.901585  "
      ]
     },
     "execution_count": 80,
     "metadata": {},
     "output_type": "execute_result"
    }
   ],
   "source": [
    "reg_results_cv(ridge, X_train, y_train, cv_kfold)"
   ]
  },
  {
   "cell_type": "markdown",
   "metadata": {},
   "source": [
    "##### Elastic Net"
   ]
  },
  {
   "cell_type": "markdown",
   "metadata": {},
   "source": [
    "Combinação da norma l1 com a norma l2\n",
    "$$J = MSE + a * l1 + (1-a) * l2$$"
   ]
  },
  {
   "cell_type": "code",
   "execution_count": 87,
   "metadata": {},
   "outputs": [],
   "source": [
    "from sklearn.linear_model import ElasticNet\n",
    "#se l1_ratio = 0, a norma é a l2\n",
    "elastic = ElasticNet(alpha=1.0, l1_ratio=0.5, fit_intercept=True, normalize=False, precompute=False, max_iter=1000, copy_X=True, \n",
    "                     tol=0.0001, warm_start=False, positive=False, random_state=None, selection='cyclic')"
   ]
  },
  {
   "cell_type": "code",
   "execution_count": 88,
   "metadata": {},
   "outputs": [
    {
     "data": {
      "text/plain": [
       "ElasticNet(alpha=1.0, copy_X=True, fit_intercept=True, l1_ratio=0.5,\n",
       "      max_iter=1000, normalize=False, positive=False, precompute=False,\n",
       "      random_state=None, selection='cyclic', tol=0.0001, warm_start=False)"
      ]
     },
     "execution_count": 88,
     "metadata": {},
     "output_type": "execute_result"
    }
   ],
   "source": [
    "elastic.fit(X_train, y_train)"
   ]
  },
  {
   "cell_type": "code",
   "execution_count": 89,
   "metadata": {},
   "outputs": [
    {
     "data": {
      "text/plain": [
       "array([94966.20585529])"
      ]
     },
     "execution_count": 89,
     "metadata": {},
     "output_type": "execute_result"
    }
   ],
   "source": [
    "elastic.predict([[55490, 104050.6, 163948, 1]])"
   ]
  },
  {
   "cell_type": "code",
   "execution_count": 90,
   "metadata": {},
   "outputs": [
    {
     "data": {
      "text/plain": [
       "array([7.77878112e-01, 2.98925769e-02, 3.48357278e-02, 1.85768305e+02])"
      ]
     },
     "execution_count": 90,
     "metadata": {},
     "output_type": "execute_result"
    }
   ],
   "source": [
    "elastic.coef_"
   ]
  },
  {
   "cell_type": "markdown",
   "metadata": {},
   "source": [
    "Holdout"
   ]
  },
  {
   "cell_type": "code",
   "execution_count": 91,
   "metadata": {},
   "outputs": [
    {
     "data": {
      "text/html": [
       "<div>\n",
       "<style scoped>\n",
       "    .dataframe tbody tr th:only-of-type {\n",
       "        vertical-align: middle;\n",
       "    }\n",
       "\n",
       "    .dataframe tbody tr th {\n",
       "        vertical-align: top;\n",
       "    }\n",
       "\n",
       "    .dataframe thead th {\n",
       "        text-align: right;\n",
       "    }\n",
       "</style>\n",
       "<table border=\"1\" class=\"dataframe\">\n",
       "  <thead>\n",
       "    <tr style=\"text-align: right;\">\n",
       "      <th></th>\n",
       "      <th>Treino</th>\n",
       "      <th>Teste</th>\n",
       "    </tr>\n",
       "  </thead>\n",
       "  <tbody>\n",
       "    <tr>\n",
       "      <th>mean_squared_error</th>\n",
       "      <td>81884077.657</td>\n",
       "      <td>78026839.429</td>\n",
       "    </tr>\n",
       "    <tr>\n",
       "      <th>mean_absolute_error</th>\n",
       "      <td>6346.780</td>\n",
       "      <td>7367.593</td>\n",
       "    </tr>\n",
       "    <tr>\n",
       "      <th>r2_score</th>\n",
       "      <td>0.950</td>\n",
       "      <td>0.939</td>\n",
       "    </tr>\n",
       "  </tbody>\n",
       "</table>\n",
       "</div>"
      ],
      "text/plain": [
       "                           Treino         Teste\n",
       "mean_squared_error   81884077.657  78026839.429\n",
       "mean_absolute_error      6346.780      7367.593\n",
       "r2_score                    0.950         0.939"
      ]
     },
     "execution_count": 91,
     "metadata": {},
     "output_type": "execute_result"
    }
   ],
   "source": [
    "reg_results_holdout(elastic, X_train, y_train, X_test, y_test)"
   ]
  },
  {
   "cell_type": "markdown",
   "metadata": {},
   "source": [
    "CV"
   ]
  },
  {
   "cell_type": "code",
   "execution_count": 92,
   "metadata": {},
   "outputs": [
    {
     "data": {
      "text/html": [
       "<div>\n",
       "<style scoped>\n",
       "    .dataframe tbody tr th:only-of-type {\n",
       "        vertical-align: middle;\n",
       "    }\n",
       "\n",
       "    .dataframe tbody tr th {\n",
       "        vertical-align: top;\n",
       "    }\n",
       "\n",
       "    .dataframe thead th {\n",
       "        text-align: right;\n",
       "    }\n",
       "</style>\n",
       "<table border=\"1\" class=\"dataframe\">\n",
       "  <thead>\n",
       "    <tr style=\"text-align: right;\">\n",
       "      <th></th>\n",
       "      <th>explained_variance_Treino</th>\n",
       "      <th>explained_variance_Teste</th>\n",
       "      <th>neg_mean_absolute_error_Treino</th>\n",
       "      <th>neg_mean_absolute_error_Teste</th>\n",
       "      <th>neg_mean_squared_error_Treino</th>\n",
       "      <th>neg_mean_squared_error_Teste</th>\n",
       "      <th>neg_median_absolute_error_Treino</th>\n",
       "      <th>neg_median_absolute_error_Teste</th>\n",
       "      <th>r2_Treino</th>\n",
       "      <th>r2_Teste</th>\n",
       "    </tr>\n",
       "  </thead>\n",
       "  <tbody>\n",
       "    <tr>\n",
       "      <th>0</th>\n",
       "      <td>0.960219</td>\n",
       "      <td>0.805715</td>\n",
       "      <td>-6074.936267</td>\n",
       "      <td>-9212.389021</td>\n",
       "      <td>-7.472942e+07</td>\n",
       "      <td>-1.308543e+08</td>\n",
       "      <td>-4653.578968</td>\n",
       "      <td>-6126.480142</td>\n",
       "      <td>0.960219</td>\n",
       "      <td>0.805640</td>\n",
       "    </tr>\n",
       "    <tr>\n",
       "      <th>1</th>\n",
       "      <td>0.952764</td>\n",
       "      <td>0.906736</td>\n",
       "      <td>-6577.614293</td>\n",
       "      <td>-6725.524427</td>\n",
       "      <td>-8.446741e+07</td>\n",
       "      <td>-8.504714e+07</td>\n",
       "      <td>-5278.097973</td>\n",
       "      <td>-3345.606971</td>\n",
       "      <td>0.952764</td>\n",
       "      <td>0.901070</td>\n",
       "    </tr>\n",
       "    <tr>\n",
       "      <th>2</th>\n",
       "      <td>0.961220</td>\n",
       "      <td>0.916077</td>\n",
       "      <td>-5909.130637</td>\n",
       "      <td>-8253.130817</td>\n",
       "      <td>-5.933596e+07</td>\n",
       "      <td>-1.792396e+08</td>\n",
       "      <td>-3761.126781</td>\n",
       "      <td>-4853.538023</td>\n",
       "      <td>0.961220</td>\n",
       "      <td>0.912175</td>\n",
       "    </tr>\n",
       "    <tr>\n",
       "      <th>3</th>\n",
       "      <td>0.949239</td>\n",
       "      <td>0.950353</td>\n",
       "      <td>-6622.901644</td>\n",
       "      <td>-6335.825214</td>\n",
       "      <td>-8.612843e+07</td>\n",
       "      <td>-6.990634e+07</td>\n",
       "      <td>-4813.106567</td>\n",
       "      <td>-5267.065384</td>\n",
       "      <td>0.949239</td>\n",
       "      <td>0.936676</td>\n",
       "    </tr>\n",
       "    <tr>\n",
       "      <th>4</th>\n",
       "      <td>0.929160</td>\n",
       "      <td>0.974926</td>\n",
       "      <td>-6405.029251</td>\n",
       "      <td>-6842.847637</td>\n",
       "      <td>-8.988527e+07</td>\n",
       "      <td>-7.800173e+07</td>\n",
       "      <td>-3786.283001</td>\n",
       "      <td>-4266.512765</td>\n",
       "      <td>0.929160</td>\n",
       "      <td>0.974918</td>\n",
       "    </tr>\n",
       "    <tr>\n",
       "      <th>media</th>\n",
       "      <td>0.950520</td>\n",
       "      <td>0.910761</td>\n",
       "      <td>-6317.922418</td>\n",
       "      <td>-7473.943423</td>\n",
       "      <td>-7.890930e+07</td>\n",
       "      <td>-1.086098e+08</td>\n",
       "      <td>-4458.438658</td>\n",
       "      <td>-4771.840657</td>\n",
       "      <td>0.950520</td>\n",
       "      <td>0.906096</td>\n",
       "    </tr>\n",
       "  </tbody>\n",
       "</table>\n",
       "</div>"
      ],
      "text/plain": [
       "       explained_variance_Treino  explained_variance_Teste  \\\n",
       "0                       0.960219                  0.805715   \n",
       "1                       0.952764                  0.906736   \n",
       "2                       0.961220                  0.916077   \n",
       "3                       0.949239                  0.950353   \n",
       "4                       0.929160                  0.974926   \n",
       "media                   0.950520                  0.910761   \n",
       "\n",
       "       neg_mean_absolute_error_Treino  neg_mean_absolute_error_Teste  \\\n",
       "0                        -6074.936267                   -9212.389021   \n",
       "1                        -6577.614293                   -6725.524427   \n",
       "2                        -5909.130637                   -8253.130817   \n",
       "3                        -6622.901644                   -6335.825214   \n",
       "4                        -6405.029251                   -6842.847637   \n",
       "media                    -6317.922418                   -7473.943423   \n",
       "\n",
       "       neg_mean_squared_error_Treino  neg_mean_squared_error_Teste  \\\n",
       "0                      -7.472942e+07                 -1.308543e+08   \n",
       "1                      -8.446741e+07                 -8.504714e+07   \n",
       "2                      -5.933596e+07                 -1.792396e+08   \n",
       "3                      -8.612843e+07                 -6.990634e+07   \n",
       "4                      -8.988527e+07                 -7.800173e+07   \n",
       "media                  -7.890930e+07                 -1.086098e+08   \n",
       "\n",
       "       neg_median_absolute_error_Treino  neg_median_absolute_error_Teste  \\\n",
       "0                          -4653.578968                     -6126.480142   \n",
       "1                          -5278.097973                     -3345.606971   \n",
       "2                          -3761.126781                     -4853.538023   \n",
       "3                          -4813.106567                     -5267.065384   \n",
       "4                          -3786.283001                     -4266.512765   \n",
       "media                      -4458.438658                     -4771.840657   \n",
       "\n",
       "       r2_Treino  r2_Teste  \n",
       "0       0.960219  0.805640  \n",
       "1       0.952764  0.901070  \n",
       "2       0.961220  0.912175  \n",
       "3       0.949239  0.936676  \n",
       "4       0.929160  0.974918  \n",
       "media   0.950520  0.906096  "
      ]
     },
     "execution_count": 92,
     "metadata": {},
     "output_type": "execute_result"
    }
   ],
   "source": [
    "reg_results_cv(elastic, X_train, y_train, cv_kfold)"
   ]
  },
  {
   "cell_type": "markdown",
   "metadata": {},
   "source": [
    "##### KNN Regressor"
   ]
  },
  {
   "cell_type": "code",
   "execution_count": 93,
   "metadata": {},
   "outputs": [],
   "source": [
    "from sklearn.neighbors import KNeighborsRegressor\n",
    "\n",
    "knn = KNeighborsRegressor(n_neighbors=5, weights='uniform', algorithm='auto', leaf_size=30, p=2, metric='minkowski', \n",
    "                          metric_params=None, n_jobs=1)"
   ]
  },
  {
   "cell_type": "code",
   "execution_count": 94,
   "metadata": {},
   "outputs": [
    {
     "data": {
      "text/plain": [
       "KNeighborsRegressor(algorithm='auto', leaf_size=30, metric='minkowski',\n",
       "          metric_params=None, n_jobs=1, n_neighbors=5, p=2,\n",
       "          weights='uniform')"
      ]
     },
     "execution_count": 94,
     "metadata": {},
     "output_type": "execute_result"
    }
   ],
   "source": [
    "knn.fit(X_train, y_train)"
   ]
  },
  {
   "cell_type": "code",
   "execution_count": 95,
   "metadata": {},
   "outputs": [
    {
     "data": {
      "text/plain": [
       "array([[89340.108]])"
      ]
     },
     "execution_count": 95,
     "metadata": {},
     "output_type": "execute_result"
    }
   ],
   "source": [
    "knn.predict([[55490, 104050.6, 163948, 1]])"
   ]
  },
  {
   "cell_type": "code",
   "execution_count": 99,
   "metadata": {},
   "outputs": [
    {
     "data": {
      "text/plain": [
       "(array([[29200.83389101, 31673.25980193, 32150.07309173, 36475.4905502 ,\n",
       "         44942.70847292]]), array([[34, 22, 27, 14, 19]], dtype=int64))"
      ]
     },
     "execution_count": 99,
     "metadata": {},
     "output_type": "execute_result"
    }
   ],
   "source": [
    "knn.kneighbors(X = [[55490, 104050.6, 163948, 1]], n_neighbors = 5)"
   ]
  },
  {
   "cell_type": "markdown",
   "metadata": {},
   "source": [
    "Holdout"
   ]
  },
  {
   "cell_type": "code",
   "execution_count": 100,
   "metadata": {},
   "outputs": [
    {
     "data": {
      "text/html": [
       "<div>\n",
       "<style scoped>\n",
       "    .dataframe tbody tr th:only-of-type {\n",
       "        vertical-align: middle;\n",
       "    }\n",
       "\n",
       "    .dataframe tbody tr th {\n",
       "        vertical-align: top;\n",
       "    }\n",
       "\n",
       "    .dataframe thead th {\n",
       "        text-align: right;\n",
       "    }\n",
       "</style>\n",
       "<table border=\"1\" class=\"dataframe\">\n",
       "  <thead>\n",
       "    <tr style=\"text-align: right;\">\n",
       "      <th></th>\n",
       "      <th>Treino</th>\n",
       "      <th>Teste</th>\n",
       "    </tr>\n",
       "  </thead>\n",
       "  <tbody>\n",
       "    <tr>\n",
       "      <th>mean_squared_error</th>\n",
       "      <td>273641642.829</td>\n",
       "      <td>143358751.246</td>\n",
       "    </tr>\n",
       "    <tr>\n",
       "      <th>mean_absolute_error</th>\n",
       "      <td>11158.163</td>\n",
       "      <td>10447.029</td>\n",
       "    </tr>\n",
       "    <tr>\n",
       "      <th>r2_score</th>\n",
       "      <td>0.833</td>\n",
       "      <td>0.888</td>\n",
       "    </tr>\n",
       "  </tbody>\n",
       "</table>\n",
       "</div>"
      ],
      "text/plain": [
       "                            Treino          Teste\n",
       "mean_squared_error   273641642.829  143358751.246\n",
       "mean_absolute_error      11158.163      10447.029\n",
       "r2_score                     0.833          0.888"
      ]
     },
     "execution_count": 100,
     "metadata": {},
     "output_type": "execute_result"
    }
   ],
   "source": [
    "reg_results_holdout(knn, X_train, y_train, X_test, y_test)"
   ]
  },
  {
   "cell_type": "markdown",
   "metadata": {},
   "source": [
    "CV"
   ]
  },
  {
   "cell_type": "code",
   "execution_count": 102,
   "metadata": {},
   "outputs": [
    {
     "data": {
      "text/html": [
       "<div>\n",
       "<style scoped>\n",
       "    .dataframe tbody tr th:only-of-type {\n",
       "        vertical-align: middle;\n",
       "    }\n",
       "\n",
       "    .dataframe tbody tr th {\n",
       "        vertical-align: top;\n",
       "    }\n",
       "\n",
       "    .dataframe thead th {\n",
       "        text-align: right;\n",
       "    }\n",
       "</style>\n",
       "<table border=\"1\" class=\"dataframe\">\n",
       "  <thead>\n",
       "    <tr style=\"text-align: right;\">\n",
       "      <th></th>\n",
       "      <th>explained_variance_Treino</th>\n",
       "      <th>explained_variance_Teste</th>\n",
       "      <th>neg_mean_absolute_error_Treino</th>\n",
       "      <th>neg_mean_absolute_error_Teste</th>\n",
       "      <th>neg_mean_squared_error_Treino</th>\n",
       "      <th>neg_mean_squared_error_Teste</th>\n",
       "      <th>neg_median_absolute_error_Treino</th>\n",
       "      <th>neg_median_absolute_error_Teste</th>\n",
       "      <th>r2_Treino</th>\n",
       "      <th>r2_Teste</th>\n",
       "    </tr>\n",
       "  </thead>\n",
       "  <tbody>\n",
       "    <tr>\n",
       "      <th>0</th>\n",
       "      <td>0.810671</td>\n",
       "      <td>0.781383</td>\n",
       "      <td>-13424.275875</td>\n",
       "      <td>-9968.38975</td>\n",
       "      <td>-3.596665e+08</td>\n",
       "      <td>-1.558132e+08</td>\n",
       "      <td>-9672.1190</td>\n",
       "      <td>-11534.948</td>\n",
       "      <td>0.808535</td>\n",
       "      <td>0.768568</td>\n",
       "    </tr>\n",
       "    <tr>\n",
       "      <th>1</th>\n",
       "      <td>0.799130</td>\n",
       "      <td>0.694946</td>\n",
       "      <td>-13499.132687</td>\n",
       "      <td>-12947.04500</td>\n",
       "      <td>-3.681115e+08</td>\n",
       "      <td>-2.627987e+08</td>\n",
       "      <td>-10180.7550</td>\n",
       "      <td>-12978.861</td>\n",
       "      <td>0.794142</td>\n",
       "      <td>0.694302</td>\n",
       "    </tr>\n",
       "    <tr>\n",
       "      <th>2</th>\n",
       "      <td>0.796876</td>\n",
       "      <td>0.753640</td>\n",
       "      <td>-12021.033312</td>\n",
       "      <td>-14450.67675</td>\n",
       "      <td>-3.111330e+08</td>\n",
       "      <td>-5.193477e+08</td>\n",
       "      <td>-8472.4130</td>\n",
       "      <td>-9556.672</td>\n",
       "      <td>0.796655</td>\n",
       "      <td>0.745527</td>\n",
       "    </tr>\n",
       "    <tr>\n",
       "      <th>3</th>\n",
       "      <td>0.815514</td>\n",
       "      <td>0.552854</td>\n",
       "      <td>-12289.699250</td>\n",
       "      <td>-18646.89075</td>\n",
       "      <td>-3.148965e+08</td>\n",
       "      <td>-5.755238e+08</td>\n",
       "      <td>-8902.9550</td>\n",
       "      <td>-16793.138</td>\n",
       "      <td>0.814413</td>\n",
       "      <td>0.478670</td>\n",
       "    </tr>\n",
       "    <tr>\n",
       "      <th>4</th>\n",
       "      <td>0.776433</td>\n",
       "      <td>0.605836</td>\n",
       "      <td>-11123.755562</td>\n",
       "      <td>-27744.09150</td>\n",
       "      <td>-2.875694e+08</td>\n",
       "      <td>-1.247983e+09</td>\n",
       "      <td>-5521.7150</td>\n",
       "      <td>-20316.456</td>\n",
       "      <td>0.773363</td>\n",
       "      <td>0.598697</td>\n",
       "    </tr>\n",
       "    <tr>\n",
       "      <th>media</th>\n",
       "      <td>0.799725</td>\n",
       "      <td>0.677732</td>\n",
       "      <td>-12471.579337</td>\n",
       "      <td>-16751.41875</td>\n",
       "      <td>-3.282754e+08</td>\n",
       "      <td>-5.522932e+08</td>\n",
       "      <td>-8549.9914</td>\n",
       "      <td>-14236.015</td>\n",
       "      <td>0.797422</td>\n",
       "      <td>0.657153</td>\n",
       "    </tr>\n",
       "  </tbody>\n",
       "</table>\n",
       "</div>"
      ],
      "text/plain": [
       "       explained_variance_Treino  explained_variance_Teste  \\\n",
       "0                       0.810671                  0.781383   \n",
       "1                       0.799130                  0.694946   \n",
       "2                       0.796876                  0.753640   \n",
       "3                       0.815514                  0.552854   \n",
       "4                       0.776433                  0.605836   \n",
       "media                   0.799725                  0.677732   \n",
       "\n",
       "       neg_mean_absolute_error_Treino  neg_mean_absolute_error_Teste  \\\n",
       "0                       -13424.275875                    -9968.38975   \n",
       "1                       -13499.132687                   -12947.04500   \n",
       "2                       -12021.033312                   -14450.67675   \n",
       "3                       -12289.699250                   -18646.89075   \n",
       "4                       -11123.755562                   -27744.09150   \n",
       "media                   -12471.579337                   -16751.41875   \n",
       "\n",
       "       neg_mean_squared_error_Treino  neg_mean_squared_error_Teste  \\\n",
       "0                      -3.596665e+08                 -1.558132e+08   \n",
       "1                      -3.681115e+08                 -2.627987e+08   \n",
       "2                      -3.111330e+08                 -5.193477e+08   \n",
       "3                      -3.148965e+08                 -5.755238e+08   \n",
       "4                      -2.875694e+08                 -1.247983e+09   \n",
       "media                  -3.282754e+08                 -5.522932e+08   \n",
       "\n",
       "       neg_median_absolute_error_Treino  neg_median_absolute_error_Teste  \\\n",
       "0                            -9672.1190                       -11534.948   \n",
       "1                           -10180.7550                       -12978.861   \n",
       "2                            -8472.4130                        -9556.672   \n",
       "3                            -8902.9550                       -16793.138   \n",
       "4                            -5521.7150                       -20316.456   \n",
       "media                        -8549.9914                       -14236.015   \n",
       "\n",
       "       r2_Treino  r2_Teste  \n",
       "0       0.808535  0.768568  \n",
       "1       0.794142  0.694302  \n",
       "2       0.796655  0.745527  \n",
       "3       0.814413  0.478670  \n",
       "4       0.773363  0.598697  \n",
       "media   0.797422  0.657153  "
      ]
     },
     "execution_count": 102,
     "metadata": {},
     "output_type": "execute_result"
    }
   ],
   "source": [
    "reg_results_cv(knn, X_train, y_train, cv_kfold)"
   ]
  },
  {
   "cell_type": "markdown",
   "metadata": {},
   "source": [
    "##### Árvore de Regressão"
   ]
  },
  {
   "cell_type": "code",
   "execution_count": 103,
   "metadata": {},
   "outputs": [],
   "source": [
    "from sklearn.tree import DecisionTreeRegressor\n",
    "\n",
    "#mse é a min variancia\n",
    "tree = DecisionTreeRegressor(criterion='mse', splitter='best', max_depth=None, min_samples_split=2, min_samples_leaf=1, \n",
    "                             min_weight_fraction_leaf=0.0, max_features=None, random_state=None, max_leaf_nodes=None, \n",
    "                             min_impurity_decrease=0.0, min_impurity_split=None, presort=False)"
   ]
  },
  {
   "cell_type": "code",
   "execution_count": 104,
   "metadata": {
    "scrolled": true
   },
   "outputs": [
    {
     "data": {
      "text/plain": [
       "DecisionTreeRegressor(criterion='mse', max_depth=None, max_features=None,\n",
       "           max_leaf_nodes=None, min_impurity_decrease=0.0,\n",
       "           min_impurity_split=None, min_samples_leaf=1,\n",
       "           min_samples_split=2, min_weight_fraction_leaf=0.0,\n",
       "           presort=False, random_state=None, splitter='best')"
      ]
     },
     "execution_count": 104,
     "metadata": {},
     "output_type": "execute_result"
    }
   ],
   "source": [
    "tree.fit(X_train, y_train)"
   ]
  },
  {
   "cell_type": "code",
   "execution_count": 121,
   "metadata": {},
   "outputs": [
    {
     "data": {
      "text/plain": [
       "array([96778.92])"
      ]
     },
     "execution_count": 121,
     "metadata": {},
     "output_type": "execute_result"
    }
   ],
   "source": [
    "tree.predict([[55490, 104050.6, 163948, 1]])"
   ]
  },
  {
   "cell_type": "markdown",
   "metadata": {},
   "source": [
    "Importância das features"
   ]
  },
  {
   "cell_type": "code",
   "execution_count": 109,
   "metadata": {
    "scrolled": true
   },
   "outputs": [
    {
     "data": {
      "text/plain": [
       "array([9.45408318e-01, 2.08054690e-03, 5.15938435e-02, 9.17291431e-04])"
      ]
     },
     "execution_count": 109,
     "metadata": {},
     "output_type": "execute_result"
    }
   ],
   "source": [
    "tree.feature_importances_"
   ]
  },
  {
   "cell_type": "markdown",
   "metadata": {},
   "source": [
    "##### SVR"
   ]
  },
  {
   "cell_type": "code",
   "execution_count": 118,
   "metadata": {},
   "outputs": [],
   "source": [
    "from sklearn.svm import SVR\n",
    "\n",
    "svr = SVR(kernel='rbf', degree=3, gamma='auto', coef0=0.0, tol=0.001, C=1.0, epsilon=0.1, shrinking=True, cache_size=200, \n",
    "          verbose=False, max_iter=-1)"
   ]
  },
  {
   "cell_type": "code",
   "execution_count": 120,
   "metadata": {},
   "outputs": [
    {
     "data": {
      "text/plain": [
       "SVR(C=1.0, cache_size=200, coef0=0.0, degree=3, epsilon=0.1, gamma='auto',\n",
       "  kernel='rbf', max_iter=-1, shrinking=True, tol=0.001, verbose=False)"
      ]
     },
     "execution_count": 120,
     "metadata": {},
     "output_type": "execute_result"
    }
   ],
   "source": [
    "svr.fit(X_train, np.ravel(y_train))"
   ]
  },
  {
   "cell_type": "code",
   "execution_count": 122,
   "metadata": {},
   "outputs": [
    {
     "data": {
      "text/plain": [
       "array([107978.19])"
      ]
     },
     "execution_count": 122,
     "metadata": {},
     "output_type": "execute_result"
    }
   ],
   "source": [
    "svr.predict([[55490, 104050.6, 163948, 1]])"
   ]
  },
  {
   "cell_type": "markdown",
   "metadata": {},
   "source": [
    "Holdout"
   ]
  },
  {
   "cell_type": "code",
   "execution_count": 123,
   "metadata": {},
   "outputs": [
    {
     "data": {
      "text/html": [
       "<div>\n",
       "<style scoped>\n",
       "    .dataframe tbody tr th:only-of-type {\n",
       "        vertical-align: middle;\n",
       "    }\n",
       "\n",
       "    .dataframe tbody tr th {\n",
       "        vertical-align: top;\n",
       "    }\n",
       "\n",
       "    .dataframe thead th {\n",
       "        text-align: right;\n",
       "    }\n",
       "</style>\n",
       "<table border=\"1\" class=\"dataframe\">\n",
       "  <thead>\n",
       "    <tr style=\"text-align: right;\">\n",
       "      <th></th>\n",
       "      <th>Treino</th>\n",
       "      <th>Teste</th>\n",
       "    </tr>\n",
       "  </thead>\n",
       "  <tbody>\n",
       "    <tr>\n",
       "      <th>mean_squared_error</th>\n",
       "      <td>1639563313.149</td>\n",
       "      <td>1483359199.816</td>\n",
       "    </tr>\n",
       "    <tr>\n",
       "      <th>mean_absolute_error</th>\n",
       "      <td>31686.880</td>\n",
       "      <td>29316.979</td>\n",
       "    </tr>\n",
       "    <tr>\n",
       "      <th>r2_score</th>\n",
       "      <td>-0.001</td>\n",
       "      <td>-0.160</td>\n",
       "    </tr>\n",
       "  </tbody>\n",
       "</table>\n",
       "</div>"
      ],
      "text/plain": [
       "                             Treino           Teste\n",
       "mean_squared_error   1639563313.149  1483359199.816\n",
       "mean_absolute_error       31686.880       29316.979\n",
       "r2_score                     -0.001          -0.160"
      ]
     },
     "execution_count": 123,
     "metadata": {},
     "output_type": "execute_result"
    }
   ],
   "source": [
    "reg_results_holdout(svr, X_train, y_train, X_test, y_test)"
   ]
  },
  {
   "cell_type": "markdown",
   "metadata": {},
   "source": [
    "CV"
   ]
  },
  {
   "cell_type": "code",
   "execution_count": 124,
   "metadata": {},
   "outputs": [
    {
     "data": {
      "text/html": [
       "<div>\n",
       "<style scoped>\n",
       "    .dataframe tbody tr th:only-of-type {\n",
       "        vertical-align: middle;\n",
       "    }\n",
       "\n",
       "    .dataframe tbody tr th {\n",
       "        vertical-align: top;\n",
       "    }\n",
       "\n",
       "    .dataframe thead th {\n",
       "        text-align: right;\n",
       "    }\n",
       "</style>\n",
       "<table border=\"1\" class=\"dataframe\">\n",
       "  <thead>\n",
       "    <tr style=\"text-align: right;\">\n",
       "      <th></th>\n",
       "      <th>explained_variance_Treino</th>\n",
       "      <th>explained_variance_Teste</th>\n",
       "      <th>neg_mean_absolute_error_Treino</th>\n",
       "      <th>neg_mean_absolute_error_Teste</th>\n",
       "      <th>neg_mean_squared_error_Treino</th>\n",
       "      <th>neg_mean_squared_error_Teste</th>\n",
       "      <th>neg_median_absolute_error_Treino</th>\n",
       "      <th>neg_median_absolute_error_Teste</th>\n",
       "      <th>r2_Treino</th>\n",
       "      <th>r2_Teste</th>\n",
       "    </tr>\n",
       "  </thead>\n",
       "  <tbody>\n",
       "    <tr>\n",
       "      <th>0</th>\n",
       "      <td>0.000037</td>\n",
       "      <td>0.0</td>\n",
       "      <td>-34324.619063</td>\n",
       "      <td>-21159.66625</td>\n",
       "      <td>-1.879197e+09</td>\n",
       "      <td>-6.735195e+08</td>\n",
       "      <td>-29019.180</td>\n",
       "      <td>-13893.695</td>\n",
       "      <td>-0.000372</td>\n",
       "      <td>-0.000392</td>\n",
       "    </tr>\n",
       "    <tr>\n",
       "      <th>1</th>\n",
       "      <td>0.000038</td>\n",
       "      <td>0.0</td>\n",
       "      <td>-33766.783750</td>\n",
       "      <td>-23391.00750</td>\n",
       "      <td>-1.802261e+09</td>\n",
       "      <td>-9.812676e+08</td>\n",
       "      <td>-29019.180</td>\n",
       "      <td>-14782.545</td>\n",
       "      <td>-0.007873</td>\n",
       "      <td>-0.141451</td>\n",
       "    </tr>\n",
       "    <tr>\n",
       "      <th>2</th>\n",
       "      <td>0.000040</td>\n",
       "      <td>0.0</td>\n",
       "      <td>-30271.475312</td>\n",
       "      <td>-37414.88500</td>\n",
       "      <td>-1.541901e+09</td>\n",
       "      <td>-2.046041e+09</td>\n",
       "      <td>-21311.195</td>\n",
       "      <td>-33143.345</td>\n",
       "      <td>-0.007729</td>\n",
       "      <td>-0.002530</td>\n",
       "    </tr>\n",
       "    <tr>\n",
       "      <th>3</th>\n",
       "      <td>0.000039</td>\n",
       "      <td>0.0</td>\n",
       "      <td>-33009.910625</td>\n",
       "      <td>-27995.68125</td>\n",
       "      <td>-1.701653e+09</td>\n",
       "      <td>-1.565148e+09</td>\n",
       "      <td>-27889.755</td>\n",
       "      <td>-13040.425</td>\n",
       "      <td>-0.002886</td>\n",
       "      <td>-0.417768</td>\n",
       "    </tr>\n",
       "    <tr>\n",
       "      <th>4</th>\n",
       "      <td>0.000042</td>\n",
       "      <td>0.0</td>\n",
       "      <td>-26813.722500</td>\n",
       "      <td>-51180.50875</td>\n",
       "      <td>-1.270110e+09</td>\n",
       "      <td>-3.117480e+09</td>\n",
       "      <td>-18520.895</td>\n",
       "      <td>-50632.650</td>\n",
       "      <td>-0.000989</td>\n",
       "      <td>-0.002461</td>\n",
       "    </tr>\n",
       "    <tr>\n",
       "      <th>media</th>\n",
       "      <td>0.000039</td>\n",
       "      <td>0.0</td>\n",
       "      <td>-31637.302250</td>\n",
       "      <td>-32228.34975</td>\n",
       "      <td>-1.639025e+09</td>\n",
       "      <td>-1.676691e+09</td>\n",
       "      <td>-25152.041</td>\n",
       "      <td>-25098.532</td>\n",
       "      <td>-0.003970</td>\n",
       "      <td>-0.112920</td>\n",
       "    </tr>\n",
       "  </tbody>\n",
       "</table>\n",
       "</div>"
      ],
      "text/plain": [
       "       explained_variance_Treino  explained_variance_Teste  \\\n",
       "0                       0.000037                       0.0   \n",
       "1                       0.000038                       0.0   \n",
       "2                       0.000040                       0.0   \n",
       "3                       0.000039                       0.0   \n",
       "4                       0.000042                       0.0   \n",
       "media                   0.000039                       0.0   \n",
       "\n",
       "       neg_mean_absolute_error_Treino  neg_mean_absolute_error_Teste  \\\n",
       "0                       -34324.619063                   -21159.66625   \n",
       "1                       -33766.783750                   -23391.00750   \n",
       "2                       -30271.475312                   -37414.88500   \n",
       "3                       -33009.910625                   -27995.68125   \n",
       "4                       -26813.722500                   -51180.50875   \n",
       "media                   -31637.302250                   -32228.34975   \n",
       "\n",
       "       neg_mean_squared_error_Treino  neg_mean_squared_error_Teste  \\\n",
       "0                      -1.879197e+09                 -6.735195e+08   \n",
       "1                      -1.802261e+09                 -9.812676e+08   \n",
       "2                      -1.541901e+09                 -2.046041e+09   \n",
       "3                      -1.701653e+09                 -1.565148e+09   \n",
       "4                      -1.270110e+09                 -3.117480e+09   \n",
       "media                  -1.639025e+09                 -1.676691e+09   \n",
       "\n",
       "       neg_median_absolute_error_Treino  neg_median_absolute_error_Teste  \\\n",
       "0                            -29019.180                       -13893.695   \n",
       "1                            -29019.180                       -14782.545   \n",
       "2                            -21311.195                       -33143.345   \n",
       "3                            -27889.755                       -13040.425   \n",
       "4                            -18520.895                       -50632.650   \n",
       "media                        -25152.041                       -25098.532   \n",
       "\n",
       "       r2_Treino  r2_Teste  \n",
       "0      -0.000372 -0.000392  \n",
       "1      -0.007873 -0.141451  \n",
       "2      -0.007729 -0.002530  \n",
       "3      -0.002886 -0.417768  \n",
       "4      -0.000989 -0.002461  \n",
       "media  -0.003970 -0.112920  "
      ]
     },
     "execution_count": 124,
     "metadata": {},
     "output_type": "execute_result"
    }
   ],
   "source": [
    "reg_results_cv(svr, X_train, y_train, cv_kfold)"
   ]
  },
  {
   "cell_type": "markdown",
   "metadata": {},
   "source": [
    "`Nota`: a métrica $R^2$ só é negativa quando o modelo escolhido não segue o formato dos dados, fitando pior que uma linha horizontal\n",
    "\n",
    "ex:\n",
    "\n",
    "<img src=\"negr2.png\" width=\"200\">"
   ]
  },
  {
   "cell_type": "markdown",
   "metadata": {},
   "source": [
    "## Tópico extra: PCA (Principal Component Analysis)"
   ]
  },
  {
   "cell_type": "markdown",
   "metadata": {},
   "source": [
    "`Nota`: Funciona só com variável numérica\n",
    "\n",
    "`Nota2`: PCA é muito sensível a escala. Normalize!"
   ]
  },
  {
   "cell_type": "code",
   "execution_count": 180,
   "metadata": {},
   "outputs": [],
   "source": [
    "from sklearn.decomposition import PCA"
   ]
  },
  {
   "cell_type": "code",
   "execution_count": 232,
   "metadata": {},
   "outputs": [],
   "source": [
    "pca = PCA(n_components=2, copy=True, whiten=False, svd_solver='auto', tol=0.0, iterated_power='auto', random_state=None)"
   ]
  },
  {
   "cell_type": "code",
   "execution_count": 233,
   "metadata": {},
   "outputs": [],
   "source": [
    "#normalização\n",
    "X_train_norm = X_train"
   ]
  },
  {
   "cell_type": "code",
   "execution_count": 234,
   "metadata": {},
   "outputs": [],
   "source": [
    "principal_components = pca.fit_transform(X_train_norm)"
   ]
  },
  {
   "cell_type": "code",
   "execution_count": 235,
   "metadata": {
    "scrolled": true
   },
   "outputs": [],
   "source": [
    "X_train_pca = pd.DataFrame(data = principal_components, columns = ['pc1', 'pc2'])"
   ]
  },
  {
   "cell_type": "code",
   "execution_count": 236,
   "metadata": {},
   "outputs": [
    {
     "data": {
      "text/html": [
       "<div>\n",
       "<style scoped>\n",
       "    .dataframe tbody tr th:only-of-type {\n",
       "        vertical-align: middle;\n",
       "    }\n",
       "\n",
       "    .dataframe tbody tr th {\n",
       "        vertical-align: top;\n",
       "    }\n",
       "\n",
       "    .dataframe thead th {\n",
       "        text-align: right;\n",
       "    }\n",
       "</style>\n",
       "<table border=\"1\" class=\"dataframe\">\n",
       "  <thead>\n",
       "    <tr style=\"text-align: right;\">\n",
       "      <th></th>\n",
       "      <th>pc1</th>\n",
       "      <th>pc2</th>\n",
       "    </tr>\n",
       "  </thead>\n",
       "  <tbody>\n",
       "    <tr>\n",
       "      <th>0</th>\n",
       "      <td>-0.355420</td>\n",
       "      <td>0.248465</td>\n",
       "    </tr>\n",
       "    <tr>\n",
       "      <th>1</th>\n",
       "      <td>-0.422932</td>\n",
       "      <td>1.589381</td>\n",
       "    </tr>\n",
       "    <tr>\n",
       "      <th>2</th>\n",
       "      <td>-0.091693</td>\n",
       "      <td>-0.036364</td>\n",
       "    </tr>\n",
       "    <tr>\n",
       "      <th>3</th>\n",
       "      <td>-0.289846</td>\n",
       "      <td>-1.329516</td>\n",
       "    </tr>\n",
       "    <tr>\n",
       "      <th>4</th>\n",
       "      <td>0.717452</td>\n",
       "      <td>-0.030988</td>\n",
       "    </tr>\n",
       "  </tbody>\n",
       "</table>\n",
       "</div>"
      ],
      "text/plain": [
       "        pc1       pc2\n",
       "0 -0.355420  0.248465\n",
       "1 -0.422932  1.589381\n",
       "2 -0.091693 -0.036364\n",
       "3 -0.289846 -1.329516\n",
       "4  0.717452 -0.030988"
      ]
     },
     "execution_count": 236,
     "metadata": {},
     "output_type": "execute_result"
    }
   ],
   "source": [
    "X_train_pca.head()"
   ]
  },
  {
   "cell_type": "code",
   "execution_count": 237,
   "metadata": {},
   "outputs": [
    {
     "data": {
      "text/plain": [
       "array([0.47502984, 0.26191411])"
      ]
     },
     "execution_count": 237,
     "metadata": {},
     "output_type": "execute_result"
    }
   ],
   "source": [
    "#porcentagem de explicabilidade\n",
    "pca.explained_variance_ratio_"
   ]
  },
  {
   "cell_type": "markdown",
   "metadata": {},
   "source": [
    "Visualização"
   ]
  },
  {
   "cell_type": "code",
   "execution_count": 187,
   "metadata": {},
   "outputs": [],
   "source": [
    "import numpy as np\n",
    "import seaborn as sns\n",
    "import matplotlib.pyplot as plt"
   ]
  },
  {
   "cell_type": "code",
   "execution_count": 239,
   "metadata": {},
   "outputs": [],
   "source": [
    "sns.set_context(\"notebook\", font_scale=1.1)\n",
    "sns.set_style(\"ticks\")"
   ]
  },
  {
   "cell_type": "code",
   "execution_count": 241,
   "metadata": {},
   "outputs": [
    {
     "data": {
      "text/plain": [
       "<seaborn.axisgrid.FacetGrid at 0x26922cc27f0>"
      ]
     },
     "execution_count": 241,
     "metadata": {},
     "output_type": "execute_result"
    },
    {
     "data": {
      "image/png": "[encoded data removed]",
      "text/plain": [
       "<Figure size 360x360 with 1 Axes>"
      ]
     },
     "metadata": {},
     "output_type": "display_data"
    }
   ],
   "source": [
    "sns.lmplot('pc1', 'pc2', X_train_pca, fit_reg=False, scatter_kws={\"marker\": \"D\",\"s\": 100})"
   ]
  }
 ],
 "metadata": {
  "kernelspec": {
   "display_name": "Python 3",
   "language": "python",
   "name": "python3"
  },
  "language_info": {
   "codemirror_mode": {
    "name": "ipython",
    "version": 3
   },
   "file_extension": ".py",
   "mimetype": "text/x-python",
   "name": "python",
   "nbconvert_exporter": "python",
   "pygments_lexer": "ipython3",
   "version": "3.6.5"
  }
 },
 "nbformat": 4,
 "nbformat_minor": 2
}
