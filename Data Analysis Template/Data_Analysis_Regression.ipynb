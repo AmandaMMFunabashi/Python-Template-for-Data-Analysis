{
 "cells": [
  {
   "cell_type": "code",
   "execution_count": 1,
   "metadata": {},
   "outputs": [],
   "source": [
    "import pandas as pd\n",
    "import numpy as np\n",
    "import matplotlib.pyplot as plt\n",
    "\n",
    "from sklearn.model_selection import train_test_split, cross_val_score, LeaveOneOut\n",
    "\n",
    "from sklearn.cluster import KMeans"
   ]
  },
  {
   "cell_type": "markdown",
   "metadata": {},
   "source": [
    "## Template Data Science -- Hands On Machine Learning"
   ]
  },
  {
   "cell_type": "markdown",
   "metadata": {},
   "source": [
    "### Parte 2 - Regressão"
   ]
  },
  {
   "cell_type": "markdown",
   "metadata": {},
   "source": [
    "### Dados"
   ]
  },
  {
   "cell_type": "code",
   "execution_count": 3,
   "metadata": {},
   "outputs": [],
   "source": [
    "def data_info(data):        \n",
    "    info = pd.DataFrame()\n",
    "    info['var'] = data.columns\n",
    "    info['# missing'] = list(data.isnull().sum())\n",
    "    info['% missing'] = info['# missing'] / data.shape[0]\n",
    "    info['types'] = list(data.dtypes)\n",
    "    info['unique values'] = list(len(data[var].unique()) for var in data.columns)\n",
    "    \n",
    "    return info"
   ]
  },
  {
   "cell_type": "markdown",
   "metadata": {},
   "source": [
    "#### Regressão"
   ]
  },
  {
   "cell_type": "code",
   "execution_count": 4,
   "metadata": {},
   "outputs": [],
   "source": [
    "dataset = pd.read_csv('data/50_Startups.csv')"
   ]
  },
  {
   "cell_type": "code",
   "execution_count": 5,
   "metadata": {},
   "outputs": [
    {
     "data": {
      "text/html": [
       "<div>\n",
       "<style scoped>\n",
       "    .dataframe tbody tr th:only-of-type {\n",
       "        vertical-align: middle;\n",
       "    }\n",
       "\n",
       "    .dataframe tbody tr th {\n",
       "        vertical-align: top;\n",
       "    }\n",
       "\n",
       "    .dataframe thead th {\n",
       "        text-align: right;\n",
       "    }\n",
       "</style>\n",
       "<table border=\"1\" class=\"dataframe\">\n",
       "  <thead>\n",
       "    <tr style=\"text-align: right;\">\n",
       "      <th></th>\n",
       "      <th>R&amp;D Spend</th>\n",
       "      <th>Administration</th>\n",
       "      <th>Marketing Spend</th>\n",
       "      <th>State</th>\n",
       "      <th>Profit</th>\n",
       "    </tr>\n",
       "  </thead>\n",
       "  <tbody>\n",
       "    <tr>\n",
       "      <th>0</th>\n",
       "      <td>165349.20</td>\n",
       "      <td>136897.80</td>\n",
       "      <td>471784.10</td>\n",
       "      <td>New York</td>\n",
       "      <td>192261.83</td>\n",
       "    </tr>\n",
       "    <tr>\n",
       "      <th>1</th>\n",
       "      <td>162597.70</td>\n",
       "      <td>151377.59</td>\n",
       "      <td>443898.53</td>\n",
       "      <td>California</td>\n",
       "      <td>191792.06</td>\n",
       "    </tr>\n",
       "    <tr>\n",
       "      <th>2</th>\n",
       "      <td>153441.51</td>\n",
       "      <td>101145.55</td>\n",
       "      <td>407934.54</td>\n",
       "      <td>Florida</td>\n",
       "      <td>191050.39</td>\n",
       "    </tr>\n",
       "    <tr>\n",
       "      <th>3</th>\n",
       "      <td>144372.41</td>\n",
       "      <td>118671.85</td>\n",
       "      <td>383199.62</td>\n",
       "      <td>New York</td>\n",
       "      <td>182901.99</td>\n",
       "    </tr>\n",
       "    <tr>\n",
       "      <th>4</th>\n",
       "      <td>142107.34</td>\n",
       "      <td>91391.77</td>\n",
       "      <td>366168.42</td>\n",
       "      <td>Florida</td>\n",
       "      <td>166187.94</td>\n",
       "    </tr>\n",
       "  </tbody>\n",
       "</table>\n",
       "</div>"
      ],
      "text/plain": [
       "   R&D Spend  Administration  Marketing Spend       State     Profit\n",
       "0  165349.20       136897.80        471784.10    New York  192261.83\n",
       "1  162597.70       151377.59        443898.53  California  191792.06\n",
       "2  153441.51       101145.55        407934.54     Florida  191050.39\n",
       "3  144372.41       118671.85        383199.62    New York  182901.99\n",
       "4  142107.34        91391.77        366168.42     Florida  166187.94"
      ]
     },
     "execution_count": 5,
     "metadata": {},
     "output_type": "execute_result"
    }
   ],
   "source": [
    "dataset.head()"
   ]
  },
  {
   "cell_type": "code",
   "execution_count": 6,
   "metadata": {},
   "outputs": [
    {
     "data": {
      "text/html": [
       "<div>\n",
       "<style scoped>\n",
       "    .dataframe tbody tr th:only-of-type {\n",
       "        vertical-align: middle;\n",
       "    }\n",
       "\n",
       "    .dataframe tbody tr th {\n",
       "        vertical-align: top;\n",
       "    }\n",
       "\n",
       "    .dataframe thead th {\n",
       "        text-align: right;\n",
       "    }\n",
       "</style>\n",
       "<table border=\"1\" class=\"dataframe\">\n",
       "  <thead>\n",
       "    <tr style=\"text-align: right;\">\n",
       "      <th></th>\n",
       "      <th>var</th>\n",
       "      <th># missing</th>\n",
       "      <th>% missing</th>\n",
       "      <th>types</th>\n",
       "      <th>unique values</th>\n",
       "    </tr>\n",
       "  </thead>\n",
       "  <tbody>\n",
       "    <tr>\n",
       "      <th>0</th>\n",
       "      <td>R&amp;D Spend</td>\n",
       "      <td>0</td>\n",
       "      <td>0.0</td>\n",
       "      <td>float64</td>\n",
       "      <td>49</td>\n",
       "    </tr>\n",
       "    <tr>\n",
       "      <th>1</th>\n",
       "      <td>Administration</td>\n",
       "      <td>0</td>\n",
       "      <td>0.0</td>\n",
       "      <td>float64</td>\n",
       "      <td>50</td>\n",
       "    </tr>\n",
       "    <tr>\n",
       "      <th>2</th>\n",
       "      <td>Marketing Spend</td>\n",
       "      <td>0</td>\n",
       "      <td>0.0</td>\n",
       "      <td>float64</td>\n",
       "      <td>48</td>\n",
       "    </tr>\n",
       "    <tr>\n",
       "      <th>3</th>\n",
       "      <td>State</td>\n",
       "      <td>0</td>\n",
       "      <td>0.0</td>\n",
       "      <td>object</td>\n",
       "      <td>3</td>\n",
       "    </tr>\n",
       "    <tr>\n",
       "      <th>4</th>\n",
       "      <td>Profit</td>\n",
       "      <td>0</td>\n",
       "      <td>0.0</td>\n",
       "      <td>float64</td>\n",
       "      <td>50</td>\n",
       "    </tr>\n",
       "  </tbody>\n",
       "</table>\n",
       "</div>"
      ],
      "text/plain": [
       "               var  # missing  % missing    types  unique values\n",
       "0        R&D Spend          0        0.0  float64             49\n",
       "1   Administration          0        0.0  float64             50\n",
       "2  Marketing Spend          0        0.0  float64             48\n",
       "3            State          0        0.0   object              3\n",
       "4           Profit          0        0.0  float64             50"
      ]
     },
     "execution_count": 6,
     "metadata": {},
     "output_type": "execute_result"
    }
   ],
   "source": [
    "data_info(dataset)"
   ]
  },
  {
   "cell_type": "markdown",
   "metadata": {},
   "source": [
    "### Preprocessing"
   ]
  },
  {
   "cell_type": "code",
   "execution_count": 9,
   "metadata": {},
   "outputs": [],
   "source": [
    "X = pd.DataFrame(dataset.iloc[:, :4])\n",
    "y = pd.DataFrame(dataset.iloc[:, -1])"
   ]
  },
  {
   "cell_type": "code",
   "execution_count": 10,
   "metadata": {},
   "outputs": [
    {
     "data": {
      "text/html": [
       "<div>\n",
       "<style scoped>\n",
       "    .dataframe tbody tr th:only-of-type {\n",
       "        vertical-align: middle;\n",
       "    }\n",
       "\n",
       "    .dataframe tbody tr th {\n",
       "        vertical-align: top;\n",
       "    }\n",
       "\n",
       "    .dataframe thead th {\n",
       "        text-align: right;\n",
       "    }\n",
       "</style>\n",
       "<table border=\"1\" class=\"dataframe\">\n",
       "  <thead>\n",
       "    <tr style=\"text-align: right;\">\n",
       "      <th></th>\n",
       "      <th>R&amp;D Spend</th>\n",
       "      <th>Administration</th>\n",
       "      <th>Marketing Spend</th>\n",
       "      <th>State</th>\n",
       "    </tr>\n",
       "  </thead>\n",
       "  <tbody>\n",
       "    <tr>\n",
       "      <th>0</th>\n",
       "      <td>165349.20</td>\n",
       "      <td>136897.80</td>\n",
       "      <td>471784.10</td>\n",
       "      <td>New York</td>\n",
       "    </tr>\n",
       "    <tr>\n",
       "      <th>1</th>\n",
       "      <td>162597.70</td>\n",
       "      <td>151377.59</td>\n",
       "      <td>443898.53</td>\n",
       "      <td>California</td>\n",
       "    </tr>\n",
       "    <tr>\n",
       "      <th>2</th>\n",
       "      <td>153441.51</td>\n",
       "      <td>101145.55</td>\n",
       "      <td>407934.54</td>\n",
       "      <td>Florida</td>\n",
       "    </tr>\n",
       "    <tr>\n",
       "      <th>3</th>\n",
       "      <td>144372.41</td>\n",
       "      <td>118671.85</td>\n",
       "      <td>383199.62</td>\n",
       "      <td>New York</td>\n",
       "    </tr>\n",
       "    <tr>\n",
       "      <th>4</th>\n",
       "      <td>142107.34</td>\n",
       "      <td>91391.77</td>\n",
       "      <td>366168.42</td>\n",
       "      <td>Florida</td>\n",
       "    </tr>\n",
       "  </tbody>\n",
       "</table>\n",
       "</div>"
      ],
      "text/plain": [
       "   R&D Spend  Administration  Marketing Spend       State\n",
       "0  165349.20       136897.80        471784.10    New York\n",
       "1  162597.70       151377.59        443898.53  California\n",
       "2  153441.51       101145.55        407934.54     Florida\n",
       "3  144372.41       118671.85        383199.62    New York\n",
       "4  142107.34        91391.77        366168.42     Florida"
      ]
     },
     "execution_count": 10,
     "metadata": {},
     "output_type": "execute_result"
    }
   ],
   "source": [
    "X.head()"
   ]
  },
  {
   "cell_type": "markdown",
   "metadata": {},
   "source": [
    "#### Lidando com variáveis categóricas"
   ]
  },
  {
   "cell_type": "markdown",
   "metadata": {},
   "source": [
    "Label Encoder: dá a cada elemento da variável categórica um número\n",
    "\n",
    "    Uso: categóricas ordinais"
   ]
  },
  {
   "cell_type": "code",
   "execution_count": 11,
   "metadata": {},
   "outputs": [],
   "source": [
    "from sklearn.preprocessing import LabelEncoder\n",
    "\n",
    "le = LabelEncoder()\n",
    "X_le = X.copy()\n",
    "for var in X.columns:\n",
    "    if (X[var].dtype == object):\n",
    "        X_le[var] = le.fit_transform(X[var])"
   ]
  },
  {
   "cell_type": "markdown",
   "metadata": {},
   "source": [
    "One hot Encoder"
   ]
  },
  {
   "cell_type": "code",
   "execution_count": 12,
   "metadata": {},
   "outputs": [],
   "source": [
    "from sklearn.preprocessing import OneHotEncoder, LabelEncoder\n",
    "\n",
    "le = LabelEncoder()\n",
    "X_le = X.copy()\n",
    "X_ohe = X.copy()\n",
    "for var in X.columns:\n",
    "    if (X[var].dtype == object):\n",
    "        ohe = OneHotEncoder(categorical_features = [0])\n",
    "        X_le[var] = le.fit_transform(X[var])\n",
    "        X_ohe = ohe.fit_transform(X_le).toarray()"
   ]
  },
  {
   "cell_type": "code",
   "execution_count": 13,
   "metadata": {},
   "outputs": [],
   "source": [
    "X_ohe = pd.DataFrame(X_ohe)"
   ]
  },
  {
   "cell_type": "markdown",
   "metadata": {},
   "source": [
    "#### Padronização e Normalização"
   ]
  },
  {
   "cell_type": "code",
   "execution_count": 14,
   "metadata": {},
   "outputs": [],
   "source": [
    "X_encoded = X_le"
   ]
  },
  {
   "cell_type": "markdown",
   "metadata": {},
   "source": [
    "Normalização StandardScaler: remove a média de cada atributo e divide os atributos não-constantes pelo desvio padrão. Ex de uso: se um atributo cuja variância é MUITO maior do que do que dos outros atributos, este atributo pode dominar a função objetivo e impossibilitar o estimador de aprender com as outras features"
   ]
  },
  {
   "cell_type": "code",
   "execution_count": 15,
   "metadata": {},
   "outputs": [
    {
     "data": {
      "text/plain": [
       "StandardScaler(copy=True, with_mean=True, with_std=True)"
      ]
     },
     "execution_count": 15,
     "metadata": {},
     "output_type": "execute_result"
    }
   ],
   "source": [
    "from sklearn.preprocessing import StandardScaler\n",
    "\n",
    "std_scaler = StandardScaler()\n",
    "std_scaler.fit(X_encoded)"
   ]
  },
  {
   "cell_type": "code",
   "execution_count": 16,
   "metadata": {},
   "outputs": [],
   "source": [
    "X_stds = pd.DataFrame(std_scaler.transform(X_encoded), columns = X_encoded.columns)"
   ]
  },
  {
   "cell_type": "markdown",
   "metadata": {},
   "source": [
    "Normalização para intervalo: escalar os atributos para que seus valores fiquem dentro de um intervalo, dado o valor mínimo e o máximo"
   ]
  },
  {
   "cell_type": "code",
   "execution_count": 17,
   "metadata": {},
   "outputs": [
    {
     "data": {
      "text/plain": [
       "MinMaxScaler(copy=True, feature_range=(0, 1))"
      ]
     },
     "execution_count": 17,
     "metadata": {},
     "output_type": "execute_result"
    }
   ],
   "source": [
    "from sklearn.preprocessing import MinMaxScaler\n",
    "\n",
    "minmaxscaler = MinMaxScaler()\n",
    "minmaxscaler.fit(X_encoded)"
   ]
  },
  {
   "cell_type": "code",
   "execution_count": 18,
   "metadata": {},
   "outputs": [],
   "source": [
    "X_minmaxs = pd.DataFrame(minmaxscaler.transform(X_encoded), columns = X_encoded.columns)"
   ]
  },
  {
   "cell_type": "markdown",
   "metadata": {},
   "source": [
    "Normalização Robust Scaler: Quando o dataset contém muitos outliers, usar média e variância não trará resultados bons. Usa uma estimativa mais robusta para encontrar o centro dos dados. Remove a mediana e escala os dados de acordo com os intervalos de quartis(intervalo interquartil (IQR): intervalo entre o primeiro quartil (25%) e o terceiro quartil (75%))"
   ]
  },
  {
   "cell_type": "code",
   "execution_count": 19,
   "metadata": {},
   "outputs": [
    {
     "data": {
      "text/plain": [
       "RobustScaler(copy=True, quantile_range=(25.0, 75.0), with_centering=True,\n",
       "       with_scaling=True)"
      ]
     },
     "execution_count": 19,
     "metadata": {},
     "output_type": "execute_result"
    }
   ],
   "source": [
    "from sklearn.preprocessing import RobustScaler\n",
    "\n",
    "robscaler = RobustScaler()\n",
    "robscaler.fit(X_encoded)"
   ]
  },
  {
   "cell_type": "code",
   "execution_count": 20,
   "metadata": {},
   "outputs": [],
   "source": [
    "X_robusts = pd.DataFrame(robscaler.transform(X_encoded), columns = X_encoded.columns)"
   ]
  },
  {
   "cell_type": "markdown",
   "metadata": {},
   "source": [
    "Normalização por sample (linha): cada registro/sample com pelo menos um componente não zero é reescalado independentemente dos outros samples\n",
    "\n",
    "-l1-norm: divide cada elemento de cada sample pela soma dos módulos de cada elemento do tal sample\n",
    "\n",
    "-l2-norm: divide cada elemento de cada sample pela raíz quadrada da soma dos quadrados de cada elemento de tal sample"
   ]
  },
  {
   "cell_type": "code",
   "execution_count": 21,
   "metadata": {},
   "outputs": [
    {
     "data": {
      "text/plain": [
       "Normalizer(copy=True, norm='l1')"
      ]
     },
     "execution_count": 21,
     "metadata": {},
     "output_type": "execute_result"
    }
   ],
   "source": [
    "from sklearn.preprocessing import Normalizer\n",
    "\n",
    "nscaler = Normalizer(norm = 'l1')\n",
    "nscaler.fit(X_encoded)"
   ]
  },
  {
   "cell_type": "code",
   "execution_count": 22,
   "metadata": {},
   "outputs": [],
   "source": [
    "X_norm = pd.DataFrame(nscaler.transform(X_encoded), columns = X_encoded.columns)"
   ]
  },
  {
   "cell_type": "markdown",
   "metadata": {},
   "source": [
    "#### Train Test Split"
   ]
  },
  {
   "cell_type": "code",
   "execution_count": 29,
   "metadata": {},
   "outputs": [],
   "source": [
    "#escolha do X\n",
    "#X_preped = X_stds\n",
    "X_preped = X_le"
   ]
  },
  {
   "cell_type": "code",
   "execution_count": 30,
   "metadata": {},
   "outputs": [],
   "source": [
    "X_train, X_test, y_train, y_test = train_test_split(X_preped, y, test_size = 0.2, random_state = 0)"
   ]
  },
  {
   "cell_type": "code",
   "execution_count": 31,
   "metadata": {},
   "outputs": [],
   "source": [
    "from sklearn.model_selection import StratifiedKFold, KFold, LeaveOneOut\n",
    "\n",
    "cv_kfold = KFold(5, shuffle = False, random_state=12) #### se shuffle = False os k folds são sequenciais\n",
    "cv_leave_one_out = LeaveOneOut()"
   ]
  },
  {
   "cell_type": "markdown",
   "metadata": {},
   "source": [
    "### Modelagem -- Regressão"
   ]
  },
  {
   "cell_type": "markdown",
   "metadata": {},
   "source": [
    "O modelo possui uma função com a cara $$y_{pred} = \\beta_{0} + \\beta_{1}*x$$\n",
    "\n",
    "e devemos encontrar os coeficientes que minimizam a função de custo: $$Error = \\sum_{i = 1}^{n}(y_i - y_{pred_{i}})$$\n",
    "\n"
   ]
  },
  {
   "cell_type": "code",
   "execution_count": 53,
   "metadata": {},
   "outputs": [],
   "source": [
    "from sklearn.metrics import mean_absolute_error, mean_squared_error, r2_score\n",
    "from sklearn.model_selection import cross_validate\n",
    "\n",
    "def reg_results_holdout(clf, X_train, y_train, X_test, y_test):\n",
    "    \n",
    "    classifier = clf.fit(X_train, np.ravel(y_train))\n",
    "    metrics = [mean_squared_error, mean_absolute_error, r2_score ]\n",
    "    \n",
    "    pred_train = classifier.predict(X_train)\n",
    "    pred_test = classifier.predict(X_test)\n",
    "\n",
    "    results = pd.DataFrame()\n",
    "    \n",
    "    for m in metrics:\n",
    "        result_train = m(y_train, pred_train)\n",
    "        result_test = m(y_test, pred_test)\n",
    "        \n",
    "        dict_res = {'Treino': [\"{:.3f}\".format(result_train)], 'Teste': [\"{:.3f}\".format(result_test)]}\n",
    "        res_aux = pd.DataFrame(dict_res, index = [str(m.__name__)])\n",
    "        \n",
    "        results = pd.concat([results, res_aux], axis = 0)\n",
    "    \n",
    "    return results\n",
    "\n",
    "def reg_results_cv(clf, X_train, y_train, kcv):\n",
    "    \n",
    "    classifier = clf.fit(X_train, np.ravel(y_train))\n",
    "    metrics = ['explained_variance', 'neg_mean_absolute_error', 'neg_mean_squared_error', 'neg_median_absolute_error', 'r2' ]\n",
    "    \n",
    "    results = pd.DataFrame()\n",
    "    for m in metrics:\n",
    "        cv_results = cross_validate(clf, X_train, np.ravel(y_train), scoring = m, cv = kcv, return_train_score = True)\n",
    "        dict_res = {'' + m + '_Treino': cv_results['train_score'], \n",
    "                    '' + m + '_Teste': cv_results['test_score']}\n",
    "        res_aux = pd.DataFrame(dict_res)\n",
    "        results = pd.concat([results, res_aux], axis = 1)\n",
    "        \n",
    "    results_mean = np.transpose(pd.DataFrame(results.mean(), columns=['media']))\n",
    "    results = pd.concat([results, results_mean], axis = 0)\n",
    "    return results\n",
    "\n",
    "\n",
    "def reg_grid_search(clf, X_train, y_train, params, score, cv):    \n",
    "    grid = GridSearchCV(clf, params, scoring = score, cv = cv, return_train_score=True)\n",
    "    grid_fitted = grid.fit(X_train, np.ravel(y_train))\n",
    "    print (\"Best score: %.4f\" % grid_fitted.best_score_)\n",
    "    print (\"Best parameters: %s\" % grid_fitted.best_params_)\n",
    "    return grid_fitted, grid_fitted.best_estimator_, grid_fitted.cv_results_"
   ]
  },
  {
   "cell_type": "markdown",
   "metadata": {},
   "source": [
    "#### Regressão Linear Simples -- Ordinary Least Squares (OLS)"
   ]
  },
  {
   "cell_type": "code",
   "execution_count": 33,
   "metadata": {},
   "outputs": [],
   "source": [
    "from sklearn.linear_model import LinearRegression\n",
    "\n",
    "lin_reg = LinearRegression(fit_intercept=True, normalize=False, copy_X=True, n_jobs=1)"
   ]
  },
  {
   "cell_type": "code",
   "execution_count": 35,
   "metadata": {},
   "outputs": [
    {
     "data": {
      "text/html": [
       "<div>\n",
       "<style scoped>\n",
       "    .dataframe tbody tr th:only-of-type {\n",
       "        vertical-align: middle;\n",
       "    }\n",
       "\n",
       "    .dataframe tbody tr th {\n",
       "        vertical-align: top;\n",
       "    }\n",
       "\n",
       "    .dataframe thead th {\n",
       "        text-align: right;\n",
       "    }\n",
       "</style>\n",
       "<table border=\"1\" class=\"dataframe\">\n",
       "  <thead>\n",
       "    <tr style=\"text-align: right;\">\n",
       "      <th></th>\n",
       "      <th>R&amp;D Spend</th>\n",
       "      <th>Administration</th>\n",
       "      <th>Marketing Spend</th>\n",
       "      <th>State</th>\n",
       "    </tr>\n",
       "  </thead>\n",
       "  <tbody>\n",
       "    <tr>\n",
       "      <th>33</th>\n",
       "      <td>55493.95</td>\n",
       "      <td>103057.49</td>\n",
       "      <td>214634.81</td>\n",
       "      <td>1</td>\n",
       "    </tr>\n",
       "    <tr>\n",
       "      <th>35</th>\n",
       "      <td>46014.02</td>\n",
       "      <td>85047.44</td>\n",
       "      <td>205517.64</td>\n",
       "      <td>2</td>\n",
       "    </tr>\n",
       "    <tr>\n",
       "      <th>26</th>\n",
       "      <td>75328.87</td>\n",
       "      <td>144135.98</td>\n",
       "      <td>134050.07</td>\n",
       "      <td>1</td>\n",
       "    </tr>\n",
       "    <tr>\n",
       "      <th>34</th>\n",
       "      <td>46426.07</td>\n",
       "      <td>157693.92</td>\n",
       "      <td>210797.67</td>\n",
       "      <td>0</td>\n",
       "    </tr>\n",
       "    <tr>\n",
       "      <th>18</th>\n",
       "      <td>91749.16</td>\n",
       "      <td>114175.79</td>\n",
       "      <td>294919.57</td>\n",
       "      <td>1</td>\n",
       "    </tr>\n",
       "  </tbody>\n",
       "</table>\n",
       "</div>"
      ],
      "text/plain": [
       "    R&D Spend  Administration  Marketing Spend  State\n",
       "33   55493.95       103057.49        214634.81      1\n",
       "35   46014.02        85047.44        205517.64      2\n",
       "26   75328.87       144135.98        134050.07      1\n",
       "34   46426.07       157693.92        210797.67      0\n",
       "18   91749.16       114175.79        294919.57      1"
      ]
     },
     "execution_count": 35,
     "metadata": {},
     "output_type": "execute_result"
    }
   ],
   "source": [
    "X_train.head()"
   ]
  },
  {
   "cell_type": "code",
   "execution_count": 34,
   "metadata": {},
   "outputs": [
    {
     "data": {
      "text/plain": [
       "LinearRegression(copy_X=True, fit_intercept=True, n_jobs=1, normalize=False)"
      ]
     },
     "execution_count": 34,
     "metadata": {},
     "output_type": "execute_result"
    }
   ],
   "source": [
    "lin_reg.fit(X_train, y_train)"
   ]
  },
  {
   "cell_type": "code",
   "execution_count": 36,
   "metadata": {
    "scrolled": true
   },
   "outputs": [
    {
     "data": {
      "text/plain": [
       "array([[94973.48038961]])"
      ]
     },
     "execution_count": 36,
     "metadata": {},
     "output_type": "execute_result"
    }
   ],
   "source": [
    "lin_reg.predict([[55490, 104050.6, 163948, 1]])"
   ]
  },
  {
   "cell_type": "code",
   "execution_count": 61,
   "metadata": {},
   "outputs": [
    {
     "data": {
      "text/plain": [
       "array([7.77203690e-01, 3.02432445e-02, 3.49236072e-02, 3.15877202e+02])"
      ]
     },
     "execution_count": 61,
     "metadata": {},
     "output_type": "execute_result"
    }
   ],
   "source": [
    "lin_reg.coef_"
   ]
  },
  {
   "cell_type": "code",
   "execution_count": 37,
   "metadata": {},
   "outputs": [
    {
     "data": {
      "text/html": [
       "<div>\n",
       "<style scoped>\n",
       "    .dataframe tbody tr th:only-of-type {\n",
       "        vertical-align: middle;\n",
       "    }\n",
       "\n",
       "    .dataframe tbody tr th {\n",
       "        vertical-align: top;\n",
       "    }\n",
       "\n",
       "    .dataframe thead th {\n",
       "        text-align: right;\n",
       "    }\n",
       "</style>\n",
       "<table border=\"1\" class=\"dataframe\">\n",
       "  <thead>\n",
       "    <tr style=\"text-align: right;\">\n",
       "      <th></th>\n",
       "      <th>Treino</th>\n",
       "      <th>Teste</th>\n",
       "    </tr>\n",
       "  </thead>\n",
       "  <tbody>\n",
       "    <tr>\n",
       "      <th>mean_squared_error</th>\n",
       "      <td>81871927.547</td>\n",
       "      <td>78413822.172</td>\n",
       "    </tr>\n",
       "    <tr>\n",
       "      <th>mean_absolute_error</th>\n",
       "      <td>6363.728</td>\n",
       "      <td>7400.616</td>\n",
       "    </tr>\n",
       "    <tr>\n",
       "      <th>r2_score</th>\n",
       "      <td>0.950</td>\n",
       "      <td>0.939</td>\n",
       "    </tr>\n",
       "  </tbody>\n",
       "</table>\n",
       "</div>"
      ],
      "text/plain": [
       "                           Treino         Teste\n",
       "mean_squared_error   81871927.547  78413822.172\n",
       "mean_absolute_error      6363.728      7400.616\n",
       "r2_score                    0.950         0.939"
      ]
     },
     "execution_count": 37,
     "metadata": {},
     "output_type": "execute_result"
    }
   ],
   "source": [
    "reg_results_holdout(lin_reg, X_train, y_train, X_test, y_test)"
   ]
  },
  {
   "cell_type": "markdown",
   "metadata": {},
   "source": [
    "#### l1 e l2"
   ]
  },
  {
   "cell_type": "markdown",
   "metadata": {},
   "source": [
    "`l1`: Adiciona à função de custo um valor absoluto de magnitude dos coeficientes como uma penalidade\n",
    "$$F_{cost} = \\sum_{i = 1}^{n}(y_i - y_{pred_{i}}) + \\lambda \\sum_{j = 1}^{p}|\\beta_j|$$\n",
    "`l2`: Adiciona à função de custo um valor ao quadrado como penalidade\n",
    "$$F_{cost} = \\sum_{i = 1}^{n}(y_i - y_{pred_{i}}) + \\lambda \\sum_{j = 1}^{p}\\beta_j^2$$\n",
    "\n",
    "A norma l1 tem a capacidade de zerar coeficientes pela região em que intercepta as curvas $\\beta$, enquanto a norma l2 diminui os coeficientes mas quase nunca zera.\n",
    "\n",
    "<img src=\"l1_l2.png\" width=\"400\">\n",
    "\n",
    "`Nota`: **Lasso** é um modelo que utiliza a norma l1 como penalização dos coeficientes e **Ridge** é um modelo que utiliza a norma l2 como penalização dos coeficientes"
   ]
  },
  {
   "cell_type": "markdown",
   "metadata": {},
   "source": [
    "##### Lasso"
   ]
  },
  {
   "cell_type": "code",
   "execution_count": 40,
   "metadata": {},
   "outputs": [],
   "source": [
    "from sklearn.linear_model import Lasso\n",
    "#alpha é o lambda  :P\n",
    "#se alpha = 0, o modelo é equivalente ao OLS\n",
    "lasso = Lasso(alpha=1.0, fit_intercept=True, normalize=False, precompute=False, copy_X=True, max_iter=1000, tol=0.0001, \n",
    "              warm_start=False, positive=False, random_state=None, selection='cyclic')"
   ]
  },
  {
   "cell_type": "code",
   "execution_count": 41,
   "metadata": {},
   "outputs": [
    {
     "data": {
      "text/plain": [
       "Lasso(alpha=1.0, copy_X=True, fit_intercept=True, max_iter=1000,\n",
       "   normalize=False, positive=False, precompute=False, random_state=None,\n",
       "   selection='cyclic', tol=0.0001, warm_start=False)"
      ]
     },
     "execution_count": 41,
     "metadata": {},
     "output_type": "execute_result"
    }
   ],
   "source": [
    "lasso.fit(X_train, y_train)"
   ]
  },
  {
   "cell_type": "code",
   "execution_count": 42,
   "metadata": {},
   "outputs": [
    {
     "data": {
      "text/plain": [
       "array([94973.40252365])"
      ]
     },
     "execution_count": 42,
     "metadata": {},
     "output_type": "execute_result"
    }
   ],
   "source": [
    "lasso.predict([[55490, 104050.6, 163948, 1]])"
   ]
  },
  {
   "cell_type": "code",
   "execution_count": 44,
   "metadata": {},
   "outputs": [
    {
     "data": {
      "text/plain": [
       "array([7.77210914e-01, 3.02394872e-02, 3.49226656e-02, 3.14483927e+02])"
      ]
     },
     "execution_count": 44,
     "metadata": {},
     "output_type": "execute_result"
    }
   ],
   "source": [
    "#coeficientes do modelo linear\n",
    "lasso.coef_"
   ]
  },
  {
   "cell_type": "markdown",
   "metadata": {},
   "source": [
    "Holdout"
   ]
  },
  {
   "cell_type": "code",
   "execution_count": 49,
   "metadata": {},
   "outputs": [
    {
     "data": {
      "text/html": [
       "<div>\n",
       "<style scoped>\n",
       "    .dataframe tbody tr th:only-of-type {\n",
       "        vertical-align: middle;\n",
       "    }\n",
       "\n",
       "    .dataframe tbody tr th {\n",
       "        vertical-align: top;\n",
       "    }\n",
       "\n",
       "    .dataframe thead th {\n",
       "        text-align: right;\n",
       "    }\n",
       "</style>\n",
       "<table border=\"1\" class=\"dataframe\">\n",
       "  <thead>\n",
       "    <tr style=\"text-align: right;\">\n",
       "      <th></th>\n",
       "      <th>Treino</th>\n",
       "      <th>Teste</th>\n",
       "    </tr>\n",
       "  </thead>\n",
       "  <tbody>\n",
       "    <tr>\n",
       "      <th>mean_squared_error</th>\n",
       "      <td>81871928.941</td>\n",
       "      <td>78409578.915</td>\n",
       "    </tr>\n",
       "    <tr>\n",
       "      <th>mean_absolute_error</th>\n",
       "      <td>6363.547</td>\n",
       "      <td>7400.263</td>\n",
       "    </tr>\n",
       "    <tr>\n",
       "      <th>r2_score</th>\n",
       "      <td>0.950</td>\n",
       "      <td>0.939</td>\n",
       "    </tr>\n",
       "  </tbody>\n",
       "</table>\n",
       "</div>"
      ],
      "text/plain": [
       "                           Treino         Teste\n",
       "mean_squared_error   81871928.941  78409578.915\n",
       "mean_absolute_error      6363.547      7400.263\n",
       "r2_score                    0.950         0.939"
      ]
     },
     "execution_count": 49,
     "metadata": {},
     "output_type": "execute_result"
    }
   ],
   "source": [
    "reg_results_holdout(lasso, X_train, y_train, X_test, y_test)"
   ]
  },
  {
   "cell_type": "markdown",
   "metadata": {},
   "source": [
    "CV"
   ]
  },
  {
   "cell_type": "code",
   "execution_count": 54,
   "metadata": {},
   "outputs": [
    {
     "data": {
      "text/html": [
       "<div>\n",
       "<style scoped>\n",
       "    .dataframe tbody tr th:only-of-type {\n",
       "        vertical-align: middle;\n",
       "    }\n",
       "\n",
       "    .dataframe tbody tr th {\n",
       "        vertical-align: top;\n",
       "    }\n",
       "\n",
       "    .dataframe thead th {\n",
       "        text-align: right;\n",
       "    }\n",
       "</style>\n",
       "<table border=\"1\" class=\"dataframe\">\n",
       "  <thead>\n",
       "    <tr style=\"text-align: right;\">\n",
       "      <th></th>\n",
       "      <th>explained_variance_Treino</th>\n",
       "      <th>explained_variance_Teste</th>\n",
       "      <th>neg_mean_absolute_error_Treino</th>\n",
       "      <th>neg_mean_absolute_error_Teste</th>\n",
       "      <th>neg_mean_squared_error_Treino</th>\n",
       "      <th>neg_mean_squared_error_Teste</th>\n",
       "      <th>neg_median_absolute_error_Treino</th>\n",
       "      <th>neg_median_absolute_error_Teste</th>\n",
       "      <th>r2_Treino</th>\n",
       "      <th>r2_Teste</th>\n",
       "    </tr>\n",
       "  </thead>\n",
       "  <tbody>\n",
       "    <tr>\n",
       "      <th>0</th>\n",
       "      <td>0.960281</td>\n",
       "      <td>0.799580</td>\n",
       "      <td>-5995.127755</td>\n",
       "      <td>-9326.727466</td>\n",
       "      <td>-7.461257e+07</td>\n",
       "      <td>-1.350311e+08</td>\n",
       "      <td>-4369.811000</td>\n",
       "      <td>-6044.517151</td>\n",
       "      <td>0.960281</td>\n",
       "      <td>0.799436</td>\n",
       "    </tr>\n",
       "    <tr>\n",
       "      <th>1</th>\n",
       "      <td>0.953117</td>\n",
       "      <td>0.890481</td>\n",
       "      <td>-6636.670264</td>\n",
       "      <td>-7340.832735</td>\n",
       "      <td>-8.383498e+07</td>\n",
       "      <td>-9.886790e+07</td>\n",
       "      <td>-5769.919739</td>\n",
       "      <td>-4365.056802</td>\n",
       "      <td>0.953117</td>\n",
       "      <td>0.884993</td>\n",
       "    </tr>\n",
       "    <tr>\n",
       "      <th>2</th>\n",
       "      <td>0.961225</td>\n",
       "      <td>0.915803</td>\n",
       "      <td>-5900.715688</td>\n",
       "      <td>-8230.275844</td>\n",
       "      <td>-5.932795e+07</td>\n",
       "      <td>-1.797434e+08</td>\n",
       "      <td>-3758.395888</td>\n",
       "      <td>-4744.869898</td>\n",
       "      <td>0.961225</td>\n",
       "      <td>0.911928</td>\n",
       "    </tr>\n",
       "    <tr>\n",
       "      <th>3</th>\n",
       "      <td>0.949317</td>\n",
       "      <td>0.949031</td>\n",
       "      <td>-6693.014494</td>\n",
       "      <td>-6601.670245</td>\n",
       "      <td>-8.599678e+07</td>\n",
       "      <td>-7.207561e+07</td>\n",
       "      <td>-4942.248444</td>\n",
       "      <td>-5819.876883</td>\n",
       "      <td>0.949317</td>\n",
       "      <td>0.934711</td>\n",
       "    </tr>\n",
       "    <tr>\n",
       "      <th>4</th>\n",
       "      <td>0.929199</td>\n",
       "      <td>0.974227</td>\n",
       "      <td>-6338.701819</td>\n",
       "      <td>-7054.842046</td>\n",
       "      <td>-8.983680e+07</td>\n",
       "      <td>-8.016930e+07</td>\n",
       "      <td>-3771.095384</td>\n",
       "      <td>-4526.070776</td>\n",
       "      <td>0.929199</td>\n",
       "      <td>0.974221</td>\n",
       "    </tr>\n",
       "    <tr>\n",
       "      <th>media</th>\n",
       "      <td>0.950628</td>\n",
       "      <td>0.905824</td>\n",
       "      <td>-6312.846004</td>\n",
       "      <td>-7710.869667</td>\n",
       "      <td>-7.872182e+07</td>\n",
       "      <td>-1.131775e+08</td>\n",
       "      <td>-4522.294091</td>\n",
       "      <td>-5100.078302</td>\n",
       "      <td>0.950628</td>\n",
       "      <td>0.901058</td>\n",
       "    </tr>\n",
       "  </tbody>\n",
       "</table>\n",
       "</div>"
      ],
      "text/plain": [
       "       explained_variance_Treino  explained_variance_Teste  \\\n",
       "0                       0.960281                  0.799580   \n",
       "1                       0.953117                  0.890481   \n",
       "2                       0.961225                  0.915803   \n",
       "3                       0.949317                  0.949031   \n",
       "4                       0.929199                  0.974227   \n",
       "media                   0.950628                  0.905824   \n",
       "\n",
       "       neg_mean_absolute_error_Treino  neg_mean_absolute_error_Teste  \\\n",
       "0                        -5995.127755                   -9326.727466   \n",
       "1                        -6636.670264                   -7340.832735   \n",
       "2                        -5900.715688                   -8230.275844   \n",
       "3                        -6693.014494                   -6601.670245   \n",
       "4                        -6338.701819                   -7054.842046   \n",
       "media                    -6312.846004                   -7710.869667   \n",
       "\n",
       "       neg_mean_squared_error_Treino  neg_mean_squared_error_Teste  \\\n",
       "0                      -7.461257e+07                 -1.350311e+08   \n",
       "1                      -8.383498e+07                 -9.886790e+07   \n",
       "2                      -5.932795e+07                 -1.797434e+08   \n",
       "3                      -8.599678e+07                 -7.207561e+07   \n",
       "4                      -8.983680e+07                 -8.016930e+07   \n",
       "media                  -7.872182e+07                 -1.131775e+08   \n",
       "\n",
       "       neg_median_absolute_error_Treino  neg_median_absolute_error_Teste  \\\n",
       "0                          -4369.811000                     -6044.517151   \n",
       "1                          -5769.919739                     -4365.056802   \n",
       "2                          -3758.395888                     -4744.869898   \n",
       "3                          -4942.248444                     -5819.876883   \n",
       "4                          -3771.095384                     -4526.070776   \n",
       "media                      -4522.294091                     -5100.078302   \n",
       "\n",
       "       r2_Treino  r2_Teste  \n",
       "0       0.960281  0.799436  \n",
       "1       0.953117  0.884993  \n",
       "2       0.961225  0.911928  \n",
       "3       0.949317  0.934711  \n",
       "4       0.929199  0.974221  \n",
       "media   0.950628  0.901058  "
      ]
     },
     "execution_count": 54,
     "metadata": {},
     "output_type": "execute_result"
    }
   ],
   "source": [
    "reg_results_cv(lasso, X_train, y_train, cv_kfold)"
   ]
  },
  {
   "cell_type": "markdown",
   "metadata": {},
   "source": [
    "##### Ridge"
   ]
  },
  {
   "cell_type": "code",
   "execution_count": 74,
   "metadata": {},
   "outputs": [],
   "source": [
    "from sklearn.linear_model import Ridge\n",
    "\n",
    "ridge = Ridge(alpha=1.0, fit_intercept=True, normalize=False, copy_X=True, max_iter=None, tol=0.001, solver='auto', \n",
    "              random_state=None)"
   ]
  },
  {
   "cell_type": "code",
   "execution_count": 75,
   "metadata": {},
   "outputs": [
    {
     "data": {
      "text/plain": [
       "Ridge(alpha=1.0, copy_X=True, fit_intercept=True, max_iter=None,\n",
       "   normalize=False, random_state=None, solver='auto', tol=0.001)"
      ]
     },
     "execution_count": 75,
     "metadata": {},
     "output_type": "execute_result"
    }
   ],
   "source": [
    "ridge.fit(X_train, y_train)"
   ]
  },
  {
   "cell_type": "code",
   "execution_count": 76,
   "metadata": {},
   "outputs": [
    {
     "data": {
      "text/plain": [
       "array([[94972.88593105]])"
      ]
     },
     "execution_count": 76,
     "metadata": {},
     "output_type": "execute_result"
    }
   ],
   "source": [
    "ridge.predict([[55490, 104050.6, 163948, 1]])"
   ]
  },
  {
   "cell_type": "code",
   "execution_count": 77,
   "metadata": {},
   "outputs": [
    {
     "data": {
      "text/plain": [
       "array([[7.77258802e-01, 3.02145889e-02, 3.49164259e-02, 3.05245020e+02]])"
      ]
     },
     "execution_count": 77,
     "metadata": {},
     "output_type": "execute_result"
    }
   ],
   "source": [
    "ridge.coef_"
   ]
  },
  {
   "cell_type": "markdown",
   "metadata": {},
   "source": [
    "Holdout"
   ]
  },
  {
   "cell_type": "code",
   "execution_count": 78,
   "metadata": {},
   "outputs": [
    {
     "data": {
      "text/html": [
       "<div>\n",
       "<style scoped>\n",
       "    .dataframe tbody tr th:only-of-type {\n",
       "        vertical-align: middle;\n",
       "    }\n",
       "\n",
       "    .dataframe tbody tr th {\n",
       "        vertical-align: top;\n",
       "    }\n",
       "\n",
       "    .dataframe thead th {\n",
       "        text-align: right;\n",
       "    }\n",
       "</style>\n",
       "<table border=\"1\" class=\"dataframe\">\n",
       "  <thead>\n",
       "    <tr style=\"text-align: right;\">\n",
       "      <th></th>\n",
       "      <th>Treino</th>\n",
       "      <th>Teste</th>\n",
       "    </tr>\n",
       "  </thead>\n",
       "  <tbody>\n",
       "    <tr>\n",
       "      <th>mean_squared_error</th>\n",
       "      <td>81872008.683</td>\n",
       "      <td>78381502.762</td>\n",
       "    </tr>\n",
       "    <tr>\n",
       "      <th>mean_absolute_error</th>\n",
       "      <td>6362.343</td>\n",
       "      <td>7397.918</td>\n",
       "    </tr>\n",
       "    <tr>\n",
       "      <th>r2_score</th>\n",
       "      <td>0.950</td>\n",
       "      <td>0.939</td>\n",
       "    </tr>\n",
       "  </tbody>\n",
       "</table>\n",
       "</div>"
      ],
      "text/plain": [
       "                           Treino         Teste\n",
       "mean_squared_error   81872008.683  78381502.762\n",
       "mean_absolute_error      6362.343      7397.918\n",
       "r2_score                    0.950         0.939"
      ]
     },
     "execution_count": 78,
     "metadata": {},
     "output_type": "execute_result"
    }
   ],
   "source": [
    "reg_results_holdout(ridge, X_train, y_train, X_test, y_test)"
   ]
  },
  {
   "cell_type": "markdown",
   "metadata": {},
   "source": [
    "CV"
   ]
  },
  {
   "cell_type": "code",
   "execution_count": 80,
   "metadata": {},
   "outputs": [
    {
     "data": {
      "text/html": [
       "<div>\n",
       "<style scoped>\n",
       "    .dataframe tbody tr th:only-of-type {\n",
       "        vertical-align: middle;\n",
       "    }\n",
       "\n",
       "    .dataframe tbody tr th {\n",
       "        vertical-align: top;\n",
       "    }\n",
       "\n",
       "    .dataframe thead th {\n",
       "        text-align: right;\n",
       "    }\n",
       "</style>\n",
       "<table border=\"1\" class=\"dataframe\">\n",
       "  <thead>\n",
       "    <tr style=\"text-align: right;\">\n",
       "      <th></th>\n",
       "      <th>explained_variance_Treino</th>\n",
       "      <th>explained_variance_Teste</th>\n",
       "      <th>neg_mean_absolute_error_Treino</th>\n",
       "      <th>neg_mean_absolute_error_Teste</th>\n",
       "      <th>neg_mean_squared_error_Treino</th>\n",
       "      <th>neg_mean_squared_error_Teste</th>\n",
       "      <th>neg_median_absolute_error_Treino</th>\n",
       "      <th>neg_median_absolute_error_Teste</th>\n",
       "      <th>r2_Treino</th>\n",
       "      <th>r2_Teste</th>\n",
       "    </tr>\n",
       "  </thead>\n",
       "  <tbody>\n",
       "    <tr>\n",
       "      <th>0</th>\n",
       "      <td>0.960280</td>\n",
       "      <td>0.800175</td>\n",
       "      <td>-6001.766534</td>\n",
       "      <td>-9315.801360</td>\n",
       "      <td>-7.461370e+07</td>\n",
       "      <td>-1.346251e+08</td>\n",
       "      <td>-4358.943134</td>\n",
       "      <td>-6041.913114</td>\n",
       "      <td>0.960280</td>\n",
       "      <td>0.800039</td>\n",
       "    </tr>\n",
       "    <tr>\n",
       "      <th>1</th>\n",
       "      <td>0.953113</td>\n",
       "      <td>0.892227</td>\n",
       "      <td>-6624.587765</td>\n",
       "      <td>-7278.052389</td>\n",
       "      <td>-8.384174e+07</td>\n",
       "      <td>-9.738243e+07</td>\n",
       "      <td>-5805.083318</td>\n",
       "      <td>-4261.041581</td>\n",
       "      <td>0.953113</td>\n",
       "      <td>0.886721</td>\n",
       "    </tr>\n",
       "    <tr>\n",
       "      <th>2</th>\n",
       "      <td>0.961225</td>\n",
       "      <td>0.915829</td>\n",
       "      <td>-5901.484766</td>\n",
       "      <td>-8232.364633</td>\n",
       "      <td>-5.932804e+07</td>\n",
       "      <td>-1.796964e+08</td>\n",
       "      <td>-3758.645474</td>\n",
       "      <td>-4754.801510</td>\n",
       "      <td>0.961225</td>\n",
       "      <td>0.911951</td>\n",
       "    </tr>\n",
       "    <tr>\n",
       "      <th>3</th>\n",
       "      <td>0.949316</td>\n",
       "      <td>0.949181</td>\n",
       "      <td>-6684.881539</td>\n",
       "      <td>-6570.251944</td>\n",
       "      <td>-8.599820e+07</td>\n",
       "      <td>-7.183779e+07</td>\n",
       "      <td>-4929.204523</td>\n",
       "      <td>-5764.040497</td>\n",
       "      <td>0.949316</td>\n",
       "      <td>0.934927</td>\n",
       "    </tr>\n",
       "    <tr>\n",
       "      <th>4</th>\n",
       "      <td>0.929198</td>\n",
       "      <td>0.974296</td>\n",
       "      <td>-6344.131238</td>\n",
       "      <td>-7034.265889</td>\n",
       "      <td>-8.983730e+07</td>\n",
       "      <td>-7.995386e+07</td>\n",
       "      <td>-3772.569525</td>\n",
       "      <td>-4500.878077</td>\n",
       "      <td>0.929198</td>\n",
       "      <td>0.974290</td>\n",
       "    </tr>\n",
       "    <tr>\n",
       "      <th>media</th>\n",
       "      <td>0.950627</td>\n",
       "      <td>0.906342</td>\n",
       "      <td>-6311.370368</td>\n",
       "      <td>-7686.147243</td>\n",
       "      <td>-7.872380e+07</td>\n",
       "      <td>-1.126991e+08</td>\n",
       "      <td>-4524.889195</td>\n",
       "      <td>-5064.534956</td>\n",
       "      <td>0.950627</td>\n",
       "      <td>0.901585</td>\n",
       "    </tr>\n",
       "  </tbody>\n",
       "</table>\n",
       "</div>"
      ],
      "text/plain": [
       "       explained_variance_Treino  explained_variance_Teste  \\\n",
       "0                       0.960280                  0.800175   \n",
       "1                       0.953113                  0.892227   \n",
       "2                       0.961225                  0.915829   \n",
       "3                       0.949316                  0.949181   \n",
       "4                       0.929198                  0.974296   \n",
       "media                   0.950627                  0.906342   \n",
       "\n",
       "       neg_mean_absolute_error_Treino  neg_mean_absolute_error_Teste  \\\n",
       "0                        -6001.766534                   -9315.801360   \n",
       "1                        -6624.587765                   -7278.052389   \n",
       "2                        -5901.484766                   -8232.364633   \n",
       "3                        -6684.881539                   -6570.251944   \n",
       "4                        -6344.131238                   -7034.265889   \n",
       "media                    -6311.370368                   -7686.147243   \n",
       "\n",
       "       neg_mean_squared_error_Treino  neg_mean_squared_error_Teste  \\\n",
       "0                      -7.461370e+07                 -1.346251e+08   \n",
       "1                      -8.384174e+07                 -9.738243e+07   \n",
       "2                      -5.932804e+07                 -1.796964e+08   \n",
       "3                      -8.599820e+07                 -7.183779e+07   \n",
       "4                      -8.983730e+07                 -7.995386e+07   \n",
       "media                  -7.872380e+07                 -1.126991e+08   \n",
       "\n",
       "       neg_median_absolute_error_Treino  neg_median_absolute_error_Teste  \\\n",
       "0                          -4358.943134                     -6041.913114   \n",
       "1                          -5805.083318                     -4261.041581   \n",
       "2                          -3758.645474                     -4754.801510   \n",
       "3                          -4929.204523                     -5764.040497   \n",
       "4                          -3772.569525                     -4500.878077   \n",
       "media                      -4524.889195                     -5064.534956   \n",
       "\n",
       "       r2_Treino  r2_Teste  \n",
       "0       0.960280  0.800039  \n",
       "1       0.953113  0.886721  \n",
       "2       0.961225  0.911951  \n",
       "3       0.949316  0.934927  \n",
       "4       0.929198  0.974290  \n",
       "media   0.950627  0.901585  "
      ]
     },
     "execution_count": 80,
     "metadata": {},
     "output_type": "execute_result"
    }
   ],
   "source": [
    "reg_results_cv(ridge, X_train, y_train, cv_kfold)"
   ]
  },
  {
   "cell_type": "markdown",
   "metadata": {},
   "source": [
    "##### Elastic Net"
   ]
  },
  {
   "cell_type": "markdown",
   "metadata": {},
   "source": [
    "Combinação da norma l1 com a norma l2\n",
    "$$J = MSE + a * l1 + (1-a) * l2$$"
   ]
  },
  {
   "cell_type": "code",
   "execution_count": 87,
   "metadata": {},
   "outputs": [],
   "source": [
    "from sklearn.linear_model import ElasticNet\n",
    "#se l1_ratio = 0, a norma é a l2\n",
    "elastic = ElasticNet(alpha=1.0, l1_ratio=0.5, fit_intercept=True, normalize=False, precompute=False, max_iter=1000, copy_X=True, \n",
    "                     tol=0.0001, warm_start=False, positive=False, random_state=None, selection='cyclic')"
   ]
  },
  {
   "cell_type": "code",
   "execution_count": 88,
   "metadata": {},
   "outputs": [
    {
     "data": {
      "text/plain": [
       "ElasticNet(alpha=1.0, copy_X=True, fit_intercept=True, l1_ratio=0.5,\n",
       "      max_iter=1000, normalize=False, positive=False, precompute=False,\n",
       "      random_state=None, selection='cyclic', tol=0.0001, warm_start=False)"
      ]
     },
     "execution_count": 88,
     "metadata": {},
     "output_type": "execute_result"
    }
   ],
   "source": [
    "elastic.fit(X_train, y_train)"
   ]
  },
  {
   "cell_type": "code",
   "execution_count": 89,
   "metadata": {},
   "outputs": [
    {
     "data": {
      "text/plain": [
       "array([94966.20585529])"
      ]
     },
     "execution_count": 89,
     "metadata": {},
     "output_type": "execute_result"
    }
   ],
   "source": [
    "elastic.predict([[55490, 104050.6, 163948, 1]])"
   ]
  },
  {
   "cell_type": "code",
   "execution_count": 90,
   "metadata": {},
   "outputs": [
    {
     "data": {
      "text/plain": [
       "array([7.77878112e-01, 2.98925769e-02, 3.48357278e-02, 1.85768305e+02])"
      ]
     },
     "execution_count": 90,
     "metadata": {},
     "output_type": "execute_result"
    }
   ],
   "source": [
    "elastic.coef_"
   ]
  },
  {
   "cell_type": "markdown",
   "metadata": {},
   "source": [
    "Holdout"
   ]
  },
  {
   "cell_type": "code",
   "execution_count": 91,
   "metadata": {},
   "outputs": [
    {
     "data": {
      "text/html": [
       "<div>\n",
       "<style scoped>\n",
       "    .dataframe tbody tr th:only-of-type {\n",
       "        vertical-align: middle;\n",
       "    }\n",
       "\n",
       "    .dataframe tbody tr th {\n",
       "        vertical-align: top;\n",
       "    }\n",
       "\n",
       "    .dataframe thead th {\n",
       "        text-align: right;\n",
       "    }\n",
       "</style>\n",
       "<table border=\"1\" class=\"dataframe\">\n",
       "  <thead>\n",
       "    <tr style=\"text-align: right;\">\n",
       "      <th></th>\n",
       "      <th>Treino</th>\n",
       "      <th>Teste</th>\n",
       "    </tr>\n",
       "  </thead>\n",
       "  <tbody>\n",
       "    <tr>\n",
       "      <th>mean_squared_error</th>\n",
       "      <td>81884077.657</td>\n",
       "      <td>78026839.429</td>\n",
       "    </tr>\n",
       "    <tr>\n",
       "      <th>mean_absolute_error</th>\n",
       "      <td>6346.780</td>\n",
       "      <td>7367.593</td>\n",
       "    </tr>\n",
       "    <tr>\n",
       "      <th>r2_score</th>\n",
       "      <td>0.950</td>\n",
       "      <td>0.939</td>\n",
       "    </tr>\n",
       "  </tbody>\n",
       "</table>\n",
       "</div>"
      ],
      "text/plain": [
       "                           Treino         Teste\n",
       "mean_squared_error   81884077.657  78026839.429\n",
       "mean_absolute_error      6346.780      7367.593\n",
       "r2_score                    0.950         0.939"
      ]
     },
     "execution_count": 91,
     "metadata": {},
     "output_type": "execute_result"
    }
   ],
   "source": [
    "reg_results_holdout(elastic, X_train, y_train, X_test, y_test)"
   ]
  },
  {
   "cell_type": "markdown",
   "metadata": {},
   "source": [
    "CV"
   ]
  },
  {
   "cell_type": "code",
   "execution_count": 92,
   "metadata": {},
   "outputs": [
    {
     "data": {
      "text/html": [
       "<div>\n",
       "<style scoped>\n",
       "    .dataframe tbody tr th:only-of-type {\n",
       "        vertical-align: middle;\n",
       "    }\n",
       "\n",
       "    .dataframe tbody tr th {\n",
       "        vertical-align: top;\n",
       "    }\n",
       "\n",
       "    .dataframe thead th {\n",
       "        text-align: right;\n",
       "    }\n",
       "</style>\n",
       "<table border=\"1\" class=\"dataframe\">\n",
       "  <thead>\n",
       "    <tr style=\"text-align: right;\">\n",
       "      <th></th>\n",
       "      <th>explained_variance_Treino</th>\n",
       "      <th>explained_variance_Teste</th>\n",
       "      <th>neg_mean_absolute_error_Treino</th>\n",
       "      <th>neg_mean_absolute_error_Teste</th>\n",
       "      <th>neg_mean_squared_error_Treino</th>\n",
       "      <th>neg_mean_squared_error_Teste</th>\n",
       "      <th>neg_median_absolute_error_Treino</th>\n",
       "      <th>neg_median_absolute_error_Teste</th>\n",
       "      <th>r2_Treino</th>\n",
       "      <th>r2_Teste</th>\n",
       "    </tr>\n",
       "  </thead>\n",
       "  <tbody>\n",
       "    <tr>\n",
       "      <th>0</th>\n",
       "      <td>0.960219</td>\n",
       "      <td>0.805715</td>\n",
       "      <td>-6074.936267</td>\n",
       "      <td>-9212.389021</td>\n",
       "      <td>-7.472942e+07</td>\n",
       "      <td>-1.308543e+08</td>\n",
       "      <td>-4653.578968</td>\n",
       "      <td>-6126.480142</td>\n",
       "      <td>0.960219</td>\n",
       "      <td>0.805640</td>\n",
       "    </tr>\n",
       "    <tr>\n",
       "      <th>1</th>\n",
       "      <td>0.952764</td>\n",
       "      <td>0.906736</td>\n",
       "      <td>-6577.614293</td>\n",
       "      <td>-6725.524427</td>\n",
       "      <td>-8.446741e+07</td>\n",
       "      <td>-8.504714e+07</td>\n",
       "      <td>-5278.097973</td>\n",
       "      <td>-3345.606971</td>\n",
       "      <td>0.952764</td>\n",
       "      <td>0.901070</td>\n",
       "    </tr>\n",
       "    <tr>\n",
       "      <th>2</th>\n",
       "      <td>0.961220</td>\n",
       "      <td>0.916077</td>\n",
       "      <td>-5909.130637</td>\n",
       "      <td>-8253.130817</td>\n",
       "      <td>-5.933596e+07</td>\n",
       "      <td>-1.792396e+08</td>\n",
       "      <td>-3761.126781</td>\n",
       "      <td>-4853.538023</td>\n",
       "      <td>0.961220</td>\n",
       "      <td>0.912175</td>\n",
       "    </tr>\n",
       "    <tr>\n",
       "      <th>3</th>\n",
       "      <td>0.949239</td>\n",
       "      <td>0.950353</td>\n",
       "      <td>-6622.901644</td>\n",
       "      <td>-6335.825214</td>\n",
       "      <td>-8.612843e+07</td>\n",
       "      <td>-6.990634e+07</td>\n",
       "      <td>-4813.106567</td>\n",
       "      <td>-5267.065384</td>\n",
       "      <td>0.949239</td>\n",
       "      <td>0.936676</td>\n",
       "    </tr>\n",
       "    <tr>\n",
       "      <th>4</th>\n",
       "      <td>0.929160</td>\n",
       "      <td>0.974926</td>\n",
       "      <td>-6405.029251</td>\n",
       "      <td>-6842.847637</td>\n",
       "      <td>-8.988527e+07</td>\n",
       "      <td>-7.800173e+07</td>\n",
       "      <td>-3786.283001</td>\n",
       "      <td>-4266.512765</td>\n",
       "      <td>0.929160</td>\n",
       "      <td>0.974918</td>\n",
       "    </tr>\n",
       "    <tr>\n",
       "      <th>media</th>\n",
       "      <td>0.950520</td>\n",
       "      <td>0.910761</td>\n",
       "      <td>-6317.922418</td>\n",
       "      <td>-7473.943423</td>\n",
       "      <td>-7.890930e+07</td>\n",
       "      <td>-1.086098e+08</td>\n",
       "      <td>-4458.438658</td>\n",
       "      <td>-4771.840657</td>\n",
       "      <td>0.950520</td>\n",
       "      <td>0.906096</td>\n",
       "    </tr>\n",
       "  </tbody>\n",
       "</table>\n",
       "</div>"
      ],
      "text/plain": [
       "       explained_variance_Treino  explained_variance_Teste  \\\n",
       "0                       0.960219                  0.805715   \n",
       "1                       0.952764                  0.906736   \n",
       "2                       0.961220                  0.916077   \n",
       "3                       0.949239                  0.950353   \n",
       "4                       0.929160                  0.974926   \n",
       "media                   0.950520                  0.910761   \n",
       "\n",
       "       neg_mean_absolute_error_Treino  neg_mean_absolute_error_Teste  \\\n",
       "0                        -6074.936267                   -9212.389021   \n",
       "1                        -6577.614293                   -6725.524427   \n",
       "2                        -5909.130637                   -8253.130817   \n",
       "3                        -6622.901644                   -6335.825214   \n",
       "4                        -6405.029251                   -6842.847637   \n",
       "media                    -6317.922418                   -7473.943423   \n",
       "\n",
       "       neg_mean_squared_error_Treino  neg_mean_squared_error_Teste  \\\n",
       "0                      -7.472942e+07                 -1.308543e+08   \n",
       "1                      -8.446741e+07                 -8.504714e+07   \n",
       "2                      -5.933596e+07                 -1.792396e+08   \n",
       "3                      -8.612843e+07                 -6.990634e+07   \n",
       "4                      -8.988527e+07                 -7.800173e+07   \n",
       "media                  -7.890930e+07                 -1.086098e+08   \n",
       "\n",
       "       neg_median_absolute_error_Treino  neg_median_absolute_error_Teste  \\\n",
       "0                          -4653.578968                     -6126.480142   \n",
       "1                          -5278.097973                     -3345.606971   \n",
       "2                          -3761.126781                     -4853.538023   \n",
       "3                          -4813.106567                     -5267.065384   \n",
       "4                          -3786.283001                     -4266.512765   \n",
       "media                      -4458.438658                     -4771.840657   \n",
       "\n",
       "       r2_Treino  r2_Teste  \n",
       "0       0.960219  0.805640  \n",
       "1       0.952764  0.901070  \n",
       "2       0.961220  0.912175  \n",
       "3       0.949239  0.936676  \n",
       "4       0.929160  0.974918  \n",
       "media   0.950520  0.906096  "
      ]
     },
     "execution_count": 92,
     "metadata": {},
     "output_type": "execute_result"
    }
   ],
   "source": [
    "reg_results_cv(elastic, X_train, y_train, cv_kfold)"
   ]
  },
  {
   "cell_type": "markdown",
   "metadata": {},
   "source": [
    "##### KNN Regressor"
   ]
  },
  {
   "cell_type": "markdown",
   "metadata": {},
   "source": [
    "##### Árvore de Regressão"
   ]
  },
  {
   "cell_type": "markdown",
   "metadata": {},
   "source": [
    "##### SVR"
   ]
  }
 ],
 "metadata": {
  "kernelspec": {
   "display_name": "Python 3",
   "language": "python",
   "name": "python3"
  },
  "language_info": {
   "codemirror_mode": {
    "name": "ipython",
    "version": 3
   },
   "file_extension": ".py",
   "mimetype": "text/x-python",
   "name": "python",
   "nbconvert_exporter": "python",
   "pygments_lexer": "ipython3",
   "version": "3.6.5"
  }
 },
 "nbformat": 4,
 "nbformat_minor": 2
}
